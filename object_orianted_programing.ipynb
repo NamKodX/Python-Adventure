{
 "cells": [
  {
   "cell_type": "markdown",
   "id": "5adca492",
   "metadata": {},
   "source": [
    "# Python Nesne Tabanlı Programlama(OOP)"
   ]
  },
  {
   "cell_type": "raw",
   "id": "a1d51db9",
   "metadata": {
    "slideshow": {
     "slide_type": "-"
    }
   },
   "source": [
    "In your terminal/notebook:\n",
    "1) pip install jupyterthemes\n",
    "2) jt -t monokai -T -N\n",
    "3) Re-launch/refresh your notebook\n",
    "Done!\n",
    "Jupyter Notebook Tema Değiştirme"
   ]
  },
  {
   "cell_type": "markdown",
   "id": "6bc0c734",
   "metadata": {},
   "source": [
    "## Class(Sınıf kavramı):"
   ]
  },
  {
   "cell_type": "code",
   "execution_count": 2,
   "id": "376d0924",
   "metadata": {},
   "outputs": [],
   "source": [
    "#Class bu şekilde tanımlanır ve class değişkeni büyük harfle başlar\n",
    "class Person:\n",
    "    pass  \n",
    "#Pass yazar isek çalışsada içeride komut olmadığı halde hata vermez.Koşullarda da kullanılabilir"
   ]
  },
  {
   "cell_type": "code",
   "execution_count": 3,
   "id": "1bf0de89",
   "metadata": {
    "slideshow": {
     "slide_type": "-"
    }
   },
   "outputs": [],
   "source": [
    "p1 = Person()  \n",
    "#Yazdığımızda p1 yazdığımızda Person clasının metodlarına yani fonksiyonlarına ulaşabiliriz\n",
    "#Bu tanımlanan şeyin adı objedir(object)\n",
    "#Aynı kütüphane tanımlamalarında numpy as np gibi burada da Person yerine p1 kullanmak yeterli olacaktır\n",
    "p2 = Person()"
   ]
  },
  {
   "cell_type": "code",
   "execution_count": 4,
   "id": "895810a0",
   "metadata": {},
   "outputs": [
    {
     "name": "stdout",
     "output_type": "stream",
     "text": [
      "<__main__.Person object at 0x000001BC7620A640> \n",
      " <__main__.Person object at 0x000001BC761F80A0>\n"
     ]
    }
   ],
   "source": [
    "print(p1,\"\\n\",p2)\n",
    "#Sadece classları print ile çağırdığımızda bizlere adres verir.Ve farklı tanımlar için ayrı adresler verir."
   ]
  },
  {
   "cell_type": "code",
   "execution_count": 6,
   "id": "f538fb42",
   "metadata": {},
   "outputs": [
    {
     "name": "stdout",
     "output_type": "stream",
     "text": [
      "<class '__main__.Person'> \n",
      " <class '__main__.Person'>\n"
     ]
    }
   ],
   "source": [
    "#Tipini yazdırdığımızda Person yani classın tipinde olduğu görülür\n",
    "print(type(p1),\"\\n\",type(p2))"
   ]
  },
  {
   "cell_type": "code",
   "execution_count": 8,
   "id": "f990a799",
   "metadata": {},
   "outputs": [
    {
     "name": "stdout",
     "output_type": "stream",
     "text": [
      "False\n"
     ]
    }
   ],
   "source": [
    "#p1 ve p2 nin farklı objeler olduğunu göstermiş olduk\n",
    "print(p1==p2)"
   ]
  },
  {
   "cell_type": "code",
   "execution_count": 95,
   "id": "b6f42a77",
   "metadata": {},
   "outputs": [],
   "source": [
    "class Person:\n",
    "    pass\n",
    "#İçerisine class attributes tanımlayabiliriz.\n",
    "    address = \"no information\"\n",
    "    #Sınıf özelliği ilede tanımlama yapabiliriz\n",
    "#İçerisine object attributes tanımlayabiliriz.\n",
    "    #constructor(yapıcı metod)\n",
    "    def __init__(self,name=None,year=None):\n",
    "        self.name = name\n",
    "        self.year = year\n",
    "        print(\"init metodu çalıştı\")\n",
    "    #Self yerine this nesneside tanımlanabilir\n",
    "    #init metodu Person classı çağırıldığında otomatik çalışır    \n",
    "    #Self ifadesi classtan üretilen herhangi bir objedir\n",
    "    #Self yanına objeye tanımlayacağımız özellikler yazılır\n",
    "#Methodlar,fonksiyonlar tanımlayabiliriz.\n",
    "    def intro():\n",
    "        print(\"Hello There \")\n",
    "    def calculateAge(self):\n",
    "        return 2020 - self.year"
   ]
  },
  {
   "cell_type": "code",
   "execution_count": 96,
   "id": "ea38fccd",
   "metadata": {},
   "outputs": [
    {
     "name": "stdout",
     "output_type": "stream",
     "text": [
      "init metodu çalıştı\n"
     ]
    }
   ],
   "source": [
    "p1 = Person(\"ali\",2005)  #kaç tane parametre istediyse o kadar parametre verilmeli aksi halde sorun çıkar"
   ]
  },
  {
   "cell_type": "code",
   "execution_count": 97,
   "id": "beb7da7e",
   "metadata": {},
   "outputs": [
    {
     "name": "stdout",
     "output_type": "stream",
     "text": [
      "init metodu çalıştı\n"
     ]
    }
   ],
   "source": [
    "p2 = Person()            #Sorunsuz çalışmasının nedeni parametrelere varsayılan değer verilmesidir"
   ]
  },
  {
   "cell_type": "code",
   "execution_count": 98,
   "id": "e92880f3",
   "metadata": {},
   "outputs": [
    {
     "name": "stdout",
     "output_type": "stream",
     "text": [
      "name : ali year : 2005 address : no information\n"
     ]
    }
   ],
   "source": [
    "print(f\"name : {p1.name} year : {p1.year} address : {p1.address}\")  #p1. ile beraber özellikleri yazdırabiliriz"
   ]
  },
  {
   "cell_type": "code",
   "execution_count": 99,
   "id": "d52c324c",
   "metadata": {},
   "outputs": [],
   "source": [
    "p1.name = \"Mehmet\"   #İle beraber tanımlanan değişken değerini değitirebiliriz"
   ]
  },
  {
   "cell_type": "code",
   "execution_count": 100,
   "id": "6b772e8a",
   "metadata": {},
   "outputs": [
    {
     "name": "stdout",
     "output_type": "stream",
     "text": [
      "Mehmet\n"
     ]
    }
   ],
   "source": [
    "print(p1.name)"
   ]
  },
  {
   "cell_type": "code",
   "execution_count": 101,
   "id": "844e47f3",
   "metadata": {},
   "outputs": [
    {
     "ename": "TypeError",
     "evalue": "intro() takes 0 positional arguments but 1 was given",
     "output_type": "error",
     "traceback": [
      "\u001b[1;31m---------------------------------------------------------------------------\u001b[0m",
      "\u001b[1;31mTypeError\u001b[0m                                 Traceback (most recent call last)",
      "Input \u001b[1;32mIn [101]\u001b[0m, in \u001b[0;36m<cell line: 1>\u001b[1;34m()\u001b[0m\n\u001b[1;32m----> 1\u001b[0m \u001b[43mp1\u001b[49m\u001b[38;5;241;43m.\u001b[39;49m\u001b[43mintro\u001b[49m\u001b[43m(\u001b[49m\u001b[43m)\u001b[49m\n",
      "\u001b[1;31mTypeError\u001b[0m: intro() takes 0 positional arguments but 1 was given"
     ]
    }
   ],
   "source": [
    "p1.intro()   #Hata verme nedeni tanımladığımız fonksiyonun instance methods olmasından kaynaklıdır"
   ]
  },
  {
   "cell_type": "code",
   "execution_count": 102,
   "id": "af4b43af",
   "metadata": {},
   "outputs": [
    {
     "name": "stdout",
     "output_type": "stream",
     "text": [
      "init metodu çalıştı\n"
     ]
    }
   ],
   "source": [
    "p1 = Person(name=\"merve\",year=1990)"
   ]
  },
  {
   "cell_type": "code",
   "execution_count": 103,
   "id": "7f0cb795",
   "metadata": {},
   "outputs": [
    {
     "name": "stdout",
     "output_type": "stream",
     "text": [
      "adım : merve ve yaşım : 30\n"
     ]
    }
   ],
   "source": [
    "print(f\"adım : {p1.name} ve yaşım : {p1.calculateAge()}\")"
   ]
  },
  {
   "cell_type": "code",
   "execution_count": 119,
   "id": "1cdd275a",
   "metadata": {},
   "outputs": [],
   "source": [
    "class Circle:\n",
    "    #class object attribute\n",
    "    pi = 3.14\n",
    "    \n",
    "    def __init__(self,yaricap=1):\n",
    "        self.yaricap = yaricap\n",
    "    \n",
    "    #Methods\n",
    "    def cevre_hesapla(self):\n",
    "        return 2 * self.pi + self.yaricap\n",
    "    def alan_hesapla(self):\n",
    "        return self.pi * (self.yaricap**2)"
   ]
  },
  {
   "cell_type": "code",
   "execution_count": 120,
   "id": "0206425f",
   "metadata": {},
   "outputs": [],
   "source": [
    "c1 = Circle()     #Değer vermediğimizden varsayılan verdiğimiz değeri kullandı r=1 oldu yani\n",
    "c2 = Circle(5)"
   ]
  },
  {
   "cell_type": "code",
   "execution_count": 121,
   "id": "c1e73820",
   "metadata": {
    "scrolled": true
   },
   "outputs": [
    {
     "name": "stdout",
     "output_type": "stream",
     "text": [
      "c1 : alan = 3.14 cevre = 7.28\n",
      "c2 : alan = 78.5 cevre = 11.280000000000001\n"
     ]
    }
   ],
   "source": [
    "print(f\"c1 : alan = {c1.alan_hesapla()} cevre = {c1.cevre_hesapla()}\")\n",
    "print(f\"c2 : alan = {c2.alan_hesapla()} cevre = {c2.cevre_hesapla()}\")"
   ]
  },
  {
   "cell_type": "markdown",
   "id": "c475dff4",
   "metadata": {},
   "source": [
    "### Inheritance(Kalıtım) : Miras Alma"
   ]
  },
  {
   "cell_type": "markdown",
   "id": "a8a615ee",
   "metadata": {},
   "source": [
    "Bir temel class ve mirasçı classlar"
   ]
  },
  {
   "cell_type": "code",
   "execution_count": 216,
   "id": "e1e85854",
   "metadata": {},
   "outputs": [],
   "source": [
    "class Person:\n",
    "    def __init__(self,fname,lname):   #Class çağırıldığında otomatik çalışacak metod\n",
    "        self.firsName = fname\n",
    "        self.lastName = lname\n",
    "        print(\"Person Created\")\n",
    "    def who_am_i(self):\n",
    "        print(\"I am a Person\")\n",
    "    def eat(self):\n",
    "        print(\"I am eating\")\n",
    "#Bir sınıfın parametresine başka sınıfı yazarsak ondan miras aldığını bildirmiş oluruz\n",
    "class Student(Person):   \n",
    "    def __init__(self,fname,lname,number):\n",
    "    #Tanımladığımız komut Personın komutunu ezer\n",
    "        self.studentNumber = number\n",
    "        print(\"Student Created\")\n",
    "    #Ezse dahi çalıştırılması için aşağıdaki ifade yazılmalı bu sayede iki sınıfta çalışmış olur\n",
    "        Person.__init__(self,fname,lname)\n",
    "    #Aynı isme sahip fonksiyon tanımlanırsa bu fonksiyon miras fonksiyonu ezer\n",
    "    #Bu işleme override işlemi denir\n",
    "    def who_am_i(self):\n",
    "        print(\"I am a Robot\")\n",
    "    def sayHello(self):\n",
    "        print(\"Hello I am a Student\")\n",
    "class Teacher(Person):\n",
    "    def __init__(self,fname,lname,branch):\n",
    "        #Miras alınan ifadenin bu classta çalıştırılmasının farklı bir yapısı\n",
    "        super().__init__(fname,lname)\n",
    "        self.branch = branch\n",
    "    def who_am_i(self):\n",
    "        print(f\"I am a {self.branch} Teacher\")"
   ]
  },
  {
   "cell_type": "code",
   "execution_count": 214,
   "id": "845b9ea7",
   "metadata": {},
   "outputs": [
    {
     "name": "stdout",
     "output_type": "stream",
     "text": [
      "Person Created\n"
     ]
    }
   ],
   "source": [
    "p1 = Person()  #Person classı çağırıldığında otomatik olarak yazılması gereken ifadeyi yazmıştık"
   ]
  },
  {
   "cell_type": "code",
   "execution_count": 149,
   "id": "5e1e3bec",
   "metadata": {},
   "outputs": [
    {
     "name": "stdout",
     "output_type": "stream",
     "text": [
      "Student Created\n",
      "Person Created\n"
     ]
    }
   ],
   "source": [
    "s1 = Student()   #Studentta yazılacak ifade olmasa bile ifadeyi Person classından miras aldı"
   ]
  },
  {
   "cell_type": "code",
   "execution_count": 192,
   "id": "3b47def7",
   "metadata": {},
   "outputs": [
    {
     "name": "stdout",
     "output_type": "stream",
     "text": [
      "Person Created\n"
     ]
    }
   ],
   "source": [
    "p1 = Person(\"ali\",\"yılmaz\")"
   ]
  },
  {
   "cell_type": "code",
   "execution_count": 193,
   "id": "2114bc9e",
   "metadata": {},
   "outputs": [
    {
     "name": "stdout",
     "output_type": "stream",
     "text": [
      "Student Created\n",
      "Person Created\n"
     ]
    }
   ],
   "source": [
    "s1 = Student(\"Merve\",\"Şenay\")"
   ]
  },
  {
   "cell_type": "code",
   "execution_count": 189,
   "id": "58dda282",
   "metadata": {},
   "outputs": [
    {
     "name": "stdout",
     "output_type": "stream",
     "text": [
      "I am a Person\n"
     ]
    }
   ],
   "source": [
    "p1.who_am_i()"
   ]
  },
  {
   "cell_type": "code",
   "execution_count": 190,
   "id": "d756283a",
   "metadata": {},
   "outputs": [
    {
     "name": "stdout",
     "output_type": "stream",
     "text": [
      "I am a Person\n"
     ]
    }
   ],
   "source": [
    "s1.who_am_i()    #Student who_am_i sahip değil lakin dolaylı yoldan Persondan geçiş yapabiliyor"
   ]
  },
  {
   "cell_type": "code",
   "execution_count": 177,
   "id": "1614b539",
   "metadata": {},
   "outputs": [
    {
     "name": "stdout",
     "output_type": "stream",
     "text": [
      "I am eating\n"
     ]
    }
   ],
   "source": [
    "p1.eat()"
   ]
  },
  {
   "cell_type": "code",
   "execution_count": 178,
   "id": "148300b9",
   "metadata": {},
   "outputs": [
    {
     "name": "stdout",
     "output_type": "stream",
     "text": [
      "I am eating\n"
     ]
    }
   ],
   "source": [
    "s1.eat()"
   ]
  },
  {
   "cell_type": "code",
   "execution_count": 197,
   "id": "76ed8aba",
   "metadata": {},
   "outputs": [
    {
     "name": "stdout",
     "output_type": "stream",
     "text": [
      "I am a Robot\n"
     ]
    }
   ],
   "source": [
    "s1.who_am_i()    #Override işlemi sonundaki sonuçta fonksiyon Persondaki fonksiyonu ezdi "
   ]
  },
  {
   "cell_type": "code",
   "execution_count": 207,
   "id": "fea45062",
   "metadata": {},
   "outputs": [
    {
     "name": "stdout",
     "output_type": "stream",
     "text": [
      "Student Created\n",
      "Person Created\n"
     ]
    }
   ],
   "source": [
    "s1 = Student(\"Merve\",\"Şenay\",1453)"
   ]
  },
  {
   "cell_type": "code",
   "execution_count": 205,
   "id": "48eed293",
   "metadata": {},
   "outputs": [
    {
     "name": "stdout",
     "output_type": "stream",
     "text": [
      "Merve Şenay 1453\n"
     ]
    }
   ],
   "source": [
    "print(s1.firsName + \" \" + s1.lastName + \" \" + str(s1.studentNumber))"
   ]
  },
  {
   "cell_type": "code",
   "execution_count": 209,
   "id": "02ee23e0",
   "metadata": {},
   "outputs": [
    {
     "name": "stdout",
     "output_type": "stream",
     "text": [
      "Hello I am a Student\n",
      "None\n"
     ]
    }
   ],
   "source": [
    "print(s1.sayHello())"
   ]
  },
  {
   "cell_type": "code",
   "execution_count": 217,
   "id": "c904d972",
   "metadata": {},
   "outputs": [
    {
     "name": "stdout",
     "output_type": "stream",
     "text": [
      "Person Created\n"
     ]
    }
   ],
   "source": [
    "t1 = Teacher(\"Serkan\",\"Yılmaz\",\"Matematik\")"
   ]
  },
  {
   "cell_type": "code",
   "execution_count": 218,
   "id": "970704af",
   "metadata": {},
   "outputs": [
    {
     "name": "stdout",
     "output_type": "stream",
     "text": [
      "I am a Matematik Teacher\n"
     ]
    }
   ],
   "source": [
    "t1.who_am_i()"
   ]
  },
  {
   "cell_type": "markdown",
   "id": "57ba39c6",
   "metadata": {},
   "source": [
    "### Objeler Üzerinde Kullanılan Özel Methodlar"
   ]
  },
  {
   "cell_type": "code",
   "execution_count": 220,
   "id": "55de6277",
   "metadata": {},
   "outputs": [],
   "source": [
    "mylist = [1,2,3]\n",
    "myString = \"my string\""
   ]
  },
  {
   "cell_type": "code",
   "execution_count": 227,
   "id": "d7a78f8c",
   "metadata": {},
   "outputs": [
    {
     "name": "stdout",
     "output_type": "stream",
     "text": [
      "<class 'list'> 3\n"
     ]
    }
   ],
   "source": [
    "print(type(mylist),len(mylist))"
   ]
  },
  {
   "cell_type": "code",
   "execution_count": 228,
   "id": "c36180bc",
   "metadata": {},
   "outputs": [
    {
     "name": "stdout",
     "output_type": "stream",
     "text": [
      "<class 'str'> 9\n"
     ]
    }
   ],
   "source": [
    "print(type(myString),len(myString))"
   ]
  },
  {
   "cell_type": "code",
   "execution_count": 286,
   "id": "5c4d27cb",
   "metadata": {},
   "outputs": [],
   "source": [
    "class Movie:\n",
    "    def __init__(self,title,director,duration):\n",
    "        self.title = title\n",
    "        self.director = director\n",
    "        self.duration = duration\n",
    "        print(\"Movie objesi oluşturuldu\")\n",
    "    #İle tanımlı string değiştirmesini değiştirebiliriz\n",
    "    def __str__(self):\n",
    "        return f\"{self.title} by {self.director}\"\n",
    "    def __len__(self):\n",
    "        return self.duration\n",
    "    def __del__(self):\n",
    "        print(\"Obje silindi\")\n",
    "    #Bu metodu yazdığımızda biz objeyi sil komutu vermesek bile bir süre sonunda kendini siler"
   ]
  },
  {
   "cell_type": "code",
   "execution_count": 237,
   "id": "5dbd9859",
   "metadata": {},
   "outputs": [],
   "source": [
    "m = Movie()"
   ]
  },
  {
   "cell_type": "code",
   "execution_count": 238,
   "id": "e2faec0e",
   "metadata": {},
   "outputs": [
    {
     "ename": "TypeError",
     "evalue": "object of type 'Movie' has no len()",
     "output_type": "error",
     "traceback": [
      "\u001b[1;31m---------------------------------------------------------------------------\u001b[0m",
      "\u001b[1;31mTypeError\u001b[0m                                 Traceback (most recent call last)",
      "Input \u001b[1;32mIn [238]\u001b[0m, in \u001b[0;36m<cell line: 1>\u001b[1;34m()\u001b[0m\n\u001b[1;32m----> 1\u001b[0m \u001b[38;5;28mprint\u001b[39m(\u001b[38;5;28;43mlen\u001b[39;49m\u001b[43m(\u001b[49m\u001b[43mm\u001b[49m\u001b[43m)\u001b[49m)\n",
      "\u001b[1;31mTypeError\u001b[0m: object of type 'Movie' has no len()"
     ]
    }
   ],
   "source": [
    "print(len(m))    \n",
    "#Class için len metodu bulunmadığını söylüyor lakin string yada list ifadelerde bir classtır.\n",
    "#Bunun nedeni nedir?"
   ]
  },
  {
   "cell_type": "code",
   "execution_count": 282,
   "id": "5eaf887c",
   "metadata": {},
   "outputs": [
    {
     "name": "stdout",
     "output_type": "stream",
     "text": [
      "Movie objesi oluşturuldu\n"
     ]
    }
   ],
   "source": [
    "m = Movie(\"film adı\",\"Yönetmen adı\",120)"
   ]
  },
  {
   "cell_type": "code",
   "execution_count": 256,
   "id": "54c61453",
   "metadata": {},
   "outputs": [
    {
     "name": "stdout",
     "output_type": "stream",
     "text": [
      "[1, 2, 3]\n",
      "<__main__.Movie object at 0x000001BC782545E0>\n"
     ]
    }
   ],
   "source": [
    "print(mylist)\n",
    "print(m)"
   ]
  },
  {
   "cell_type": "code",
   "execution_count": 262,
   "id": "8326dec0",
   "metadata": {},
   "outputs": [
    {
     "name": "stdout",
     "output_type": "stream",
     "text": [
      "[1, 2, 3]\n",
      "film adı by Yönetmen adı\n"
     ]
    }
   ],
   "source": [
    "print(str(mylist))\n",
    "print(str(m))    #yukarıda değişiklik yaptığımız için artık adres yerine komutu yazdırıyor"
   ]
  },
  {
   "cell_type": "code",
   "execution_count": 268,
   "id": "fb5da434",
   "metadata": {},
   "outputs": [
    {
     "name": "stdout",
     "output_type": "stream",
     "text": [
      "120\n"
     ]
    }
   ],
   "source": [
    "print(len(m))    \n",
    "#Classlarda kullanılamayan metod kullanılabilir oldu artık.\n",
    "#Aynı biçimde diğer kullanılamayan metodlarıda bu şekilde kullanılabilir şekle dönüştürebiliriz"
   ]
  },
  {
   "cell_type": "code",
   "execution_count": 283,
   "id": "f76e969a",
   "metadata": {},
   "outputs": [
    {
     "name": "stdout",
     "output_type": "stream",
     "text": [
      "Obje silindi\n"
     ]
    }
   ],
   "source": [
    "del m   #Yapısı sayesinde objeyi silebiliriz dışarıdan\n",
    "#Silindi mesajı yazdırmak için yukarıdaki class içine metod tanımlamalıyız"
   ]
  },
  {
   "cell_type": "code",
   "execution_count": 284,
   "id": "e75b2d81",
   "metadata": {},
   "outputs": [
    {
     "ename": "NameError",
     "evalue": "name 'm' is not defined",
     "output_type": "error",
     "traceback": [
      "\u001b[1;31m---------------------------------------------------------------------------\u001b[0m",
      "\u001b[1;31mNameError\u001b[0m                                 Traceback (most recent call last)",
      "Input \u001b[1;32mIn [284]\u001b[0m, in \u001b[0;36m<cell line: 1>\u001b[1;34m()\u001b[0m\n\u001b[1;32m----> 1\u001b[0m \u001b[38;5;28mprint\u001b[39m(\u001b[43mm\u001b[49m)\n",
      "\u001b[1;31mNameError\u001b[0m: name 'm' is not defined"
     ]
    }
   ],
   "source": [
    "print(m)             "
   ]
  },
  {
   "cell_type": "markdown",
   "id": "406b3c04",
   "metadata": {},
   "source": [
    "https://www.informit.com/articles/article.aspx?p=453682&seqNum=6 sitesinden diğer özel metodları öğrenebiliriz"
   ]
  },
  {
   "cell_type": "markdown",
   "id": "3edbf9d9",
   "metadata": {},
   "source": [
    "## QUİZ Uygulaması"
   ]
  },
  {
   "cell_type": "code",
   "execution_count": 13,
   "id": "9b4ea719",
   "metadata": {},
   "outputs": [],
   "source": [
    "#Question Section\n",
    "class Question:\n",
    "    def __init__(self,text,choices,answer):\n",
    "        self.text = text        #Sorunun text kısmı\n",
    "        self.choices = choices  #Şık bilgileri\n",
    "        self.answer = answer    #Sorunun cevap kısmı\n",
    "    def checkAnswer(self,answer):\n",
    "        return self.answer == answer  #Kullanıcının verdiği answer selfteki answer ile aynı işlemi"
   ]
  },
  {
   "cell_type": "code",
   "execution_count": 14,
   "id": "185efdc2",
   "metadata": {},
   "outputs": [],
   "source": [
    "q1 = Question(\"En iyi programlama dili hangisidir?\" , [\"C++\",\"Python\",\"JavaScript\",\"SQL\"],\"C++\")\n",
    "#Question(\"Soru\",[\"Seçenekler\"],\"Cevap\") yapısında sorular hazırlanacak\n",
    "q2 = Question(\"En popüler programlama dili hangisidir?\" , [\"C++\",\"Python\",\"JavaScript\",\"SQL\"],\"Python\")\n",
    "q3 = Question(\"En çok kazandıran programlama dili hangisidir?\" , [\"C++\",\"Python\",\"JavaScript\",\"SQL\"],\"SQL\")"
   ]
  },
  {
   "cell_type": "code",
   "execution_count": 15,
   "id": "f61107bc",
   "metadata": {},
   "outputs": [
    {
     "name": "stdout",
     "output_type": "stream",
     "text": [
      "True\n"
     ]
    }
   ],
   "source": [
    "print(q1.checkAnswer(\"C++\"))   #Cevap doğru"
   ]
  },
  {
   "cell_type": "code",
   "execution_count": 16,
   "id": "17da8930",
   "metadata": {
    "scrolled": true
   },
   "outputs": [
    {
     "name": "stdout",
     "output_type": "stream",
     "text": [
      "False\n"
     ]
    }
   ],
   "source": [
    "print(q2.checkAnswer(\"SQL\"))   #Cevap yanlış"
   ]
  },
  {
   "cell_type": "code",
   "execution_count": 17,
   "id": "134914c1",
   "metadata": {},
   "outputs": [],
   "source": [
    "liste = [q1,q2,q3]    #Soruları liste haline getirdik"
   ]
  },
  {
   "cell_type": "markdown",
   "id": "9ddf60fe",
   "metadata": {},
   "source": [
    "Unutmayalım bir programda ne kadar if else yapısını az kullanıyorsak yazdığımız program okadar kalitelidir"
   ]
  },
  {
   "cell_type": "code",
   "execution_count": 18,
   "id": "6aaa867b",
   "metadata": {},
   "outputs": [],
   "source": [
    "#Quiz Section\n",
    "class Quiz:\n",
    "    def __init__(self, questions):\n",
    "        self.questions = questions\n",
    "        self.score = 0\n",
    "        self.questionIndex = 0  #Soruların indexleri 0 dan başlasın yada istersek rastgele yapabiliriz\n",
    "        \n",
    "    def getQuestion(self):\n",
    "        return self.question[self.questionIndex]\n",
    "    def displayQuestion(self):\n",
    "        question = self.getQuestion()\n",
    "        print(f\"Soru {self.questionIndex + 1} : {question.text}\")\n",
    "        \n",
    "        for q in question.choices:\n",
    "            print(\"-\"+q)\n",
    "        answer = input(\"cevap:\")\n",
    "        self.guess(answer)\n",
    "        self.loadQuestion()\n",
    "    def guess(self,answer):\n",
    "        question = self.getQuestion()\n",
    "        \n",
    "        if question.checkAnswer(answer):  #Gelen bilgi doğru ise\n",
    "            self.score += 1\n",
    "        self.questionIndex += 1\n",
    "            \n",
    "        self.displayQuestion()\n",
    "    \n",
    "    def loadQuestion(self):\n",
    "        if len(self.questions) == self.questionIndex:\n",
    "            self.showScore()\n",
    "        else:\n",
    "            self.displayQuestion()\n",
    "    \n",
    "    def showScore(self):\n",
    "        pass\n",
    "        "
   ]
  },
  {
   "cell_type": "code",
   "execution_count": 19,
   "id": "f73cdcd0",
   "metadata": {},
   "outputs": [],
   "source": [
    "q1 = Question(\"En iyi programlama dili hangisidir?\" , [\"C++\",\"Python\",\"JavaScript\",\"SQL\"],\"C++\")\n",
    "q2 = Question(\"En popüler programlama dili hangisidir?\" , [\"C++\",\"Python\",\"JavaScript\",\"SQL\"],\"Python\")\n",
    "q3 = Question(\"En çok kazandıran programlama dili hangisidir?\" , [\"C++\",\"Python\",\"JavaScript\",\"SQL\"],\"SQL\")\n",
    "questions = [q1,q2,q3]\n",
    "\n",
    "quiz = Quiz(questions)"
   ]
  }
 ],
 "metadata": {
  "kernelspec": {
   "display_name": "Python 3 (ipykernel)",
   "language": "python",
   "name": "python3"
  },
  "language_info": {
   "codemirror_mode": {
    "name": "ipython",
    "version": 3
   },
   "file_extension": ".py",
   "mimetype": "text/x-python",
   "name": "python",
   "nbconvert_exporter": "python",
   "pygments_lexer": "ipython3",
   "version": "3.9.12"
  }
 },
 "nbformat": 4,
 "nbformat_minor": 5
}
