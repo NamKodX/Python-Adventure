{
 "cells": [
  {
   "cell_type": "markdown",
   "id": "886f951c",
   "metadata": {},
   "source": [
    "# Modüles"
   ]
  },
  {
   "cell_type": "markdown",
   "id": "f335276d",
   "metadata": {},
   "source": [
    "## 1 - Datetime Modülü:"
   ]
  },
  {
   "cell_type": "code",
   "execution_count": 72,
   "id": "f4056ed3",
   "metadata": {},
   "outputs": [],
   "source": [
    "import datetime   #modülü import ediyoruz\n",
    "#import datetime as dt yazar isek datetime modülünü dt ile import etmiş oluruz\n",
    "#from datetime import time yapısı sayesinde modül içerisinden sadece bir clası çağırabiliriz"
   ]
  },
  {
   "cell_type": "code",
   "execution_count": 73,
   "id": "c4087eac",
   "metadata": {},
   "outputs": [
    {
     "name": "stdout",
     "output_type": "stream",
     "text": [
      "['MAXYEAR', 'MINYEAR', '__all__', '__builtins__', '__cached__', '__doc__', '__file__', '__loader__', '__name__', '__package__', '__spec__', 'date', 'datetime', 'datetime_CAPI', 'sys', 'time', 'timedelta', 'timezone', 'tzinfo']\n"
     ]
    }
   ],
   "source": [
    "#Bu komut sayesinde modül içerisindeki clasları çıkartabiliyoruz\n",
    "result = dir(datetime)   \n",
    "print(result)"
   ]
  },
  {
   "cell_type": "code",
   "execution_count": 74,
   "id": "9882a7bb",
   "metadata": {},
   "outputs": [
    {
     "name": "stdout",
     "output_type": "stream",
     "text": [
      "['__add__', '__class__', '__delattr__', '__dir__', '__doc__', '__eq__', '__format__', '__ge__', '__getattribute__', '__gt__', '__hash__', '__init__', '__init_subclass__', '__le__', '__lt__', '__ne__', '__new__', '__radd__', '__reduce__', '__reduce_ex__', '__repr__', '__rsub__', '__setattr__', '__sizeof__', '__str__', '__sub__', '__subclasshook__', 'astimezone', 'combine', 'ctime', 'date', 'day', 'dst', 'fold', 'fromisocalendar', 'fromisoformat', 'fromordinal', 'fromtimestamp', 'hour', 'isocalendar', 'isoformat', 'isoweekday', 'max', 'microsecond', 'min', 'minute', 'month', 'now', 'replace', 'resolution', 'second', 'strftime', 'strptime', 'time', 'timestamp', 'timetuple', 'timetz', 'today', 'toordinal', 'tzinfo', 'tzname', 'utcfromtimestamp', 'utcnow', 'utcoffset', 'utctimetuple', 'weekday', 'year']\n"
     ]
    }
   ],
   "source": [
    "#Datetime içindeki datetime içerisindeki fonksiyonları görüntüler\n",
    "result = dir(datetime.datetime)  \n",
    "print(result)"
   ]
  },
  {
   "cell_type": "code",
   "execution_count": 75,
   "id": "3aa3e585",
   "metadata": {},
   "outputs": [
    {
     "name": "stdout",
     "output_type": "stream",
     "text": [
      "2022-11-07 15:35:19.759227\n"
     ]
    }
   ],
   "source": [
    "simdi = datetime.datetime.now()\n",
    "print(simdi)  #Sayesinde şimdiki tarih saat bilgilerini alabiliriz"
   ]
  },
  {
   "cell_type": "code",
   "execution_count": 76,
   "id": "6248b03e",
   "metadata": {},
   "outputs": [
    {
     "name": "stdout",
     "output_type": "stream",
     "text": [
      "2022 11 7 15 35 19\n"
     ]
    }
   ],
   "source": [
    "print(simdi.year,simdi.month,simdi.day,simdi.hour,simdi.minute,simdi.second)\n",
    "# yıl,ay,gün,saat,dakika,saniye bilgilerini önceden datetime.datetime.now() ile tanımladığımız simdi değişkeni sayesinde kullanabiliriz"
   ]
  },
  {
   "cell_type": "code",
   "execution_count": 77,
   "id": "aa403ab2",
   "metadata": {},
   "outputs": [
    {
     "name": "stdout",
     "output_type": "stream",
     "text": [
      "2022-11-07 15:35:19.825402\n"
     ]
    }
   ],
   "source": [
    "simdi = datetime.datetime.today()\n",
    "print(simdi)\n",
    "#Aynı işlemi today ile de yapabiliriz"
   ]
  },
  {
   "cell_type": "code",
   "execution_count": 78,
   "id": "e41c5a86",
   "metadata": {},
   "outputs": [
    {
     "name": "stdout",
     "output_type": "stream",
     "text": [
      "Mon Nov  7 15:35:19 2022\n"
     ]
    }
   ],
   "source": [
    "result = datetime.datetime.ctime(simdi)\n",
    "print(result)\n",
    "#Bu komut saysinde daha detaylı şimdi işlemi yapabiliriz. Ay ve Günler yazı ile yazılıyor"
   ]
  },
  {
   "cell_type": "code",
   "execution_count": 79,
   "id": "4f318247",
   "metadata": {},
   "outputs": [
    {
     "name": "stdout",
     "output_type": "stream",
     "text": [
      "2022\n"
     ]
    }
   ],
   "source": [
    "result = datetime.datetime.strftime(simdi,\"%Y\")\n",
    "print(result)  \n",
    "#Yıl bilgisini alır"
   ]
  },
  {
   "cell_type": "code",
   "execution_count": 80,
   "id": "5bb62740",
   "metadata": {},
   "outputs": [
    {
     "name": "stdout",
     "output_type": "stream",
     "text": [
      "15:35:19\n"
     ]
    }
   ],
   "source": [
    "result = datetime.datetime.strftime(simdi,\"%X\")\n",
    "print(result)\n",
    "#Saat bilgisini alır"
   ]
  },
  {
   "cell_type": "code",
   "execution_count": 81,
   "id": "0962bb11",
   "metadata": {},
   "outputs": [
    {
     "name": "stdout",
     "output_type": "stream",
     "text": [
      "07\n"
     ]
    }
   ],
   "source": [
    "result = datetime.datetime.strftime(simdi,\"%d\")\n",
    "print(result)\n",
    "#Gün bilgisini alır"
   ]
  },
  {
   "cell_type": "code",
   "execution_count": 82,
   "id": "7acd2524",
   "metadata": {},
   "outputs": [
    {
     "name": "stdout",
     "output_type": "stream",
     "text": [
      "Monday\n"
     ]
    }
   ],
   "source": [
    "result = datetime.datetime.strftime(simdi,\"%A\")\n",
    "print(result)\n",
    "#Hangi gün olduğunu yazar"
   ]
  },
  {
   "cell_type": "code",
   "execution_count": 83,
   "id": "bac7cbf6",
   "metadata": {},
   "outputs": [
    {
     "name": "stdout",
     "output_type": "stream",
     "text": [
      "November\n"
     ]
    }
   ],
   "source": [
    "result = datetime.datetime.strftime(simdi,\"%B\")\n",
    "print(result)\n",
    "#Ayı yazar"
   ]
  },
  {
   "cell_type": "markdown",
   "id": "802448a3",
   "metadata": {},
   "source": [
    "Diğer işlecleri kodları https://www.w3schools.com/python/gloss_python_date_format_codes.asp ile bulabiliriz"
   ]
  },
  {
   "cell_type": "code",
   "execution_count": 84,
   "id": "404e8d6f",
   "metadata": {},
   "outputs": [
    {
     "name": "stdout",
     "output_type": "stream",
     "text": [
      "23\n",
      "Nisan\n",
      "1920\n"
     ]
    }
   ],
   "source": [
    "t = \"23 Nisan 1920\"\n",
    "gun, ay,yil = t.split()\n",
    "print(gun)\n",
    "print(ay)\n",
    "print(yil)\n",
    "#Kolaylar split yapılabilir"
   ]
  },
  {
   "cell_type": "code",
   "execution_count": 92,
   "id": "d783d2e3",
   "metadata": {},
   "outputs": [
    {
     "name": "stdout",
     "output_type": "stream",
     "text": [
      "1978-07-23 09:58:14\n"
     ]
    }
   ],
   "source": [
    "birthday = datetime.datetime(1978,7,23,9,58,14)\n",
    "print(birthday)\n",
    "#Kendimiz zaman ayarlayabiliriz"
   ]
  },
  {
   "cell_type": "code",
   "execution_count": 97,
   "id": "0578b958",
   "metadata": {},
   "outputs": [
    {
     "name": "stdout",
     "output_type": "stream",
     "text": [
      "270025094.0\n"
     ]
    }
   ],
   "source": [
    "result = datetime.datetime.timestamp(birthday)\n",
    "print(result)\n",
    "#Saniye bilgisi verir"
   ]
  },
  {
   "cell_type": "code",
   "execution_count": 98,
   "id": "c2d3b046",
   "metadata": {},
   "outputs": [
    {
     "name": "stdout",
     "output_type": "stream",
     "text": [
      "1978-07-23 09:58:14\n"
     ]
    }
   ],
   "source": [
    "result = datetime.datetime.fromtimestamp(result)\n",
    "print(result)\n",
    "#Saniye bilgisini tekrar date bilgiye dönüştürür"
   ]
  },
  {
   "cell_type": "code",
   "execution_count": 100,
   "id": "8827edcf",
   "metadata": {},
   "outputs": [
    {
     "name": "stdout",
     "output_type": "stream",
     "text": [
      "1970-01-01 03:00:00\n"
     ]
    }
   ],
   "source": [
    "result = datetime.datetime.fromtimestamp(0)\n",
    "print(result)\n",
    "#Bilgisayarlar için kullanılan milat bilgisini yazdırır \n",
    "#Yukarıda yazdığımız saniye bilgisi alma işlemi bu milata göre hesaplanıp yazdırılır"
   ]
  },
  {
   "cell_type": "code",
   "execution_count": 113,
   "id": "648da7e8",
   "metadata": {},
   "outputs": [
    {
     "name": "stdout",
     "output_type": "stream",
     "text": [
      "16178 days, 5:37:05.825402\n"
     ]
    }
   ],
   "source": [
    "result = simdi - birthday\n",
    "print(result)\n",
    "#timedelta işlemi"
   ]
  },
  {
   "cell_type": "code",
   "execution_count": 109,
   "id": "d220c234",
   "metadata": {},
   "outputs": [
    {
     "name": "stdout",
     "output_type": "stream",
     "text": [
      "16178\n"
     ]
    }
   ],
   "source": [
    "result = result.days\n",
    "print(result)"
   ]
  },
  {
   "cell_type": "code",
   "execution_count": 112,
   "id": "458d991f",
   "metadata": {},
   "outputs": [
    {
     "name": "stdout",
     "output_type": "stream",
     "text": [
      "20225\n"
     ]
    }
   ],
   "source": [
    "result = result.seconds\n",
    "print(result)"
   ]
  },
  {
   "cell_type": "code",
   "execution_count": 115,
   "id": "50d6a61c",
   "metadata": {},
   "outputs": [
    {
     "name": "stdout",
     "output_type": "stream",
     "text": [
      "825402\n"
     ]
    }
   ],
   "source": [
    "result = result.microseconds\n",
    "print(result)"
   ]
  },
  {
   "cell_type": "code",
   "execution_count": 121,
   "id": "b43dde6d",
   "metadata": {},
   "outputs": [
    {
     "name": "stdout",
     "output_type": "stream",
     "text": [
      "2024-11-06 16:53:19.825402\n"
     ]
    }
   ],
   "source": [
    "result = simdi + datetime.timedelta(days=730,minutes=78)\n",
    "print(result)\n",
    "#Şimdinin üzerine gün ve dakika veya herşeyi ekleme"
   ]
  },
  {
   "cell_type": "markdown",
   "id": "1fed9aa3",
   "metadata": {},
   "source": [
    "## 2- Os Modülü:"
   ]
  },
  {
   "cell_type": "code",
   "execution_count": 125,
   "id": "61933a04",
   "metadata": {},
   "outputs": [],
   "source": [
    "import os    #Os modülünü import eder\n",
    "#işletim sistemiyle alakalı işlemler bu modül ile yapılabilir"
   ]
  },
  {
   "cell_type": "code",
   "execution_count": 140,
   "id": "831ff9db",
   "metadata": {},
   "outputs": [
    {
     "name": "stdout",
     "output_type": "stream",
     "text": [
      "['DirEntry', 'F_OK', 'GenericAlias', 'Mapping', 'MutableMapping', 'O_APPEND', 'O_BINARY', 'O_CREAT', 'O_EXCL', 'O_NOINHERIT', 'O_RANDOM', 'O_RDONLY', 'O_RDWR', 'O_SEQUENTIAL', 'O_SHORT_LIVED', 'O_TEMPORARY', 'O_TEXT', 'O_TRUNC', 'O_WRONLY', 'P_DETACH', 'P_NOWAIT', 'P_NOWAITO', 'P_OVERLAY', 'P_WAIT', 'PathLike', 'R_OK', 'SEEK_CUR', 'SEEK_END', 'SEEK_SET', 'TMP_MAX', 'W_OK', 'X_OK', '_AddedDllDirectory', '_Environ', '__all__', '__builtins__', '__cached__', '__doc__', '__file__', '__loader__', '__name__', '__package__', '__spec__', '_check_methods', '_execvpe', '_exists', '_exit', '_fspath', '_get_exports_list', '_walk', '_wrap_close', 'abc', 'abort', 'access', 'add_dll_directory', 'altsep', 'chdir', 'chmod', 'close', 'closerange', 'cpu_count', 'curdir', 'defpath', 'device_encoding', 'devnull', 'dup', 'dup2', 'environ', 'error', 'execl', 'execle', 'execlp', 'execlpe', 'execv', 'execve', 'execvp', 'execvpe', 'extsep', 'fdopen', 'fsdecode', 'fsencode', 'fspath', 'fstat', 'fsync', 'ftruncate', 'get_exec_path', 'get_handle_inheritable', 'get_inheritable', 'get_terminal_size', 'getcwd', 'getcwdb', 'getenv', 'getlogin', 'getpid', 'getppid', 'isatty', 'kill', 'linesep', 'link', 'listdir', 'lseek', 'lstat', 'makedirs', 'mkdir', 'name', 'open', 'pardir', 'path', 'pathsep', 'pipe', 'popen', 'putenv', 'read', 'readlink', 'remove', 'removedirs', 'rename', 'renames', 'replace', 'rmdir', 'scandir', 'sep', 'set_handle_inheritable', 'set_inheritable', 'spawnl', 'spawnle', 'spawnv', 'spawnve', 'st', 'startfile', 'stat', 'stat_result', 'statvfs_result', 'strerror', 'supports_bytes_environ', 'supports_dir_fd', 'supports_effective_ids', 'supports_fd', 'supports_follow_symlinks', 'symlink', 'sys', 'system', 'terminal_size', 'times', 'times_result', 'truncate', 'umask', 'uname_result', 'unlink', 'unsetenv', 'urandom', 'utime', 'waitpid', 'waitstatus_to_exitcode', 'walk', 'write']\n"
     ]
    }
   ],
   "source": [
    "result = dir(os)\n",
    "print(result)"
   ]
  },
  {
   "cell_type": "code",
   "execution_count": 141,
   "id": "a3993f21",
   "metadata": {},
   "outputs": [
    {
     "name": "stdout",
     "output_type": "stream",
     "text": [
      "nt\n"
     ]
    }
   ],
   "source": [
    "print(os.name)\n",
    "#İşletim sistemimizi söyler nt windows demek"
   ]
  },
  {
   "cell_type": "code",
   "execution_count": 142,
   "id": "f466bb48",
   "metadata": {},
   "outputs": [
    {
     "name": "stdout",
     "output_type": "stream",
     "text": [
      "C:\\\n"
     ]
    }
   ],
   "source": [
    "print(os.getcwd())\n",
    "#Dosyanın konumunun yolunu söyler"
   ]
  },
  {
   "cell_type": "code",
   "execution_count": 135,
   "id": "d269d04c",
   "metadata": {},
   "outputs": [],
   "source": [
    "os.mkdir(\"yeniklasor\")\n",
    "#Dizine istediğimiz adda klasör ekler"
   ]
  },
  {
   "cell_type": "code",
   "execution_count": 138,
   "id": "5421618f",
   "metadata": {},
   "outputs": [
    {
     "name": "stdout",
     "output_type": "stream",
     "text": [
      "C:\\\n"
     ]
    }
   ],
   "source": [
    "os.chdir(\"C:\\\\\")\n",
    "print(os.getcwd())\n",
    "#Dizin adı belirleyip böylece ekleme yapar isek bu dizine istediğimiz dosyayı kaydedebiliriz"
   ]
  },
  {
   "cell_type": "code",
   "execution_count": 144,
   "id": "b1509e6e",
   "metadata": {},
   "outputs": [
    {
     "name": "stdout",
     "output_type": "stream",
     "text": [
      "C:\\\n"
     ]
    }
   ],
   "source": [
    "os.chdir(\"..//..\")\n",
    "#İki kere üst klasöre geçilir tek kere geçmek için sadece .. olmalı\n",
    "print(os.getcwd())"
   ]
  },
  {
   "cell_type": "code",
   "execution_count": 150,
   "id": "6b8aab85",
   "metadata": {},
   "outputs": [],
   "source": [
    "os.makedirs(\"C:\\\\Desktop/yeniklasor2\")\n",
    "#İle istediğimiz yere klasör oluşturabiliriz"
   ]
  },
  {
   "cell_type": "code",
   "execution_count": 152,
   "id": "e205ec05",
   "metadata": {},
   "outputs": [
    {
     "name": "stdout",
     "output_type": "stream",
     "text": [
      "['$Recycle.Bin', '$WinREAgent', '.GamingRoot', 'AiOLog.txt', 'Desktop', 'Documents and Settings', 'DumpStack.log.tmp', 'hiberfil.sys', 'Intel', 'OneDriveTemp', 'pagefile.sys', 'PerfLogs', 'Program Files', 'Program Files (x86)', 'ProgramData', 'Recovery', 'swapfile.sys', 'System Volume Information', 'Users', 'Windows', 'XboxGames', 'yeniklasor']\n"
     ]
    }
   ],
   "source": [
    "result = os.listdir()\n",
    "print(result)\n",
    "#Klasör içindekileri listelemiş oluruz"
   ]
  },
  {
   "cell_type": "code",
   "execution_count": 155,
   "id": "5e917a36",
   "metadata": {},
   "outputs": [
    {
     "name": "stdout",
     "output_type": "stream",
     "text": [
      "['$Recycle.Bin', '$WinREAgent', '.GamingRoot', 'AiOLog.txt', 'Desktop', 'Documents and Settings', 'DumpStack.log.tmp', 'hiberfil.sys', 'Intel', 'OneDriveTemp', 'pagefile.sys', 'PerfLogs', 'Program Files', 'Program Files (x86)', 'ProgramData', 'Recovery', 'swapfile.sys', 'System Volume Information', 'Users', 'Windows', 'XboxGames', 'yeniklasor']\n"
     ]
    }
   ],
   "source": [
    "result = os.listdir(\"C:\\\\\")\n",
    "print(result)\n",
    "#İstediğimiz klasör içindekileri listelemiş oluruz"
   ]
  },
  {
   "cell_type": "code",
   "execution_count": 157,
   "id": "26372b7b",
   "metadata": {},
   "outputs": [],
   "source": [
    "for dosya in os.listdir():\n",
    "    if dosya.endswith(\".py\"):\n",
    "        print(dosya)\n",
    "#Sadece istediğimiz uzantılı dosyayı yazdırmak için for yapısı"
   ]
  },
  {
   "cell_type": "code",
   "execution_count": null,
   "id": "dcc51e7c",
   "metadata": {},
   "outputs": [],
   "source": [
    "result = os.stat(\"dosya.uzantu\")\n",
    "#ile istediğimiz dosya hakkında bilgilere erişebiliriz\n",
    "result.st_size #Dosya boyutuna ulaşabiliriz\n",
    "datetime.datetime.fromtimestamp(result.st_ctime) #ile beraber dosyanın oluşturulma zamanını yazdırır\n",
    "datetime.datetime.fromtimestamp(result.st_atime) #ile beraber dosyanın son erişilme zamanını yazdırır\n",
    "datetime.datetime.fromtimestamp(result.st_mtime) #ile beraber dosyanın değişttirilme zamanını yazdırır"
   ]
  },
  {
   "cell_type": "code",
   "execution_count": 169,
   "id": "cc68bf43",
   "metadata": {},
   "outputs": [
    {
     "data": {
      "text/plain": [
       "0"
      ]
     },
     "execution_count": 169,
     "metadata": {},
     "output_type": "execute_result"
    }
   ],
   "source": [
    "os.system(\"notepad.exe\")\n",
    "#İstediğimiz sistem dosyasını çalıştırabiliriz"
   ]
  },
  {
   "cell_type": "code",
   "execution_count": null,
   "id": "f5566456",
   "metadata": {},
   "outputs": [],
   "source": [
    "os.rename(\"yeniklasor\",\"newdirectory\")\n",
    "#ile istediğimiz klasörün ismini değiştirebiliriz"
   ]
  },
  {
   "cell_type": "code",
   "execution_count": null,
   "id": "d0c7393e",
   "metadata": {},
   "outputs": [],
   "source": [
    "os.rmdir(\"yeniklasor\")\n",
    "#İle klasörü silebiliriz "
   ]
  },
  {
   "cell_type": "code",
   "execution_count": null,
   "id": "0dcb96c5",
   "metadata": {},
   "outputs": [],
   "source": [
    "os.removedirs(\"yeniklasor2/yeniklasör\")\n",
    "#ile dizin belirtip silme işlemi yapabiliriz"
   ]
  },
  {
   "cell_type": "code",
   "execution_count": null,
   "id": "621607d7",
   "metadata": {},
   "outputs": [],
   "source": [
    "#Uzantılar üzerine işlem yapmak için path kullanılır\n",
    "result = os.path.abspath(\"dosya.uzantı\")  #Dosyanın yolunu verir\n",
    "result = os.path.dirname(\"dosya yolu\")    #Dosya isminin tam yolunu verir (dizin ismi)\n",
    "result = os.path.dirname(os.path.abspath(\"dosya.uzantı\")) #Sadece dizin ismini alırız\n",
    "result = os.path.exists(\"dosya.uzantı\")  #Dosya aranılan konumda var mı yokmu sorgusu yapar.İçeriye yolda koyulabilir\n",
    "result = os.path.isdir(\"yol\")  #Bu yol klasör mü sorgusu yapar\n",
    "result = os.path.isfile(\"yol\")  #Bu yol bir dosya mı sorgusu yapar\n",
    "result = os.path.join(\"dizin\",\"dizin2\")  #İle beraber dizinleri birleştirir\n",
    "result = os.path.splittext(\"dizin//dizin2\")  #Birbirinden ayırır dizinleri tekrardan"
   ]
  },
  {
   "cell_type": "markdown",
   "id": "f34b098c",
   "metadata": {},
   "source": [
    "## 3- Regular Expression Modülü (Re Modules):"
   ]
  },
  {
   "cell_type": "code",
   "execution_count": 170,
   "id": "bf2e306f",
   "metadata": {},
   "outputs": [],
   "source": [
    "import re #Regular Expression Modülünü import eder"
   ]
  },
  {
   "cell_type": "markdown",
   "id": "8504af0e",
   "metadata": {},
   "source": [
    "Arama sonucunda bize sonuç getirir.Örnek kullanıcıdan input alıyoruz bu input belli karakterlere uyuyor mu diye bakabiliriz.Uyarı verme işlemleride yapabiliriz"
   ]
  },
  {
   "cell_type": "code",
   "execution_count": 173,
   "id": "c2e9875c",
   "metadata": {},
   "outputs": [
    {
     "name": "stdout",
     "output_type": "stream",
     "text": [
      "['A', 'ASCII', 'DEBUG', 'DOTALL', 'I', 'IGNORECASE', 'L', 'LOCALE', 'M', 'MULTILINE', 'Match', 'Pattern', 'RegexFlag', 'S', 'Scanner', 'T', 'TEMPLATE', 'U', 'UNICODE', 'VERBOSE', 'X', '_MAXCACHE', '__all__', '__builtins__', '__cached__', '__doc__', '__file__', '__loader__', '__name__', '__package__', '__spec__', '__version__', '_cache', '_compile', '_compile_repl', '_expand', '_locale', '_pickle', '_special_chars_map', '_subx', 'compile', 'copyreg', 'enum', 'error', 'escape', 'findall', 'finditer', 'fullmatch', 'functools', 'match', 'purge', 'search', 'split', 'sre_compile', 'sre_parse', 'sub', 'subn', 'template']\n"
     ]
    }
   ],
   "source": [
    "result = dir(re)   #Re modülün içeriğini yazdırır\n",
    "print(result)"
   ]
  },
  {
   "cell_type": "code",
   "execution_count": 243,
   "id": "8abbe533",
   "metadata": {},
   "outputs": [],
   "source": [
    "string = \"Python Kursu : Sıfırdan İleri Seviyeye Py | 120 saat\""
   ]
  },
  {
   "cell_type": "code",
   "execution_count": 180,
   "id": "a0673862",
   "metadata": {},
   "outputs": [
    {
     "name": "stdout",
     "output_type": "stream",
     "text": [
      "['Python']\n",
      "1\n"
     ]
    }
   ],
   "source": [
    "result = re.findall(\"Python\",string)  #ifadeyi değişkende arayabiliriz\n",
    "print(result)\n",
    "print(len(result))   #İle kaç tane bulduğumuzu yazdırabiliriz"
   ]
  },
  {
   "cell_type": "code",
   "execution_count": 182,
   "id": "0a6494de",
   "metadata": {},
   "outputs": [
    {
     "name": "stdout",
     "output_type": "stream",
     "text": [
      "['Python', 'Kursu', ':', 'Sıfırdan', 'İleri', 'Seviyeye', 'Py', '|', '120', 'saat']\n"
     ]
    }
   ],
   "source": [
    "result = re.split(\" \",string)  #Her boşluktan sonrakileri böler birbirinden \n",
    "#İstediğimiz ifaden referans alarak bolme yapabiliriz\n",
    "print(result)"
   ]
  },
  {
   "cell_type": "code",
   "execution_count": 183,
   "id": "1dc2fa38",
   "metadata": {},
   "outputs": [
    {
     "name": "stdout",
     "output_type": "stream",
     "text": [
      "Python-Kursu-:-Sıfırdan-İleri-Seviyeye-Py-|-120-saat\n"
     ]
    }
   ],
   "source": [
    "result = re.sub(\" \",\"-\",string) #Değişkenimizdeki boşluk karakterini - ile değiştirdi\n",
    "print(result)"
   ]
  },
  {
   "cell_type": "code",
   "execution_count": 242,
   "id": "3a8a41bc",
   "metadata": {},
   "outputs": [
    {
     "name": "stdout",
     "output_type": "stream",
     "text": [
      "Python-Kursu-:-Sıfırdan-İleri-Seviyeye-Py-|-120-saat\n"
     ]
    }
   ],
   "source": [
    "result = re.sub(\"\\s\",\"-\",string) #Yaparsakta aynı sonucu bulmuş oluruz\n",
    "print(result)"
   ]
  },
  {
   "cell_type": "code",
   "execution_count": 218,
   "id": "bd90c1d6",
   "metadata": {},
   "outputs": [
    {
     "name": "stdout",
     "output_type": "stream",
     "text": [
      "<re.Match object; span=(0, 6), match='Python'>\n"
     ]
    }
   ],
   "source": [
    "result = re.search(\"Python\",string) #İfadeyi değişkende arar ve kaçıncı indexler arasını span içine yazar\n",
    "print(result)"
   ]
  },
  {
   "cell_type": "code",
   "execution_count": 195,
   "id": "4cdeba53",
   "metadata": {},
   "outputs": [
    {
     "name": "stdout",
     "output_type": "stream",
     "text": [
      "(0, 6)\n"
     ]
    }
   ],
   "source": [
    "result = result.span()   #konumunu buradan alabiliriz\n",
    "print(result)"
   ]
  },
  {
   "cell_type": "code",
   "execution_count": 198,
   "id": "64ebc1c8",
   "metadata": {},
   "outputs": [
    {
     "name": "stdout",
     "output_type": "stream",
     "text": [
      "0\n"
     ]
    }
   ],
   "source": [
    "result = result.start()   #Başlangıç konumunu buradan alabiliriz\n",
    "print(result)"
   ]
  },
  {
   "cell_type": "code",
   "execution_count": 200,
   "id": "6f88ed29",
   "metadata": {},
   "outputs": [
    {
     "name": "stdout",
     "output_type": "stream",
     "text": [
      "6\n"
     ]
    }
   ],
   "source": [
    "result = result.end()   #Bitiş konumunu buradan alabiliriz\n",
    "print(result)"
   ]
  },
  {
   "cell_type": "code",
   "execution_count": 202,
   "id": "0f1adebb",
   "metadata": {},
   "outputs": [
    {
     "name": "stdout",
     "output_type": "stream",
     "text": [
      "Python\n"
     ]
    }
   ],
   "source": [
    "result = result.group()   #Bulduğu ifadeyi yazdırır\n",
    "print(result)"
   ]
  },
  {
   "cell_type": "code",
   "execution_count": 219,
   "id": "7e138140",
   "metadata": {},
   "outputs": [
    {
     "name": "stdout",
     "output_type": "stream",
     "text": [
      "Python Kursu : Sıfırdan İleri Seviyeye Py | 120 saat\n"
     ]
    }
   ],
   "source": [
    "result = result.string   #Aradıma yaptığı yeri yazdırır\n",
    "print(result)"
   ]
  },
  {
   "cell_type": "code",
   "execution_count": 208,
   "id": "51b5039c",
   "metadata": {},
   "outputs": [
    {
     "name": "stdout",
     "output_type": "stream",
     "text": [
      "['a', 'a', 'a']\n"
     ]
    }
   ],
   "source": [
    "result = re.findall(\"[abc]\",string)\n",
    "print(result)      #abc karakterlerini arar"
   ]
  },
  {
   "cell_type": "code",
   "execution_count": 210,
   "id": "5d2876eb",
   "metadata": {},
   "outputs": [
    {
     "name": "stdout",
     "output_type": "stream",
     "text": [
      "['y', 't', 'h', 'o', 'n', 'u', 'r', 's', 'u', 'f', 'r', 'd', 'a', 'n', 'l', 'e', 'r', 'i', 'e', 'v', 'i', 'y', 'e', 'y', 'e', 'y', 's', 'a', 'a', 't']\n"
     ]
    }
   ],
   "source": [
    "result = re.findall(\"[a-z]\",string)\n",
    "print(result)  #A dan z ye karaketerleri arar ve yazdırır"
   ]
  },
  {
   "cell_type": "code",
   "execution_count": 212,
   "id": "685e3564",
   "metadata": {},
   "outputs": [
    {
     "name": "stdout",
     "output_type": "stream",
     "text": [
      "['1', '2', '0']\n"
     ]
    }
   ],
   "source": [
    "result = re.findall(\"[0-5]\",string)\n",
    "print(result)  #0 dan 5 e kadar sayıları arar ve yazdırır"
   ]
  },
  {
   "cell_type": "code",
   "execution_count": 213,
   "id": "4836b10a",
   "metadata": {},
   "outputs": [
    {
     "name": "stdout",
     "output_type": "stream",
     "text": [
      "['P', 'y', 't', 'h', 'o', 'n', ' ', 'K', 'u', 'r', 's', 'u', ' ', ':', ' ', 'S', 'ı', 'f', 'ı', 'r', 'd', 'n', ' ', 'İ', 'l', 'e', 'r', 'i', ' ', 'S', 'e', 'v', 'i', 'y', 'e', 'y', 'e', ' ', 'P', 'y', ' ', '|', ' ', '1', '2', '0', ' ', 's', 't']\n"
     ]
    }
   ],
   "source": [
    "result = re.findall(\"[^abc]\",string)\n",
    "print(result)      #İle abc karakterleri dışındakileri arar "
   ]
  },
  {
   "cell_type": "code",
   "execution_count": 215,
   "id": "c7479ed7",
   "metadata": {},
   "outputs": [
    {
     "name": "stdout",
     "output_type": "stream",
     "text": [
      "['P', 'y', 't', 'h', 'o', 'n', ' ', 'K', 'u', 'r', 's', 'u', ' ', ':', ' ', 'S', 'ı', 'f', 'ı', 'r', 'd', 'a', 'n', ' ', 'İ', 'l', 'e', 'r', 'i', ' ', 'S', 'e', 'v', 'i', 'y', 'e', 'y', 'e', ' ', 'P', 'y', ' ', '|', ' ', ' ', 's', 'a', 'a', 't']\n"
     ]
    }
   ],
   "source": [
    "result = re.findall(\"[^0-9]\",string)\n",
    "print(result)      #0-9 karakterleri dışındakileri arar "
   ]
  },
  {
   "cell_type": "code",
   "execution_count": 220,
   "id": "43f27496",
   "metadata": {},
   "outputs": [
    {
     "name": "stdout",
     "output_type": "stream",
     "text": [
      "['P', 'y', 't', 'h', 'o', 'n', ' ', 'K', 'u', 'r', 's', 'u', ' ', ':', ' ', 'S', 'ı', 'f', 'ı', 'r', 'd', 'a', 'n', ' ', 'İ', 'l', 'e', 'r', 'i', ' ', 'S', 'e', 'v', 'i', 'y', 'e', 'y', 'e', ' ', 'P', 'y', ' ', '|', ' ', '1', '2', '0', ' ', 's', 'a', 'a', 't']\n"
     ]
    }
   ],
   "source": [
    "result = re.findall(\".\",string)\n",
    "print(result)  #Tek basamak  arar ve yazdırrı"
   ]
  },
  {
   "cell_type": "code",
   "execution_count": 221,
   "id": "2c9783a2",
   "metadata": {},
   "outputs": [
    {
     "name": "stdout",
     "output_type": "stream",
     "text": [
      "['Pyt', 'hon', ' Ku', 'rsu', ' : ', 'Sıf', 'ırd', 'an ', 'İle', 'ri ', 'Sev', 'iye', 'ye ', 'Py ', '| 1', '20 ', 'saa']\n"
     ]
    }
   ],
   "source": [
    "result = re.findall(\"...\",string)\n",
    "print(result)  #Üç basamak arar ve  yazdırrı"
   ]
  },
  {
   "cell_type": "code",
   "execution_count": 223,
   "id": "0a8f432e",
   "metadata": {},
   "outputs": [
    {
     "name": "stdout",
     "output_type": "stream",
     "text": [
      "['Python']\n"
     ]
    }
   ],
   "source": [
    "result = re.findall(\"Py..on\",string)\n",
    "print(result)  #Bilinmeyenli ifadeyi arar ve  yazdırır"
   ]
  },
  {
   "cell_type": "code",
   "execution_count": 225,
   "id": "23b62693",
   "metadata": {},
   "outputs": [
    {
     "name": "stdout",
     "output_type": "stream",
     "text": [
      "['P']\n"
     ]
    }
   ],
   "source": [
    "result = re.findall(\"^P\",string)\n",
    "print(result)  #A ile başlıyor mu diye  arar ve yazdırır en başına bakar"
   ]
  },
  {
   "cell_type": "code",
   "execution_count": 227,
   "id": "bc865a1b",
   "metadata": {},
   "outputs": [
    {
     "name": "stdout",
     "output_type": "stream",
     "text": [
      "['saat']\n"
     ]
    }
   ],
   "source": [
    "result = re.findall(\"saat$\",string)\n",
    "print(result)  #saat ile bitiyor mu diye arar ve yazdırır en başına bakar"
   ]
  },
  {
   "cell_type": "code",
   "execution_count": 229,
   "id": "8abb2bda",
   "metadata": {},
   "outputs": [
    {
     "name": "stdout",
     "output_type": "stream",
     "text": [
      "['saat']\n"
     ]
    }
   ],
   "source": [
    "result = re.findall(\"sa*t\",string)\n",
    "print(result)  #* dan önceki ifadeden 0 yada daha fazla olup sonraki ifade ile biterse yazdırır"
   ]
  },
  {
   "cell_type": "code",
   "execution_count": 232,
   "id": "e22fec2d",
   "metadata": {},
   "outputs": [
    {
     "name": "stdout",
     "output_type": "stream",
     "text": [
      "['saat']\n"
     ]
    }
   ],
   "source": [
    "result = re.findall(\"sa+t\",string)\n",
    "print(result)  #* dan önceki ifadeden 1 yada daha fazla olup sonraki ifade ile biterse yazdırır\n",
    "#En az bir tane zorunlu"
   ]
  },
  {
   "cell_type": "code",
   "execution_count": 234,
   "id": "472df423",
   "metadata": {},
   "outputs": [
    {
     "name": "stdout",
     "output_type": "stream",
     "text": [
      "[]\n"
     ]
    }
   ],
   "source": [
    "result = re.findall(\"sa?t\",string)\n",
    "print(result)  #* dan önceki ifadeden 0 yada 1 tane olup sonraki ifade ile biterse yazdırır\n",
    "#İki kere tekrar ettiğinden yazdırmadı arama sonucu boş çıktı yani"
   ]
  },
  {
   "cell_type": "code",
   "execution_count": 237,
   "id": "f949ee7a",
   "metadata": {},
   "outputs": [
    {
     "name": "stdout",
     "output_type": "stream",
     "text": [
      "['aa']\n"
     ]
    }
   ],
   "source": [
    "result = re.findall(\"a{2,3}\",string)\n",
    "print(result)  #2 den 3 e kadar tekrar edenleri arar"
   ]
  },
  {
   "cell_type": "code",
   "execution_count": 240,
   "id": "be194fd7",
   "metadata": {},
   "outputs": [
    {
     "name": "stdout",
     "output_type": "stream",
     "text": [
      "['12']\n"
     ]
    }
   ],
   "source": [
    "result = re.findall(\"[0-9]{2}\",string)\n",
    "print(result)  #2 basamaklı olarak arar ve yazdırır"
   ]
  },
  {
   "cell_type": "code",
   "execution_count": 245,
   "id": "e46cf467",
   "metadata": {},
   "outputs": [
    {
     "name": "stdout",
     "output_type": "stream",
     "text": [
      "['a', 'a', 'a']\n"
     ]
    }
   ],
   "source": [
    "result = re.findall(\"a|b\",string)\n",
    "print(result)  #a yada b araması yapar"
   ]
  },
  {
   "cell_type": "code",
   "execution_count": 247,
   "id": "1655de2b",
   "metadata": {},
   "outputs": [
    {
     "name": "stdout",
     "output_type": "stream",
     "text": [
      "[]\n"
     ]
    }
   ],
   "source": [
    "result = re.findall(\"(a|b|c)xyz\",string)\n",
    "print(result)  #a b yada c kararkterlerinin arkasına xyz gelip gelmediğini arar"
   ]
  },
  {
   "cell_type": "code",
   "execution_count": 248,
   "id": "c26fc965",
   "metadata": {},
   "outputs": [
    {
     "name": "stdout",
     "output_type": "stream",
     "text": [
      "['Python']\n"
     ]
    }
   ],
   "source": [
    "result = re.findall(\"\\APython\",string)\n",
    "print(result)  #Karakter değişkenin başında mı diye arama yapar"
   ]
  },
  {
   "cell_type": "code",
   "execution_count": 253,
   "id": "df3954f4",
   "metadata": {},
   "outputs": [
    {
     "name": "stdout",
     "output_type": "stream",
     "text": [
      "['saat']\n"
     ]
    }
   ],
   "source": [
    "result = re.findall(\"saat\\Z\",string)\n",
    "print(result)  #Karakter değişkenin sonunda mı diye arama yapar"
   ]
  },
  {
   "cell_type": "code",
   "execution_count": 259,
   "id": "a63f0f96",
   "metadata": {},
   "outputs": [
    {
     "name": "stdout",
     "output_type": "stream",
     "text": [
      "['1', '2', '0']\n"
     ]
    }
   ],
   "source": [
    "result = re.findall(\"\\d\",string)\n",
    "print(result)  #[0-9] işlemi ile aynı işlevdedir"
   ]
  },
  {
   "cell_type": "code",
   "execution_count": 262,
   "id": "697fa461",
   "metadata": {},
   "outputs": [
    {
     "name": "stdout",
     "output_type": "stream",
     "text": [
      "['P', 'y', 't', 'h', 'o', 'n', ' ', 'K', 'u', 'r', 's', 'u', ' ', ':', ' ', 'S', 'ı', 'f', 'ı', 'r', 'd', 'a', 'n', ' ', 'İ', 'l', 'e', 'r', 'i', ' ', 'S', 'e', 'v', 'i', 'y', 'e', 'y', 'e', ' ', 'P', 'y', ' ', '|', ' ', ' ', 's', 'a', 'a', 't']\n"
     ]
    }
   ],
   "source": [
    "result = re.findall(\"\\D\",string)\n",
    "print(result)  #^[0-9] işlemi ile aynı işlevdedir"
   ]
  },
  {
   "cell_type": "markdown",
   "id": "ce05a57b",
   "metadata": {},
   "source": [
    "Daha detaylı bilgi için https://www.w3schools.com/python/python_regex.asp sitesine bakabilirsiniz"
   ]
  },
  {
   "cell_type": "markdown",
   "id": "783b3990",
   "metadata": {},
   "source": [
    "## 4 - Json Modülü:"
   ]
  },
  {
   "cell_type": "markdown",
   "id": "f57d5de9",
   "metadata": {},
   "source": [
    "Bu veri türü sıklıkla kullanılır birden çok alanda dilde kullanılır.Her platformun anladığı veri türüdür."
   ]
  },
  {
   "cell_type": "code",
   "execution_count": 263,
   "id": "8ed3923d",
   "metadata": {},
   "outputs": [],
   "source": [
    "person = {\"name\":\"Ali\",\"languages\":[\"Python\",\"C++\"]}\n",
    "#Dictionary yapı"
   ]
  },
  {
   "cell_type": "code",
   "execution_count": 265,
   "id": "5a026037",
   "metadata": {},
   "outputs": [
    {
     "name": "stdout",
     "output_type": "stream",
     "text": [
      "Ali\n"
     ]
    }
   ],
   "source": [
    "result = person[\"name\"]\n",
    "print(result)"
   ]
  },
  {
   "cell_type": "code",
   "execution_count": 266,
   "id": "ef659ae6",
   "metadata": {},
   "outputs": [
    {
     "name": "stdout",
     "output_type": "stream",
     "text": [
      "['Python', 'C++']\n"
     ]
    }
   ],
   "source": [
    "result = person[\"languages\"]\n",
    "print(result)"
   ]
  },
  {
   "cell_type": "code",
   "execution_count": 270,
   "id": "e5909ba6",
   "metadata": {},
   "outputs": [],
   "source": [
    "person_string = '{\"name\":\"Ali\",\"languages\":[\"Python\",\"C++\"]}'\n",
    "#Json ifadeye dönüştürmek için string tipi gibi olmalıdır"
   ]
  },
  {
   "cell_type": "code",
   "execution_count": 271,
   "id": "64cb8c9c",
   "metadata": {},
   "outputs": [],
   "source": [
    "import json #İle beraber json modülünü import edebiliyoruz"
   ]
  },
  {
   "cell_type": "code",
   "execution_count": 274,
   "id": "38e5c7b0",
   "metadata": {
    "scrolled": true
   },
   "outputs": [
    {
     "name": "stdout",
     "output_type": "stream",
     "text": [
      "{'name': 'Ali', 'languages': ['Python', 'C++']}\n",
      "<class 'dict'>\n"
     ]
    }
   ],
   "source": [
    "result = json.loads(person_string)\n",
    "print(result)\n",
    "print(type(result))\n",
    "#String ifadeyi json sayesinde dictionary sözlük tipine dönüştürdük"
   ]
  },
  {
   "cell_type": "code",
   "execution_count": null,
   "id": "10f97bf9",
   "metadata": {},
   "outputs": [],
   "source": [
    "with open(\"person.json\") as f:\n",
    "    data = json.load(f)\n",
    "    print(data)\n",
    "#json bilgiyi okuyabiliriz bu yapı sayesinde harici olan json dosyası"
   ]
  },
  {
   "cell_type": "code",
   "execution_count": 279,
   "id": "56fb33f5",
   "metadata": {},
   "outputs": [],
   "source": [
    "person_dict = {\n",
    "    \"name\":\"Ali\",\n",
    "    \"languages\":[\"Python\",\"C++\"]\n",
    "}"
   ]
  },
  {
   "cell_type": "code",
   "execution_count": 285,
   "id": "a1a9e315",
   "metadata": {},
   "outputs": [
    {
     "name": "stdout",
     "output_type": "stream",
     "text": [
      "{\n",
      "    \"languages\": [\n",
      "        \"Python\",\n",
      "        \"C++\"\n",
      "    ],\n",
      "    \"name\": \"Ali\"\n",
      "}\n"
     ]
    }
   ],
   "source": [
    "result = json.dumps(person_dict,indent=4,sort_keys=True)  #Arası olan yazılış\n",
    "print(result)\n",
    "#Yapısı ile dict ifadeyi string bir biçime dönüştürdük"
   ]
  },
  {
   "cell_type": "markdown",
   "id": "443c7038",
   "metadata": {},
   "source": [
    "### Json Demo"
   ]
  },
  {
   "cell_type": "code",
   "execution_count": null,
   "id": "499ea398",
   "metadata": {},
   "outputs": [],
   "source": []
  },
  {
   "cell_type": "markdown",
   "id": "ed38d473",
   "metadata": {},
   "source": [
    "## 5- Requests Modülü:"
   ]
  },
  {
   "cell_type": "markdown",
   "id": "758bb58a",
   "metadata": {},
   "source": [
    "Python ile beraber otomatik olarak gelmeyen bir modüldür"
   ]
  },
  {
   "cell_type": "markdown",
   "id": "4b49d7cd",
   "metadata": {},
   "source": [
    "https://pypi.org sitesinde birden çok modül,modül detayları geliştirenler ve kurulum ayrıntıları gibi birden çok bilgi bulabiliriz"
   ]
  },
  {
   "cell_type": "code",
   "execution_count": 286,
   "id": "ad17fd1a",
   "metadata": {},
   "outputs": [
    {
     "name": "stdout",
     "output_type": "stream",
     "text": [
      "Requirement already satisfied: requests in c:\\programdata\\anaconda3\\lib\\site-packages (2.27.1)\n",
      "Requirement already satisfied: idna<4,>=2.5 in c:\\programdata\\anaconda3\\lib\\site-packages (from requests) (3.3)\n",
      "Requirement already satisfied: urllib3<1.27,>=1.21.1 in c:\\programdata\\anaconda3\\lib\\site-packages (from requests) (1.26.9)\n",
      "Requirement already satisfied: certifi>=2017.4.17 in c:\\programdata\\anaconda3\\lib\\site-packages (from requests) (2021.10.8)\n",
      "Requirement already satisfied: charset-normalizer~=2.0.0 in c:\\programdata\\anaconda3\\lib\\site-packages (from requests) (2.0.4)\n"
     ]
    }
   ],
   "source": [
    "!pip install requests   #Requests modülünü yüklemek için kullanılır"
   ]
  },
  {
   "cell_type": "code",
   "execution_count": 287,
   "id": "034af0c7",
   "metadata": {},
   "outputs": [
    {
     "name": "stdout",
     "output_type": "stream",
     "text": [
      "Package                       Version\n",
      "----------------------------- --------------------\n",
      "absl-py                       1.2.0\n",
      "aiohttp                       3.8.1\n",
      "aiosignal                     1.2.0\n",
      "alabaster                     0.7.12\n",
      "anaconda-client               1.9.0\n",
      "anaconda-navigator            2.3.1\n",
      "anaconda-project              0.10.2\n",
      "anyio                         3.5.0\n",
      "appdirs                       1.4.4\n",
      "argon2-cffi                   21.3.0\n",
      "argon2-cffi-bindings          21.2.0\n",
      "arrow                         1.2.2\n",
      "astroid                       2.6.6\n",
      "astropy                       5.0.4\n",
      "asttokens                     2.0.5\n",
      "astunparse                    1.6.3\n",
      "async-timeout                 4.0.1\n",
      "atomicwrites                  1.4.0\n",
      "attrs                         21.4.0\n",
      "audioread                     3.0.0\n",
      "Automat                       20.2.0\n",
      "autopep8                      1.6.0\n",
      "Babel                         2.9.1\n",
      "backcall                      0.2.0\n",
      "backports.functools-lru-cache 1.6.4\n",
      "backports.tempfile            1.0\n",
      "backports.weakref             1.0.post1\n",
      "bcrypt                        3.2.0\n",
      "beautifulsoup4                4.11.1\n",
      "binaryornot                   0.4.4\n",
      "bitarray                      2.4.1\n",
      "bkcharts                      0.2\n",
      "black                         19.10b0\n",
      "bleach                        4.1.0\n",
      "bokeh                         2.4.2\n",
      "boto3                         1.21.32\n",
      "botocore                      1.24.32\n",
      "Bottleneck                    1.3.4\n",
      "brotlipy                      0.7.0\n",
      "cachetools                    4.2.2\n",
      "certifi                       2021.10.8\n",
      "cffi                          1.15.0\n",
      "chardet                       4.0.0\n",
      "charset-normalizer            2.0.4\n",
      "click                         8.0.4\n",
      "cloudpickle                   2.0.0\n",
      "clyent                        1.2.2\n",
      "colorama                      0.4.4\n",
      "colorcet                      2.0.6\n",
      "comtypes                      1.1.10\n",
      "conda                         22.9.0\n",
      "conda-build                   3.21.8\n",
      "conda-content-trust           0+unknown\n",
      "conda-pack                    0.6.0\n",
      "conda-package-handling        1.8.1\n",
      "conda-repo-cli                1.0.4\n",
      "conda-token                   0.3.0\n",
      "conda-verify                  3.4.2\n",
      "constantly                    15.1.0\n",
      "cookiecutter                  1.7.3\n",
      "cryptography                  3.4.8\n",
      "cssselect                     1.1.0\n",
      "cycler                        0.11.0\n",
      "Cython                        0.29.28\n",
      "cytoolz                       0.11.0\n",
      "daal4py                       2021.5.0\n",
      "dask                          2022.2.1\n",
      "datashader                    0.13.0\n",
      "datashape                     0.5.4\n",
      "debugpy                       1.5.1\n",
      "decorator                     5.1.1\n",
      "defusedxml                    0.7.1\n",
      "diff-match-patch              20200713\n",
      "distributed                   2022.2.1\n",
      "docutils                      0.17.1\n",
      "entrypoints                   0.4\n",
      "et-xmlfile                    1.1.0\n",
      "executing                     0.8.3\n",
      "fastjsonschema                2.15.1\n",
      "filelock                      3.6.0\n",
      "flake8                        3.9.2\n",
      "Flask                         1.1.2\n",
      "flatbuffers                   2.0.7\n",
      "fonttools                     4.25.0\n",
      "frozenlist                    1.2.0\n",
      "fsspec                        2022.2.0\n",
      "future                        0.18.2\n",
      "gast                          0.4.0\n",
      "gensim                        4.1.2\n",
      "glob2                         0.7\n",
      "google-api-core               1.25.1\n",
      "google-auth                   1.33.0\n",
      "google-auth-oauthlib          0.4.6\n",
      "google-cloud-core             1.7.1\n",
      "google-cloud-storage          1.31.0\n",
      "google-crc32c                 1.1.2\n",
      "google-pasta                  0.2.0\n",
      "google-resumable-media        1.3.1\n",
      "googleapis-common-protos      1.53.0\n",
      "greenlet                      1.1.1\n",
      "grpcio                        1.42.0\n",
      "h5py                          3.6.0\n",
      "HeapDict                      1.0.1\n",
      "holoviews                     1.14.8\n",
      "hvplot                        0.7.3\n",
      "hyperlink                     21.0.0\n",
      "idna                          3.3\n",
      "imagecodecs                   2021.8.26\n",
      "imageio                       2.9.0\n",
      "imagesize                     1.3.0\n",
      "importlib-metadata            4.11.3\n",
      "incremental                   21.3.0\n",
      "inflection                    0.5.1\n",
      "iniconfig                     1.1.1\n",
      "intake                        0.6.5\n",
      "intervaltree                  3.1.0\n",
      "ipykernel                     6.9.1\n",
      "ipython                       8.2.0\n",
      "ipython-genutils              0.2.0\n",
      "ipywidgets                    7.6.5\n",
      "isort                         5.9.3\n",
      "itemadapter                   0.3.0\n",
      "itemloaders                   1.0.4\n",
      "itsdangerous                  2.0.1\n",
      "jdcal                         1.4.1\n",
      "jedi                          0.18.1\n",
      "Jinja2                        2.11.3\n",
      "jinja2-time                   0.2.0\n",
      "jmespath                      0.10.0\n",
      "joblib                        1.1.0\n",
      "json5                         0.9.6\n",
      "jsonschema                    4.4.0\n",
      "jupyter                       1.0.0\n",
      "jupyter-client                6.1.12\n",
      "jupyter-console               6.4.0\n",
      "jupyter-core                  4.9.2\n",
      "jupyter-server                1.13.5\n",
      "jupyterlab                    3.3.2\n",
      "jupyterlab-pygments           0.1.2\n",
      "jupyterlab-server             2.10.3\n",
      "jupyterlab-widgets            1.0.0\n",
      "jupyterthemes                 0.20.0\n",
      "keras                         2.10.0\n",
      "Keras-Preprocessing           1.1.2\n",
      "keyring                       23.4.0\n",
      "kiwisolver                    1.3.2\n",
      "lazy-object-proxy             1.6.0\n",
      "lesscpy                       0.15.0\n",
      "libarchive-c                  2.9\n",
      "libclang                      14.0.6\n",
      "librosa                       0.9.2\n",
      "llvmlite                      0.38.0\n",
      "locket                        0.2.1\n",
      "lxml                          4.8.0\n",
      "Markdown                      3.3.4\n",
      "MarkupSafe                    2.0.1\n",
      "matplotlib                    3.5.1\n",
      "matplotlib-inline             0.1.2\n",
      "mccabe                        0.6.1\n",
      "menuinst                      1.4.18\n",
      "mistune                       0.8.4\n",
      "mkl-fft                       1.3.1\n",
      "mkl-random                    1.2.2\n",
      "mkl-service                   2.4.0\n",
      "mock                          4.0.3\n",
      "mpmath                        1.2.1\n",
      "msgpack                       1.0.2\n",
      "multidict                     5.1.0\n",
      "multipledispatch              0.6.0\n",
      "munkres                       1.1.4\n",
      "mypy-extensions               0.4.3\n",
      "navigator-updater             0.2.1\n",
      "nbclassic                     0.3.5\n",
      "nbclient                      0.5.13\n",
      "nbconvert                     6.4.4\n",
      "nbformat                      5.3.0\n",
      "nest-asyncio                  1.5.5\n",
      "networkx                      2.7.1\n",
      "nltk                          3.7\n",
      "nose                          1.3.7\n",
      "notebook                      6.4.8\n",
      "numba                         0.55.1\n",
      "numexpr                       2.8.1\n",
      "numpy                         1.21.5\n",
      "numpydoc                      1.2\n",
      "oauthlib                      3.2.1\n",
      "olefile                       0.46\n",
      "opencv-python                 4.6.0.66\n",
      "openpyxl                      3.0.9\n",
      "opt-einsum                    3.3.0\n",
      "packaging                     21.3\n",
      "pandas                        1.4.2\n",
      "pandocfilters                 1.5.0\n",
      "panel                         0.13.0\n",
      "param                         1.12.0\n",
      "paramiko                      2.8.1\n",
      "parsel                        1.6.0\n",
      "parso                         0.8.3\n",
      "partd                         1.2.0\n",
      "pathspec                      0.7.0\n",
      "patsy                         0.5.2\n",
      "pep8                          1.7.1\n",
      "pexpect                       4.8.0\n",
      "pickleshare                   0.7.5\n",
      "Pillow                        9.0.1\n",
      "pip                           21.2.4\n",
      "pkginfo                       1.8.2\n",
      "plotly                        5.6.0\n",
      "pluggy                        1.0.0\n",
      "ply                           3.11\n",
      "pooch                         1.6.0\n",
      "poyo                          0.5.0\n",
      "prometheus-client             0.13.1\n",
      "prompt-toolkit                3.0.20\n",
      "Protego                       0.1.16\n",
      "protobuf                      3.19.1\n",
      "psutil                        5.8.0\n",
      "ptyprocess                    0.7.0\n",
      "pure-eval                     0.2.2\n",
      "py                            1.11.0\n",
      "pyasn1                        0.4.8\n",
      "pyasn1-modules                0.2.8\n",
      "pycodestyle                   2.7.0\n",
      "pycosat                       0.6.3\n",
      "pycparser                     2.21\n",
      "pyct                          0.4.6\n",
      "pycurl                        7.44.1\n",
      "PyDispatcher                  2.0.5\n",
      "pydocstyle                    6.1.1\n",
      "pyerfa                        2.0.0\n",
      "pyFirmata                     1.1.0\n",
      "pyflakes                      2.3.1\n",
      "Pygments                      2.11.2\n",
      "PyHamcrest                    2.0.2\n",
      "PyJWT                         2.1.0\n",
      "pylint                        2.9.6\n",
      "pyls-spyder                   0.4.0\n",
      "PyNaCl                        1.4.0\n",
      "pynput                        1.7.6\n",
      "pyodbc                        4.0.32\n",
      "pyOpenSSL                     21.0.0\n",
      "pyparsing                     3.0.4\n",
      "pyreadline                    2.1\n",
      "pyrsistent                    0.18.0\n",
      "pyserial                      3.5\n",
      "PySocks                       1.7.1\n",
      "pytest                        7.1.1\n",
      "python-dateutil               2.8.2\n",
      "python-lsp-black              1.0.0\n",
      "python-lsp-jsonrpc            1.0.0\n",
      "python-lsp-server             1.2.4\n",
      "python-slugify                5.0.2\n",
      "python-snappy                 0.6.0\n",
      "pytz                          2021.3\n",
      "pyviz-comms                   2.0.2\n",
      "PyWavelets                    1.3.0\n",
      "pywin32                       302\n",
      "pywin32-ctypes                0.2.0\n",
      "pywinpty                      2.0.2\n",
      "PyYAML                        6.0\n",
      "pyzmq                         22.3.0\n",
      "QDarkStyle                    3.0.2\n",
      "qstylizer                     0.1.10\n",
      "QtAwesome                     1.0.3\n",
      "qtconsole                     5.3.0\n",
      "QtPy                          2.0.1\n",
      "queuelib                      1.5.0\n",
      "regex                         2022.3.15\n",
      "requests                      2.27.1\n",
      "requests-file                 1.5.1\n",
      "requests-oauthlib             1.3.1\n",
      "resampy                       0.4.2\n",
      "rope                          0.22.0\n",
      "rsa                           4.7.2\n",
      "Rtree                         0.9.7\n",
      "ruamel-yaml-conda             0.15.100\n",
      "s3transfer                    0.5.0\n",
      "scikit-image                  0.19.2\n",
      "scikit-learn                  1.0.2\n",
      "scikit-learn-intelex          2021.20220215.102710\n",
      "scipy                         1.7.3\n",
      "Scrapy                        2.6.1\n",
      "seaborn                       0.11.2\n",
      "Send2Trash                    1.8.0\n",
      "service-identity              18.1.0\n",
      "setuptools                    61.2.0\n",
      "sip                           4.19.13\n",
      "six                           1.16.0\n",
      "smart-open                    5.1.0\n",
      "sniffio                       1.2.0\n",
      "snowballstemmer               2.2.0\n",
      "sortedcollections             2.1.0\n",
      "sortedcontainers              2.4.0\n",
      "soundfile                     0.11.0\n",
      "soupsieve                     2.3.1\n",
      "Sphinx                        4.4.0\n",
      "sphinxcontrib-applehelp       1.0.2\n",
      "sphinxcontrib-devhelp         1.0.2\n",
      "sphinxcontrib-htmlhelp        2.0.0\n",
      "sphinxcontrib-jsmath          1.0.1\n",
      "sphinxcontrib-qthelp          1.0.3\n",
      "sphinxcontrib-serializinghtml 1.1.5\n",
      "spyder                        5.1.5\n",
      "spyder-kernels                2.1.3\n",
      "SQLAlchemy                    1.4.32\n",
      "stack-data                    0.2.0\n",
      "statsmodels                   0.13.2\n",
      "sympy                         1.10.1\n",
      "tables                        3.6.1\n",
      "tabulate                      0.8.9\n",
      "TBB                           0.2\n",
      "tblib                         1.7.0\n",
      "tenacity                      8.0.1\n",
      "tensorboard                   2.10.0\n",
      "tensorboard-data-server       0.6.1\n",
      "tensorboard-plugin-wit        1.8.1\n",
      "tensorflow                    2.10.0\n",
      "tensorflow-estimator          2.10.0\n",
      "tensorflow-io-gcs-filesystem  0.27.0\n",
      "termcolor                     2.0.1\n",
      "terminado                     0.13.1\n",
      "testpath                      0.5.0\n",
      "text-unidecode                1.3\n",
      "textdistance                  4.2.1\n",
      "threadpoolctl                 2.2.0\n",
      "three-merge                   0.1.1\n",
      "tifffile                      2021.7.2\n",
      "tinycss                       0.4\n",
      "tldextract                    3.2.0\n",
      "toml                          0.10.2\n",
      "tomli                         1.2.2\n",
      "toolz                         0.11.2\n",
      "tornado                       6.1\n",
      "tqdm                          4.64.0\n",
      "traitlets                     5.1.1\n",
      "Twisted                       22.2.0\n",
      "twisted-iocpsupport           1.0.2\n",
      "typed-ast                     1.4.3\n",
      "typing_extensions             4.1.1\n",
      "ujson                         5.1.0\n",
      "Unidecode                     1.2.0\n",
      "urllib3                       1.26.9\n",
      "w3lib                         1.21.0\n",
      "watchdog                      2.1.6\n",
      "wcwidth                       0.2.5\n",
      "webencodings                  0.5.1\n",
      "websocket-client              0.58.0\n",
      "Werkzeug                      2.0.3\n",
      "wheel                         0.37.1\n",
      "widgetsnbextension            3.5.2\n",
      "win-inet-pton                 1.1.0\n",
      "win-unicode-console           0.5\n",
      "wincertstore                  0.2\n",
      "wrapt                         1.12.1\n",
      "xarray                        0.20.1\n",
      "xlrd                          2.0.1\n",
      "XlsxWriter                    3.0.3\n",
      "xlwings                       0.24.9\n",
      "yapf                          0.31.0\n",
      "yarl                          1.6.3\n",
      "zict                          2.0.0\n",
      "zipp                          3.7.0\n",
      "zope.interface                5.4.0\n"
     ]
    }
   ],
   "source": [
    "!pip list #Kurulu paket listesini yazdırır"
   ]
  },
  {
   "cell_type": "markdown",
   "id": "ef5a25bc",
   "metadata": {},
   "source": [
    "Herhangi bir adres yazdığımızda internet sayfasının kaynak kodlarına bu paket sayesinde ulaşabiliriz"
   ]
  },
  {
   "cell_type": "code",
   "execution_count": 288,
   "id": "fcdd464a",
   "metadata": {},
   "outputs": [],
   "source": [
    "import requests #İle beraber modülü içeri aktarabiliriz"
   ]
  },
  {
   "cell_type": "code",
   "execution_count": 308,
   "id": "0b8d1b93",
   "metadata": {},
   "outputs": [
    {
     "name": "stdout",
     "output_type": "stream",
     "text": [
      "<Response [200]>\n"
     ]
    }
   ],
   "source": [
    "result = requests.get(\"http://jsonplaceholder.typicode.com/todos\")\n",
    "print(result)\n",
    "#Siteyi result içinde saklıyor gelen Response değeri başarımızı gösteriyor"
   ]
  },
  {
   "cell_type": "code",
   "execution_count": 301,
   "id": "32bdac1e",
   "metadata": {},
   "outputs": [
    {
     "name": "stdout",
     "output_type": "stream",
     "text": [
      "[\n",
      "  {\n",
      "    \"userId\": 1,\n",
      "    \"id\": 1,\n",
      "    \"title\": \"delectus aut autem\",\n",
      "    \"completed\": false\n",
      "  },\n",
      "  {\n",
      "    \"userId\": 1,\n",
      "    \"id\": 2,\n",
      "    \"title\": \"quis ut nam facilis et officia qui\",\n",
      "    \"completed\": false\n",
      "  },\n",
      "  {\n",
      "    \"userId\": 1,\n",
      "    \"id\": 3,\n",
      "    \"title\": \"fugiat veniam minus\",\n",
      "    \"completed\": false\n",
      "  },\n",
      "  {\n",
      "    \"userId\": 1,\n",
      "    \"id\": 4,\n",
      "    \"title\": \"et porro tempora\",\n",
      "    \"completed\": true\n",
      "  },\n",
      "  {\n",
      "    \"userId\": 1,\n",
      "    \"id\": 5,\n",
      "    \"title\": \"laboriosam mollitia et enim quasi adipisci quia provident illum\",\n",
      "    \"completed\": false\n",
      "  },\n",
      "  {\n",
      "    \"userId\": 1,\n",
      "    \"id\": 6,\n",
      "    \"title\": \"qui ullam ratione quibusdam voluptatem quia omnis\",\n",
      "    \"completed\": false\n",
      "  },\n",
      "  {\n",
      "    \"userId\": 1,\n",
      "    \"id\": 7,\n",
      "    \"title\": \"illo expedita consequatur quia in\",\n",
      "    \"completed\": false\n",
      "  },\n",
      "  {\n",
      "    \"userId\": 1,\n",
      "    \"id\": 8,\n",
      "    \"title\": \"quo adipisci enim quam ut ab\",\n",
      "    \"completed\": true\n",
      "  },\n",
      "  {\n",
      "    \"userId\": 1,\n",
      "    \"id\": 9,\n",
      "    \"title\": \"molestiae perspiciatis ipsa\",\n",
      "    \"completed\": false\n",
      "  },\n",
      "  {\n",
      "    \"userId\": 1,\n",
      "    \"id\": 10,\n",
      "    \"title\": \"illo est ratione doloremque quia maiores aut\",\n",
      "    \"completed\": true\n",
      "  },\n",
      "  {\n",
      "    \"userId\": 1,\n",
      "    \"id\": 11,\n",
      "    \"title\": \"vero rerum temporibus dolor\",\n",
      "    \"completed\": true\n",
      "  },\n",
      "  {\n",
      "    \"userId\": 1,\n",
      "    \"id\": 12,\n",
      "    \"title\": \"ipsa repellendus fugit nisi\",\n",
      "    \"completed\": true\n",
      "  },\n",
      "  {\n",
      "    \"userId\": 1,\n",
      "    \"id\": 13,\n",
      "    \"title\": \"et doloremque nulla\",\n",
      "    \"completed\": false\n",
      "  },\n",
      "  {\n",
      "    \"userId\": 1,\n",
      "    \"id\": 14,\n",
      "    \"title\": \"repellendus sunt dolores architecto voluptatum\",\n",
      "    \"completed\": true\n",
      "  },\n",
      "  {\n",
      "    \"userId\": 1,\n",
      "    \"id\": 15,\n",
      "    \"title\": \"ab voluptatum amet voluptas\",\n",
      "    \"completed\": true\n",
      "  },\n",
      "  {\n",
      "    \"userId\": 1,\n",
      "    \"id\": 16,\n",
      "    \"title\": \"accusamus eos facilis sint et aut voluptatem\",\n",
      "    \"completed\": true\n",
      "  },\n",
      "  {\n",
      "    \"userId\": 1,\n",
      "    \"id\": 17,\n",
      "    \"title\": \"quo laboriosam deleniti aut qui\",\n",
      "    \"completed\": true\n",
      "  },\n",
      "  {\n",
      "    \"userId\": 1,\n",
      "    \"id\": 18,\n",
      "    \"title\": \"dolorum est consequatur ea mollitia in culpa\",\n",
      "    \"completed\": false\n",
      "  },\n",
      "  {\n",
      "    \"userId\": 1,\n",
      "    \"id\": 19,\n",
      "    \"title\": \"molestiae ipsa aut voluptatibus pariatur dolor nihil\",\n",
      "    \"completed\": true\n",
      "  },\n",
      "  {\n",
      "    \"userId\": 1,\n",
      "    \"id\": 20,\n",
      "    \"title\": \"ullam nobis libero sapiente ad optio sint\",\n",
      "    \"completed\": true\n",
      "  },\n",
      "  {\n",
      "    \"userId\": 2,\n",
      "    \"id\": 21,\n",
      "    \"title\": \"suscipit repellat esse quibusdam voluptatem incidunt\",\n",
      "    \"completed\": false\n",
      "  },\n",
      "  {\n",
      "    \"userId\": 2,\n",
      "    \"id\": 22,\n",
      "    \"title\": \"distinctio vitae autem nihil ut molestias quo\",\n",
      "    \"completed\": true\n",
      "  },\n",
      "  {\n",
      "    \"userId\": 2,\n",
      "    \"id\": 23,\n",
      "    \"title\": \"et itaque necessitatibus maxime molestiae qui quas velit\",\n",
      "    \"completed\": false\n",
      "  },\n",
      "  {\n",
      "    \"userId\": 2,\n",
      "    \"id\": 24,\n",
      "    \"title\": \"adipisci non ad dicta qui amet quaerat doloribus ea\",\n",
      "    \"completed\": false\n",
      "  },\n",
      "  {\n",
      "    \"userId\": 2,\n",
      "    \"id\": 25,\n",
      "    \"title\": \"voluptas quo tenetur perspiciatis explicabo natus\",\n",
      "    \"completed\": true\n",
      "  },\n",
      "  {\n",
      "    \"userId\": 2,\n",
      "    \"id\": 26,\n",
      "    \"title\": \"aliquam aut quasi\",\n",
      "    \"completed\": true\n",
      "  },\n",
      "  {\n",
      "    \"userId\": 2,\n",
      "    \"id\": 27,\n",
      "    \"title\": \"veritatis pariatur delectus\",\n",
      "    \"completed\": true\n",
      "  },\n",
      "  {\n",
      "    \"userId\": 2,\n",
      "    \"id\": 28,\n",
      "    \"title\": \"nesciunt totam sit blanditiis sit\",\n",
      "    \"completed\": false\n",
      "  },\n",
      "  {\n",
      "    \"userId\": 2,\n",
      "    \"id\": 29,\n",
      "    \"title\": \"laborum aut in quam\",\n",
      "    \"completed\": false\n",
      "  },\n",
      "  {\n",
      "    \"userId\": 2,\n",
      "    \"id\": 30,\n",
      "    \"title\": \"nemo perspiciatis repellat ut dolor libero commodi blanditiis omnis\",\n",
      "    \"completed\": true\n",
      "  },\n",
      "  {\n",
      "    \"userId\": 2,\n",
      "    \"id\": 31,\n",
      "    \"title\": \"repudiandae totam in est sint facere fuga\",\n",
      "    \"completed\": false\n",
      "  },\n",
      "  {\n",
      "    \"userId\": 2,\n",
      "    \"id\": 32,\n",
      "    \"title\": \"earum doloribus ea doloremque quis\",\n",
      "    \"completed\": false\n",
      "  },\n",
      "  {\n",
      "    \"userId\": 2,\n",
      "    \"id\": 33,\n",
      "    \"title\": \"sint sit aut vero\",\n",
      "    \"completed\": false\n",
      "  },\n",
      "  {\n",
      "    \"userId\": 2,\n",
      "    \"id\": 34,\n",
      "    \"title\": \"porro aut necessitatibus eaque distinctio\",\n",
      "    \"completed\": false\n",
      "  },\n",
      "  {\n",
      "    \"userId\": 2,\n",
      "    \"id\": 35,\n",
      "    \"title\": \"repellendus veritatis molestias dicta incidunt\",\n",
      "    \"completed\": true\n",
      "  },\n",
      "  {\n",
      "    \"userId\": 2,\n",
      "    \"id\": 36,\n",
      "    \"title\": \"excepturi deleniti adipisci voluptatem et neque optio illum ad\",\n",
      "    \"completed\": true\n",
      "  },\n",
      "  {\n",
      "    \"userId\": 2,\n",
      "    \"id\": 37,\n",
      "    \"title\": \"sunt cum tempora\",\n",
      "    \"completed\": false\n",
      "  },\n",
      "  {\n",
      "    \"userId\": 2,\n",
      "    \"id\": 38,\n",
      "    \"title\": \"totam quia non\",\n",
      "    \"completed\": false\n",
      "  },\n",
      "  {\n",
      "    \"userId\": 2,\n",
      "    \"id\": 39,\n",
      "    \"title\": \"doloremque quibusdam asperiores libero corrupti illum qui omnis\",\n",
      "    \"completed\": false\n",
      "  },\n",
      "  {\n",
      "    \"userId\": 2,\n",
      "    \"id\": 40,\n",
      "    \"title\": \"totam atque quo nesciunt\",\n",
      "    \"completed\": true\n",
      "  },\n",
      "  {\n",
      "    \"userId\": 3,\n",
      "    \"id\": 41,\n",
      "    \"title\": \"aliquid amet impedit consequatur aspernatur placeat eaque fugiat suscipit\",\n",
      "    \"completed\": false\n",
      "  },\n",
      "  {\n",
      "    \"userId\": 3,\n",
      "    \"id\": 42,\n",
      "    \"title\": \"rerum perferendis error quia ut eveniet\",\n",
      "    \"completed\": false\n",
      "  },\n",
      "  {\n",
      "    \"userId\": 3,\n",
      "    \"id\": 43,\n",
      "    \"title\": \"tempore ut sint quis recusandae\",\n",
      "    \"completed\": true\n",
      "  },\n",
      "  {\n",
      "    \"userId\": 3,\n",
      "    \"id\": 44,\n",
      "    \"title\": \"cum debitis quis accusamus doloremque ipsa natus sapiente omnis\",\n",
      "    \"completed\": true\n",
      "  },\n",
      "  {\n",
      "    \"userId\": 3,\n",
      "    \"id\": 45,\n",
      "    \"title\": \"velit soluta adipisci molestias reiciendis harum\",\n",
      "    \"completed\": false\n",
      "  },\n",
      "  {\n",
      "    \"userId\": 3,\n",
      "    \"id\": 46,\n",
      "    \"title\": \"vel voluptatem repellat nihil placeat corporis\",\n",
      "    \"completed\": false\n",
      "  },\n",
      "  {\n",
      "    \"userId\": 3,\n",
      "    \"id\": 47,\n",
      "    \"title\": \"nam qui rerum fugiat accusamus\",\n",
      "    \"completed\": false\n",
      "  },\n",
      "  {\n",
      "    \"userId\": 3,\n",
      "    \"id\": 48,\n",
      "    \"title\": \"sit reprehenderit omnis quia\",\n",
      "    \"completed\": false\n",
      "  },\n",
      "  {\n",
      "    \"userId\": 3,\n",
      "    \"id\": 49,\n",
      "    \"title\": \"ut necessitatibus aut maiores debitis officia blanditiis velit et\",\n",
      "    \"completed\": false\n",
      "  },\n",
      "  {\n",
      "    \"userId\": 3,\n",
      "    \"id\": 50,\n",
      "    \"title\": \"cupiditate necessitatibus ullam aut quis dolor voluptate\",\n",
      "    \"completed\": true\n",
      "  },\n",
      "  {\n",
      "    \"userId\": 3,\n",
      "    \"id\": 51,\n",
      "    \"title\": \"distinctio exercitationem ab doloribus\",\n",
      "    \"completed\": false\n",
      "  },\n",
      "  {\n",
      "    \"userId\": 3,\n",
      "    \"id\": 52,\n",
      "    \"title\": \"nesciunt dolorum quis recusandae ad pariatur ratione\",\n",
      "    \"completed\": false\n",
      "  },\n",
      "  {\n",
      "    \"userId\": 3,\n",
      "    \"id\": 53,\n",
      "    \"title\": \"qui labore est occaecati recusandae aliquid quam\",\n",
      "    \"completed\": false\n",
      "  },\n",
      "  {\n",
      "    \"userId\": 3,\n",
      "    \"id\": 54,\n",
      "    \"title\": \"quis et est ut voluptate quam dolor\",\n",
      "    \"completed\": true\n",
      "  },\n",
      "  {\n",
      "    \"userId\": 3,\n",
      "    \"id\": 55,\n",
      "    \"title\": \"voluptatum omnis minima qui occaecati provident nulla voluptatem ratione\",\n",
      "    \"completed\": true\n",
      "  },\n",
      "  {\n",
      "    \"userId\": 3,\n",
      "    \"id\": 56,\n",
      "    \"title\": \"deleniti ea temporibus enim\",\n",
      "    \"completed\": true\n",
      "  },\n",
      "  {\n",
      "    \"userId\": 3,\n",
      "    \"id\": 57,\n",
      "    \"title\": \"pariatur et magnam ea doloribus similique voluptatem rerum quia\",\n",
      "    \"completed\": false\n",
      "  },\n",
      "  {\n",
      "    \"userId\": 3,\n",
      "    \"id\": 58,\n",
      "    \"title\": \"est dicta totam qui explicabo doloribus qui dignissimos\",\n",
      "    \"completed\": false\n",
      "  },\n",
      "  {\n",
      "    \"userId\": 3,\n",
      "    \"id\": 59,\n",
      "    \"title\": \"perspiciatis velit id laborum placeat iusto et aliquam odio\",\n",
      "    \"completed\": false\n",
      "  },\n",
      "  {\n",
      "    \"userId\": 3,\n",
      "    \"id\": 60,\n",
      "    \"title\": \"et sequi qui architecto ut adipisci\",\n",
      "    \"completed\": true\n",
      "  },\n",
      "  {\n",
      "    \"userId\": 4,\n",
      "    \"id\": 61,\n",
      "    \"title\": \"odit optio omnis qui sunt\",\n",
      "    \"completed\": true\n",
      "  },\n",
      "  {\n",
      "    \"userId\": 4,\n",
      "    \"id\": 62,\n",
      "    \"title\": \"et placeat et tempore aspernatur sint numquam\",\n",
      "    \"completed\": false\n",
      "  },\n",
      "  {\n",
      "    \"userId\": 4,\n",
      "    \"id\": 63,\n",
      "    \"title\": \"doloremque aut dolores quidem fuga qui nulla\",\n",
      "    \"completed\": true\n",
      "  },\n",
      "  {\n",
      "    \"userId\": 4,\n",
      "    \"id\": 64,\n",
      "    \"title\": \"voluptas consequatur qui ut quia magnam nemo esse\",\n",
      "    \"completed\": false\n",
      "  },\n",
      "  {\n",
      "    \"userId\": 4,\n",
      "    \"id\": 65,\n",
      "    \"title\": \"fugiat pariatur ratione ut asperiores necessitatibus magni\",\n",
      "    \"completed\": false\n",
      "  },\n",
      "  {\n",
      "    \"userId\": 4,\n",
      "    \"id\": 66,\n",
      "    \"title\": \"rerum eum molestias autem voluptatum sit optio\",\n",
      "    \"completed\": false\n",
      "  },\n",
      "  {\n",
      "    \"userId\": 4,\n",
      "    \"id\": 67,\n",
      "    \"title\": \"quia voluptatibus voluptatem quos similique maiores repellat\",\n",
      "    \"completed\": false\n",
      "  },\n",
      "  {\n",
      "    \"userId\": 4,\n",
      "    \"id\": 68,\n",
      "    \"title\": \"aut id perspiciatis voluptatem iusto\",\n",
      "    \"completed\": false\n",
      "  },\n",
      "  {\n",
      "    \"userId\": 4,\n",
      "    \"id\": 69,\n",
      "    \"title\": \"doloribus sint dolorum ab adipisci itaque dignissimos aliquam suscipit\",\n",
      "    \"completed\": false\n",
      "  },\n",
      "  {\n",
      "    \"userId\": 4,\n",
      "    \"id\": 70,\n",
      "    \"title\": \"ut sequi accusantium et mollitia delectus sunt\",\n",
      "    \"completed\": false\n",
      "  },\n",
      "  {\n",
      "    \"userId\": 4,\n",
      "    \"id\": 71,\n",
      "    \"title\": \"aut velit saepe ullam\",\n",
      "    \"completed\": false\n",
      "  },\n",
      "  {\n",
      "    \"userId\": 4,\n",
      "    \"id\": 72,\n",
      "    \"title\": \"praesentium facilis facere quis harum voluptatibus voluptatem eum\",\n",
      "    \"completed\": false\n",
      "  },\n",
      "  {\n",
      "    \"userId\": 4,\n",
      "    \"id\": 73,\n",
      "    \"title\": \"sint amet quia totam corporis qui exercitationem commodi\",\n",
      "    \"completed\": true\n",
      "  },\n",
      "  {\n",
      "    \"userId\": 4,\n",
      "    \"id\": 74,\n",
      "    \"title\": \"expedita tempore nobis eveniet laborum maiores\",\n",
      "    \"completed\": false\n",
      "  },\n",
      "  {\n",
      "    \"userId\": 4,\n",
      "    \"id\": 75,\n",
      "    \"title\": \"occaecati adipisci est possimus totam\",\n",
      "    \"completed\": false\n",
      "  },\n",
      "  {\n",
      "    \"userId\": 4,\n",
      "    \"id\": 76,\n",
      "    \"title\": \"sequi dolorem sed\",\n",
      "    \"completed\": true\n",
      "  },\n",
      "  {\n",
      "    \"userId\": 4,\n",
      "    \"id\": 77,\n",
      "    \"title\": \"maiores aut nesciunt delectus exercitationem vel assumenda eligendi at\",\n",
      "    \"completed\": false\n",
      "  },\n",
      "  {\n",
      "    \"userId\": 4,\n",
      "    \"id\": 78,\n",
      "    \"title\": \"reiciendis est magnam amet nemo iste recusandae impedit quaerat\",\n",
      "    \"completed\": false\n",
      "  },\n",
      "  {\n",
      "    \"userId\": 4,\n",
      "    \"id\": 79,\n",
      "    \"title\": \"eum ipsa maxime ut\",\n",
      "    \"completed\": true\n",
      "  },\n",
      "  {\n",
      "    \"userId\": 4,\n",
      "    \"id\": 80,\n",
      "    \"title\": \"tempore molestias dolores rerum sequi voluptates ipsum consequatur\",\n",
      "    \"completed\": true\n",
      "  },\n",
      "  {\n",
      "    \"userId\": 5,\n",
      "    \"id\": 81,\n",
      "    \"title\": \"suscipit qui totam\",\n",
      "    \"completed\": true\n",
      "  },\n",
      "  {\n",
      "    \"userId\": 5,\n",
      "    \"id\": 82,\n",
      "    \"title\": \"voluptates eum voluptas et dicta\",\n",
      "    \"completed\": false\n",
      "  },\n",
      "  {\n",
      "    \"userId\": 5,\n",
      "    \"id\": 83,\n",
      "    \"title\": \"quidem at rerum quis ex aut sit quam\",\n",
      "    \"completed\": true\n",
      "  },\n",
      "  {\n",
      "    \"userId\": 5,\n",
      "    \"id\": 84,\n",
      "    \"title\": \"sunt veritatis ut voluptate\",\n",
      "    \"completed\": false\n",
      "  },\n",
      "  {\n",
      "    \"userId\": 5,\n",
      "    \"id\": 85,\n",
      "    \"title\": \"et quia ad iste a\",\n",
      "    \"completed\": true\n",
      "  },\n",
      "  {\n",
      "    \"userId\": 5,\n",
      "    \"id\": 86,\n",
      "    \"title\": \"incidunt ut saepe autem\",\n",
      "    \"completed\": true\n",
      "  },\n",
      "  {\n",
      "    \"userId\": 5,\n",
      "    \"id\": 87,\n",
      "    \"title\": \"laudantium quae eligendi consequatur quia et vero autem\",\n",
      "    \"completed\": true\n",
      "  },\n",
      "  {\n",
      "    \"userId\": 5,\n",
      "    \"id\": 88,\n",
      "    \"title\": \"vitae aut excepturi laboriosam sint aliquam et et accusantium\",\n",
      "    \"completed\": false\n",
      "  },\n",
      "  {\n",
      "    \"userId\": 5,\n",
      "    \"id\": 89,\n",
      "    \"title\": \"sequi ut omnis et\",\n",
      "    \"completed\": true\n",
      "  },\n",
      "  {\n",
      "    \"userId\": 5,\n",
      "    \"id\": 90,\n",
      "    \"title\": \"molestiae nisi accusantium tenetur dolorem et\",\n",
      "    \"completed\": true\n",
      "  },\n",
      "  {\n",
      "    \"userId\": 5,\n",
      "    \"id\": 91,\n",
      "    \"title\": \"nulla quis consequatur saepe qui id expedita\",\n",
      "    \"completed\": true\n",
      "  },\n",
      "  {\n",
      "    \"userId\": 5,\n",
      "    \"id\": 92,\n",
      "    \"title\": \"in omnis laboriosam\",\n",
      "    \"completed\": true\n",
      "  },\n",
      "  {\n",
      "    \"userId\": 5,\n",
      "    \"id\": 93,\n",
      "    \"title\": \"odio iure consequatur molestiae quibusdam necessitatibus quia sint\",\n",
      "    \"completed\": true\n",
      "  },\n",
      "  {\n",
      "    \"userId\": 5,\n",
      "    \"id\": 94,\n",
      "    \"title\": \"facilis modi saepe mollitia\",\n",
      "    \"completed\": false\n",
      "  },\n",
      "  {\n",
      "    \"userId\": 5,\n",
      "    \"id\": 95,\n",
      "    \"title\": \"vel nihil et molestiae iusto assumenda nemo quo ut\",\n",
      "    \"completed\": true\n",
      "  },\n",
      "  {\n",
      "    \"userId\": 5,\n",
      "    \"id\": 96,\n",
      "    \"title\": \"nobis suscipit ducimus enim asperiores voluptas\",\n",
      "    \"completed\": false\n",
      "  },\n",
      "  {\n",
      "    \"userId\": 5,\n",
      "    \"id\": 97,\n",
      "    \"title\": \"dolorum laboriosam eos qui iure aliquam\",\n",
      "    \"completed\": false\n",
      "  },\n",
      "  {\n",
      "    \"userId\": 5,\n",
      "    \"id\": 98,\n",
      "    \"title\": \"debitis accusantium ut quo facilis nihil quis sapiente necessitatibus\",\n",
      "    \"completed\": true\n",
      "  },\n",
      "  {\n",
      "    \"userId\": 5,\n",
      "    \"id\": 99,\n",
      "    \"title\": \"neque voluptates ratione\",\n",
      "    \"completed\": false\n",
      "  },\n",
      "  {\n",
      "    \"userId\": 5,\n",
      "    \"id\": 100,\n",
      "    \"title\": \"excepturi a et neque qui expedita vel voluptate\",\n",
      "    \"completed\": false\n",
      "  },\n",
      "  {\n",
      "    \"userId\": 6,\n",
      "    \"id\": 101,\n",
      "    \"title\": \"explicabo enim cumque porro aperiam occaecati minima\",\n",
      "    \"completed\": false\n",
      "  },\n",
      "  {\n",
      "    \"userId\": 6,\n",
      "    \"id\": 102,\n",
      "    \"title\": \"sed ab consequatur\",\n",
      "    \"completed\": false\n",
      "  },\n",
      "  {\n",
      "    \"userId\": 6,\n",
      "    \"id\": 103,\n",
      "    \"title\": \"non sunt delectus illo nulla tenetur enim omnis\",\n",
      "    \"completed\": false\n",
      "  },\n",
      "  {\n",
      "    \"userId\": 6,\n",
      "    \"id\": 104,\n",
      "    \"title\": \"excepturi non laudantium quo\",\n",
      "    \"completed\": false\n",
      "  },\n",
      "  {\n",
      "    \"userId\": 6,\n",
      "    \"id\": 105,\n",
      "    \"title\": \"totam quia dolorem et illum repellat voluptas optio\",\n",
      "    \"completed\": true\n",
      "  },\n",
      "  {\n",
      "    \"userId\": 6,\n",
      "    \"id\": 106,\n",
      "    \"title\": \"ad illo quis voluptatem temporibus\",\n",
      "    \"completed\": true\n",
      "  },\n",
      "  {\n",
      "    \"userId\": 6,\n",
      "    \"id\": 107,\n",
      "    \"title\": \"praesentium facilis omnis laudantium fugit ad iusto nihil nesciunt\",\n",
      "    \"completed\": false\n",
      "  },\n",
      "  {\n",
      "    \"userId\": 6,\n",
      "    \"id\": 108,\n",
      "    \"title\": \"a eos eaque nihil et exercitationem incidunt delectus\",\n",
      "    \"completed\": true\n",
      "  },\n",
      "  {\n",
      "    \"userId\": 6,\n",
      "    \"id\": 109,\n",
      "    \"title\": \"autem temporibus harum quisquam in culpa\",\n",
      "    \"completed\": true\n",
      "  },\n",
      "  {\n",
      "    \"userId\": 6,\n",
      "    \"id\": 110,\n",
      "    \"title\": \"aut aut ea corporis\",\n",
      "    \"completed\": true\n",
      "  },\n",
      "  {\n",
      "    \"userId\": 6,\n",
      "    \"id\": 111,\n",
      "    \"title\": \"magni accusantium labore et id quis provident\",\n",
      "    \"completed\": false\n",
      "  },\n",
      "  {\n",
      "    \"userId\": 6,\n",
      "    \"id\": 112,\n",
      "    \"title\": \"consectetur impedit quisquam qui deserunt non rerum consequuntur eius\",\n",
      "    \"completed\": false\n",
      "  },\n",
      "  {\n",
      "    \"userId\": 6,\n",
      "    \"id\": 113,\n",
      "    \"title\": \"quia atque aliquam sunt impedit voluptatum rerum assumenda nisi\",\n",
      "    \"completed\": false\n",
      "  },\n",
      "  {\n",
      "    \"userId\": 6,\n",
      "    \"id\": 114,\n",
      "    \"title\": \"cupiditate quos possimus corporis quisquam exercitationem beatae\",\n",
      "    \"completed\": false\n",
      "  },\n",
      "  {\n",
      "    \"userId\": 6,\n",
      "    \"id\": 115,\n",
      "    \"title\": \"sed et ea eum\",\n",
      "    \"completed\": false\n",
      "  },\n",
      "  {\n",
      "    \"userId\": 6,\n",
      "    \"id\": 116,\n",
      "    \"title\": \"ipsa dolores vel facilis ut\",\n",
      "    \"completed\": true\n",
      "  },\n",
      "  {\n",
      "    \"userId\": 6,\n",
      "    \"id\": 117,\n",
      "    \"title\": \"sequi quae est et qui qui eveniet asperiores\",\n",
      "    \"completed\": false\n",
      "  },\n",
      "  {\n",
      "    \"userId\": 6,\n",
      "    \"id\": 118,\n",
      "    \"title\": \"quia modi consequatur vero fugiat\",\n",
      "    \"completed\": false\n",
      "  },\n",
      "  {\n",
      "    \"userId\": 6,\n",
      "    \"id\": 119,\n",
      "    \"title\": \"corporis ducimus ea perspiciatis iste\",\n",
      "    \"completed\": false\n",
      "  },\n",
      "  {\n",
      "    \"userId\": 6,\n",
      "    \"id\": 120,\n",
      "    \"title\": \"dolorem laboriosam vel voluptas et aliquam quasi\",\n",
      "    \"completed\": false\n",
      "  },\n",
      "  {\n",
      "    \"userId\": 7,\n",
      "    \"id\": 121,\n",
      "    \"title\": \"inventore aut nihil minima laudantium hic qui omnis\",\n",
      "    \"completed\": true\n",
      "  },\n",
      "  {\n",
      "    \"userId\": 7,\n",
      "    \"id\": 122,\n",
      "    \"title\": \"provident aut nobis culpa\",\n",
      "    \"completed\": true\n",
      "  },\n",
      "  {\n",
      "    \"userId\": 7,\n",
      "    \"id\": 123,\n",
      "    \"title\": \"esse et quis iste est earum aut impedit\",\n",
      "    \"completed\": false\n",
      "  },\n",
      "  {\n",
      "    \"userId\": 7,\n",
      "    \"id\": 124,\n",
      "    \"title\": \"qui consectetur id\",\n",
      "    \"completed\": false\n",
      "  },\n",
      "  {\n",
      "    \"userId\": 7,\n",
      "    \"id\": 125,\n",
      "    \"title\": \"aut quasi autem iste tempore illum possimus\",\n",
      "    \"completed\": false\n",
      "  },\n",
      "  {\n",
      "    \"userId\": 7,\n",
      "    \"id\": 126,\n",
      "    \"title\": \"ut asperiores perspiciatis veniam ipsum rerum saepe\",\n",
      "    \"completed\": true\n",
      "  },\n",
      "  {\n",
      "    \"userId\": 7,\n",
      "    \"id\": 127,\n",
      "    \"title\": \"voluptatem libero consectetur rerum ut\",\n",
      "    \"completed\": true\n",
      "  },\n",
      "  {\n",
      "    \"userId\": 7,\n",
      "    \"id\": 128,\n",
      "    \"title\": \"eius omnis est qui voluptatem autem\",\n",
      "    \"completed\": false\n",
      "  },\n",
      "  {\n",
      "    \"userId\": 7,\n",
      "    \"id\": 129,\n",
      "    \"title\": \"rerum culpa quis harum\",\n",
      "    \"completed\": false\n",
      "  },\n",
      "  {\n",
      "    \"userId\": 7,\n",
      "    \"id\": 130,\n",
      "    \"title\": \"nulla aliquid eveniet harum laborum libero alias ut unde\",\n",
      "    \"completed\": true\n",
      "  },\n",
      "  {\n",
      "    \"userId\": 7,\n",
      "    \"id\": 131,\n",
      "    \"title\": \"qui ea incidunt quis\",\n",
      "    \"completed\": false\n",
      "  },\n",
      "  {\n",
      "    \"userId\": 7,\n",
      "    \"id\": 132,\n",
      "    \"title\": \"qui molestiae voluptatibus velit iure harum quisquam\",\n",
      "    \"completed\": true\n",
      "  },\n",
      "  {\n",
      "    \"userId\": 7,\n",
      "    \"id\": 133,\n",
      "    \"title\": \"et labore eos enim rerum consequatur sunt\",\n",
      "    \"completed\": true\n",
      "  },\n",
      "  {\n",
      "    \"userId\": 7,\n",
      "    \"id\": 134,\n",
      "    \"title\": \"molestiae doloribus et laborum quod ea\",\n",
      "    \"completed\": false\n",
      "  },\n",
      "  {\n",
      "    \"userId\": 7,\n",
      "    \"id\": 135,\n",
      "    \"title\": \"facere ipsa nam eum voluptates reiciendis vero qui\",\n",
      "    \"completed\": false\n",
      "  },\n",
      "  {\n",
      "    \"userId\": 7,\n",
      "    \"id\": 136,\n",
      "    \"title\": \"asperiores illo tempora fuga sed ut quasi adipisci\",\n",
      "    \"completed\": false\n",
      "  },\n",
      "  {\n",
      "    \"userId\": 7,\n",
      "    \"id\": 137,\n",
      "    \"title\": \"qui sit non\",\n",
      "    \"completed\": false\n",
      "  },\n",
      "  {\n",
      "    \"userId\": 7,\n",
      "    \"id\": 138,\n",
      "    \"title\": \"placeat minima consequatur rem qui ut\",\n",
      "    \"completed\": true\n",
      "  },\n",
      "  {\n",
      "    \"userId\": 7,\n",
      "    \"id\": 139,\n",
      "    \"title\": \"consequatur doloribus id possimus voluptas a voluptatem\",\n",
      "    \"completed\": false\n",
      "  },\n",
      "  {\n",
      "    \"userId\": 7,\n",
      "    \"id\": 140,\n",
      "    \"title\": \"aut consectetur in blanditiis deserunt quia sed laboriosam\",\n",
      "    \"completed\": true\n",
      "  },\n",
      "  {\n",
      "    \"userId\": 8,\n",
      "    \"id\": 141,\n",
      "    \"title\": \"explicabo consectetur debitis voluptates quas quae culpa rerum non\",\n",
      "    \"completed\": true\n",
      "  },\n",
      "  {\n",
      "    \"userId\": 8,\n",
      "    \"id\": 142,\n",
      "    \"title\": \"maiores accusantium architecto necessitatibus reiciendis ea aut\",\n",
      "    \"completed\": true\n",
      "  },\n",
      "  {\n",
      "    \"userId\": 8,\n",
      "    \"id\": 143,\n",
      "    \"title\": \"eum non recusandae cupiditate animi\",\n",
      "    \"completed\": false\n",
      "  },\n",
      "  {\n",
      "    \"userId\": 8,\n",
      "    \"id\": 144,\n",
      "    \"title\": \"ut eum exercitationem sint\",\n",
      "    \"completed\": false\n",
      "  },\n",
      "  {\n",
      "    \"userId\": 8,\n",
      "    \"id\": 145,\n",
      "    \"title\": \"beatae qui ullam incidunt voluptatem non nisi aliquam\",\n",
      "    \"completed\": false\n",
      "  },\n",
      "  {\n",
      "    \"userId\": 8,\n",
      "    \"id\": 146,\n",
      "    \"title\": \"molestiae suscipit ratione nihil odio libero impedit vero totam\",\n",
      "    \"completed\": true\n",
      "  },\n",
      "  {\n",
      "    \"userId\": 8,\n",
      "    \"id\": 147,\n",
      "    \"title\": \"eum itaque quod reprehenderit et facilis dolor autem ut\",\n",
      "    \"completed\": true\n",
      "  },\n",
      "  {\n",
      "    \"userId\": 8,\n",
      "    \"id\": 148,\n",
      "    \"title\": \"esse quas et quo quasi exercitationem\",\n",
      "    \"completed\": false\n",
      "  },\n",
      "  {\n",
      "    \"userId\": 8,\n",
      "    \"id\": 149,\n",
      "    \"title\": \"animi voluptas quod perferendis est\",\n",
      "    \"completed\": false\n",
      "  },\n",
      "  {\n",
      "    \"userId\": 8,\n",
      "    \"id\": 150,\n",
      "    \"title\": \"eos amet tempore laudantium fugit a\",\n",
      "    \"completed\": false\n",
      "  },\n",
      "  {\n",
      "    \"userId\": 8,\n",
      "    \"id\": 151,\n",
      "    \"title\": \"accusamus adipisci dicta qui quo ea explicabo sed vero\",\n",
      "    \"completed\": true\n",
      "  },\n",
      "  {\n",
      "    \"userId\": 8,\n",
      "    \"id\": 152,\n",
      "    \"title\": \"odit eligendi recusandae doloremque cumque non\",\n",
      "    \"completed\": false\n",
      "  },\n",
      "  {\n",
      "    \"userId\": 8,\n",
      "    \"id\": 153,\n",
      "    \"title\": \"ea aperiam consequatur qui repellat eos\",\n",
      "    \"completed\": false\n",
      "  },\n",
      "  {\n",
      "    \"userId\": 8,\n",
      "    \"id\": 154,\n",
      "    \"title\": \"rerum non ex sapiente\",\n",
      "    \"completed\": true\n",
      "  },\n",
      "  {\n",
      "    \"userId\": 8,\n",
      "    \"id\": 155,\n",
      "    \"title\": \"voluptatem nobis consequatur et assumenda magnam\",\n",
      "    \"completed\": true\n",
      "  },\n",
      "  {\n",
      "    \"userId\": 8,\n",
      "    \"id\": 156,\n",
      "    \"title\": \"nam quia quia nulla repellat assumenda quibusdam sit nobis\",\n",
      "    \"completed\": true\n",
      "  },\n",
      "  {\n",
      "    \"userId\": 8,\n",
      "    \"id\": 157,\n",
      "    \"title\": \"dolorem veniam quisquam deserunt repellendus\",\n",
      "    \"completed\": true\n",
      "  },\n",
      "  {\n",
      "    \"userId\": 8,\n",
      "    \"id\": 158,\n",
      "    \"title\": \"debitis vitae delectus et harum accusamus aut deleniti a\",\n",
      "    \"completed\": true\n",
      "  },\n",
      "  {\n",
      "    \"userId\": 8,\n",
      "    \"id\": 159,\n",
      "    \"title\": \"debitis adipisci quibusdam aliquam sed dolore ea praesentium nobis\",\n",
      "    \"completed\": true\n",
      "  },\n",
      "  {\n",
      "    \"userId\": 8,\n",
      "    \"id\": 160,\n",
      "    \"title\": \"et praesentium aliquam est\",\n",
      "    \"completed\": false\n",
      "  },\n",
      "  {\n",
      "    \"userId\": 9,\n",
      "    \"id\": 161,\n",
      "    \"title\": \"ex hic consequuntur earum omnis alias ut occaecati culpa\",\n",
      "    \"completed\": true\n",
      "  },\n",
      "  {\n",
      "    \"userId\": 9,\n",
      "    \"id\": 162,\n",
      "    \"title\": \"omnis laboriosam molestias animi sunt dolore\",\n",
      "    \"completed\": true\n",
      "  },\n",
      "  {\n",
      "    \"userId\": 9,\n",
      "    \"id\": 163,\n",
      "    \"title\": \"natus corrupti maxime laudantium et voluptatem laboriosam odit\",\n",
      "    \"completed\": false\n",
      "  },\n",
      "  {\n",
      "    \"userId\": 9,\n",
      "    \"id\": 164,\n",
      "    \"title\": \"reprehenderit quos aut aut consequatur est sed\",\n",
      "    \"completed\": false\n",
      "  },\n",
      "  {\n",
      "    \"userId\": 9,\n",
      "    \"id\": 165,\n",
      "    \"title\": \"fugiat perferendis sed aut quidem\",\n",
      "    \"completed\": false\n",
      "  },\n",
      "  {\n",
      "    \"userId\": 9,\n",
      "    \"id\": 166,\n",
      "    \"title\": \"quos quo possimus suscipit minima ut\",\n",
      "    \"completed\": false\n",
      "  },\n",
      "  {\n",
      "    \"userId\": 9,\n",
      "    \"id\": 167,\n",
      "    \"title\": \"et quis minus quo a asperiores molestiae\",\n",
      "    \"completed\": false\n",
      "  },\n",
      "  {\n",
      "    \"userId\": 9,\n",
      "    \"id\": 168,\n",
      "    \"title\": \"recusandae quia qui sunt libero\",\n",
      "    \"completed\": false\n",
      "  },\n",
      "  {\n",
      "    \"userId\": 9,\n",
      "    \"id\": 169,\n",
      "    \"title\": \"ea odio perferendis officiis\",\n",
      "    \"completed\": true\n",
      "  },\n",
      "  {\n",
      "    \"userId\": 9,\n",
      "    \"id\": 170,\n",
      "    \"title\": \"quisquam aliquam quia doloribus aut\",\n",
      "    \"completed\": false\n",
      "  },\n",
      "  {\n",
      "    \"userId\": 9,\n",
      "    \"id\": 171,\n",
      "    \"title\": \"fugiat aut voluptatibus corrupti deleniti velit iste odio\",\n",
      "    \"completed\": true\n",
      "  },\n",
      "  {\n",
      "    \"userId\": 9,\n",
      "    \"id\": 172,\n",
      "    \"title\": \"et provident amet rerum consectetur et voluptatum\",\n",
      "    \"completed\": false\n",
      "  },\n",
      "  {\n",
      "    \"userId\": 9,\n",
      "    \"id\": 173,\n",
      "    \"title\": \"harum ad aperiam quis\",\n",
      "    \"completed\": false\n",
      "  },\n",
      "  {\n",
      "    \"userId\": 9,\n",
      "    \"id\": 174,\n",
      "    \"title\": \"similique aut quo\",\n",
      "    \"completed\": false\n",
      "  },\n",
      "  {\n",
      "    \"userId\": 9,\n",
      "    \"id\": 175,\n",
      "    \"title\": \"laudantium eius officia perferendis provident perspiciatis asperiores\",\n",
      "    \"completed\": true\n",
      "  },\n",
      "  {\n",
      "    \"userId\": 9,\n",
      "    \"id\": 176,\n",
      "    \"title\": \"magni soluta corrupti ut maiores rem quidem\",\n",
      "    \"completed\": false\n",
      "  },\n",
      "  {\n",
      "    \"userId\": 9,\n",
      "    \"id\": 177,\n",
      "    \"title\": \"et placeat temporibus voluptas est tempora quos quibusdam\",\n",
      "    \"completed\": false\n",
      "  },\n",
      "  {\n",
      "    \"userId\": 9,\n",
      "    \"id\": 178,\n",
      "    \"title\": \"nesciunt itaque commodi tempore\",\n",
      "    \"completed\": true\n",
      "  },\n",
      "  {\n",
      "    \"userId\": 9,\n",
      "    \"id\": 179,\n",
      "    \"title\": \"omnis consequuntur cupiditate impedit itaque ipsam quo\",\n",
      "    \"completed\": true\n",
      "  },\n",
      "  {\n",
      "    \"userId\": 9,\n",
      "    \"id\": 180,\n",
      "    \"title\": \"debitis nisi et dolorem repellat et\",\n",
      "    \"completed\": true\n",
      "  },\n",
      "  {\n",
      "    \"userId\": 10,\n",
      "    \"id\": 181,\n",
      "    \"title\": \"ut cupiditate sequi aliquam fuga maiores\",\n",
      "    \"completed\": false\n",
      "  },\n",
      "  {\n",
      "    \"userId\": 10,\n",
      "    \"id\": 182,\n",
      "    \"title\": \"inventore saepe cumque et aut illum enim\",\n",
      "    \"completed\": true\n",
      "  },\n",
      "  {\n",
      "    \"userId\": 10,\n",
      "    \"id\": 183,\n",
      "    \"title\": \"omnis nulla eum aliquam distinctio\",\n",
      "    \"completed\": true\n",
      "  },\n",
      "  {\n",
      "    \"userId\": 10,\n",
      "    \"id\": 184,\n",
      "    \"title\": \"molestias modi perferendis perspiciatis\",\n",
      "    \"completed\": false\n",
      "  },\n",
      "  {\n",
      "    \"userId\": 10,\n",
      "    \"id\": 185,\n",
      "    \"title\": \"voluptates dignissimos sed doloribus animi quaerat aut\",\n",
      "    \"completed\": false\n",
      "  },\n",
      "  {\n",
      "    \"userId\": 10,\n",
      "    \"id\": 186,\n",
      "    \"title\": \"explicabo odio est et\",\n",
      "    \"completed\": false\n",
      "  },\n",
      "  {\n",
      "    \"userId\": 10,\n",
      "    \"id\": 187,\n",
      "    \"title\": \"consequuntur animi possimus\",\n",
      "    \"completed\": false\n",
      "  },\n",
      "  {\n",
      "    \"userId\": 10,\n",
      "    \"id\": 188,\n",
      "    \"title\": \"vel non beatae est\",\n",
      "    \"completed\": true\n",
      "  },\n",
      "  {\n",
      "    \"userId\": 10,\n",
      "    \"id\": 189,\n",
      "    \"title\": \"culpa eius et voluptatem et\",\n",
      "    \"completed\": true\n",
      "  },\n",
      "  {\n",
      "    \"userId\": 10,\n",
      "    \"id\": 190,\n",
      "    \"title\": \"accusamus sint iusto et voluptatem exercitationem\",\n",
      "    \"completed\": true\n",
      "  },\n",
      "  {\n",
      "    \"userId\": 10,\n",
      "    \"id\": 191,\n",
      "    \"title\": \"temporibus atque distinctio omnis eius impedit tempore molestias pariatur\",\n",
      "    \"completed\": true\n",
      "  },\n",
      "  {\n",
      "    \"userId\": 10,\n",
      "    \"id\": 192,\n",
      "    \"title\": \"ut quas possimus exercitationem sint voluptates\",\n",
      "    \"completed\": false\n",
      "  },\n",
      "  {\n",
      "    \"userId\": 10,\n",
      "    \"id\": 193,\n",
      "    \"title\": \"rerum debitis voluptatem qui eveniet tempora distinctio a\",\n",
      "    \"completed\": true\n",
      "  },\n",
      "  {\n",
      "    \"userId\": 10,\n",
      "    \"id\": 194,\n",
      "    \"title\": \"sed ut vero sit molestiae\",\n",
      "    \"completed\": false\n",
      "  },\n",
      "  {\n",
      "    \"userId\": 10,\n",
      "    \"id\": 195,\n",
      "    \"title\": \"rerum ex veniam mollitia voluptatibus pariatur\",\n",
      "    \"completed\": true\n",
      "  },\n",
      "  {\n",
      "    \"userId\": 10,\n",
      "    \"id\": 196,\n",
      "    \"title\": \"consequuntur aut ut fugit similique\",\n",
      "    \"completed\": true\n",
      "  },\n",
      "  {\n",
      "    \"userId\": 10,\n",
      "    \"id\": 197,\n",
      "    \"title\": \"dignissimos quo nobis earum saepe\",\n",
      "    \"completed\": true\n",
      "  },\n",
      "  {\n",
      "    \"userId\": 10,\n",
      "    \"id\": 198,\n",
      "    \"title\": \"quis eius est sint explicabo\",\n",
      "    \"completed\": true\n",
      "  },\n",
      "  {\n",
      "    \"userId\": 10,\n",
      "    \"id\": 199,\n",
      "    \"title\": \"numquam repellendus a magnam\",\n",
      "    \"completed\": true\n",
      "  },\n",
      "  {\n",
      "    \"userId\": 10,\n",
      "    \"id\": 200,\n",
      "    \"title\": \"ipsam aperiam voluptates qui\",\n",
      "    \"completed\": false\n",
      "  }\n",
      "]\n",
      "<class 'str'>\n"
     ]
    }
   ],
   "source": [
    "result = result.text\n",
    "print(result)\n",
    "print(type(result))  #Tip olarak string bilgi verdi\n",
    "#Adres üzerinde gelen cevabı konsol üzerinde yazdırmış olduk"
   ]
  },
  {
   "cell_type": "code",
   "execution_count": 309,
   "id": "dbfd9cb2",
   "metadata": {},
   "outputs": [
    {
     "name": "stdout",
     "output_type": "stream",
     "text": [
      "delectus aut autem\n"
     ]
    }
   ],
   "source": [
    "#json kullanarak string değeri dict tipine dönüştürebiliriz\n",
    "result = json.loads(result.text)\n",
    "print(result[0][\"title\"])\n",
    "#Dictionary almış olduk artık istediğimiz index ve key değerini alabiliriz"
   ]
  },
  {
   "cell_type": "code",
   "execution_count": 311,
   "id": "dfee004f",
   "metadata": {},
   "outputs": [
    {
     "name": "stdout",
     "output_type": "stream",
     "text": [
      "delectus aut autem\n",
      "quis ut nam facilis et officia qui\n",
      "fugiat veniam minus\n",
      "et porro tempora\n",
      "laboriosam mollitia et enim quasi adipisci quia provident illum\n",
      "qui ullam ratione quibusdam voluptatem quia omnis\n",
      "illo expedita consequatur quia in\n",
      "quo adipisci enim quam ut ab\n",
      "molestiae perspiciatis ipsa\n",
      "illo est ratione doloremque quia maiores aut\n",
      "vero rerum temporibus dolor\n",
      "ipsa repellendus fugit nisi\n",
      "et doloremque nulla\n",
      "repellendus sunt dolores architecto voluptatum\n",
      "ab voluptatum amet voluptas\n",
      "accusamus eos facilis sint et aut voluptatem\n",
      "quo laboriosam deleniti aut qui\n",
      "dolorum est consequatur ea mollitia in culpa\n",
      "molestiae ipsa aut voluptatibus pariatur dolor nihil\n",
      "ullam nobis libero sapiente ad optio sint\n",
      "suscipit repellat esse quibusdam voluptatem incidunt\n",
      "distinctio vitae autem nihil ut molestias quo\n",
      "et itaque necessitatibus maxime molestiae qui quas velit\n",
      "adipisci non ad dicta qui amet quaerat doloribus ea\n",
      "voluptas quo tenetur perspiciatis explicabo natus\n",
      "aliquam aut quasi\n",
      "veritatis pariatur delectus\n",
      "nesciunt totam sit blanditiis sit\n",
      "laborum aut in quam\n",
      "nemo perspiciatis repellat ut dolor libero commodi blanditiis omnis\n",
      "repudiandae totam in est sint facere fuga\n",
      "earum doloribus ea doloremque quis\n",
      "sint sit aut vero\n",
      "porro aut necessitatibus eaque distinctio\n",
      "repellendus veritatis molestias dicta incidunt\n",
      "excepturi deleniti adipisci voluptatem et neque optio illum ad\n",
      "sunt cum tempora\n",
      "totam quia non\n",
      "doloremque quibusdam asperiores libero corrupti illum qui omnis\n",
      "totam atque quo nesciunt\n",
      "aliquid amet impedit consequatur aspernatur placeat eaque fugiat suscipit\n",
      "rerum perferendis error quia ut eveniet\n",
      "tempore ut sint quis recusandae\n",
      "cum debitis quis accusamus doloremque ipsa natus sapiente omnis\n",
      "velit soluta adipisci molestias reiciendis harum\n",
      "vel voluptatem repellat nihil placeat corporis\n",
      "nam qui rerum fugiat accusamus\n",
      "sit reprehenderit omnis quia\n",
      "ut necessitatibus aut maiores debitis officia blanditiis velit et\n",
      "cupiditate necessitatibus ullam aut quis dolor voluptate\n",
      "distinctio exercitationem ab doloribus\n",
      "nesciunt dolorum quis recusandae ad pariatur ratione\n",
      "qui labore est occaecati recusandae aliquid quam\n",
      "quis et est ut voluptate quam dolor\n",
      "voluptatum omnis minima qui occaecati provident nulla voluptatem ratione\n",
      "deleniti ea temporibus enim\n",
      "pariatur et magnam ea doloribus similique voluptatem rerum quia\n",
      "est dicta totam qui explicabo doloribus qui dignissimos\n",
      "perspiciatis velit id laborum placeat iusto et aliquam odio\n",
      "et sequi qui architecto ut adipisci\n",
      "odit optio omnis qui sunt\n",
      "et placeat et tempore aspernatur sint numquam\n",
      "doloremque aut dolores quidem fuga qui nulla\n",
      "voluptas consequatur qui ut quia magnam nemo esse\n",
      "fugiat pariatur ratione ut asperiores necessitatibus magni\n",
      "rerum eum molestias autem voluptatum sit optio\n",
      "quia voluptatibus voluptatem quos similique maiores repellat\n",
      "aut id perspiciatis voluptatem iusto\n",
      "doloribus sint dolorum ab adipisci itaque dignissimos aliquam suscipit\n",
      "ut sequi accusantium et mollitia delectus sunt\n",
      "aut velit saepe ullam\n",
      "praesentium facilis facere quis harum voluptatibus voluptatem eum\n",
      "sint amet quia totam corporis qui exercitationem commodi\n",
      "expedita tempore nobis eveniet laborum maiores\n",
      "occaecati adipisci est possimus totam\n",
      "sequi dolorem sed\n",
      "maiores aut nesciunt delectus exercitationem vel assumenda eligendi at\n",
      "reiciendis est magnam amet nemo iste recusandae impedit quaerat\n",
      "eum ipsa maxime ut\n",
      "tempore molestias dolores rerum sequi voluptates ipsum consequatur\n",
      "suscipit qui totam\n",
      "voluptates eum voluptas et dicta\n",
      "quidem at rerum quis ex aut sit quam\n",
      "sunt veritatis ut voluptate\n",
      "et quia ad iste a\n",
      "incidunt ut saepe autem\n",
      "laudantium quae eligendi consequatur quia et vero autem\n",
      "vitae aut excepturi laboriosam sint aliquam et et accusantium\n",
      "sequi ut omnis et\n",
      "molestiae nisi accusantium tenetur dolorem et\n",
      "nulla quis consequatur saepe qui id expedita\n",
      "in omnis laboriosam\n",
      "odio iure consequatur molestiae quibusdam necessitatibus quia sint\n",
      "facilis modi saepe mollitia\n",
      "vel nihil et molestiae iusto assumenda nemo quo ut\n",
      "nobis suscipit ducimus enim asperiores voluptas\n",
      "dolorum laboriosam eos qui iure aliquam\n",
      "debitis accusantium ut quo facilis nihil quis sapiente necessitatibus\n",
      "neque voluptates ratione\n",
      "excepturi a et neque qui expedita vel voluptate\n",
      "explicabo enim cumque porro aperiam occaecati minima\n",
      "sed ab consequatur\n",
      "non sunt delectus illo nulla tenetur enim omnis\n",
      "excepturi non laudantium quo\n",
      "totam quia dolorem et illum repellat voluptas optio\n",
      "ad illo quis voluptatem temporibus\n",
      "praesentium facilis omnis laudantium fugit ad iusto nihil nesciunt\n",
      "a eos eaque nihil et exercitationem incidunt delectus\n",
      "autem temporibus harum quisquam in culpa\n",
      "aut aut ea corporis\n",
      "magni accusantium labore et id quis provident\n",
      "consectetur impedit quisquam qui deserunt non rerum consequuntur eius\n",
      "quia atque aliquam sunt impedit voluptatum rerum assumenda nisi\n",
      "cupiditate quos possimus corporis quisquam exercitationem beatae\n",
      "sed et ea eum\n",
      "ipsa dolores vel facilis ut\n",
      "sequi quae est et qui qui eveniet asperiores\n",
      "quia modi consequatur vero fugiat\n",
      "corporis ducimus ea perspiciatis iste\n",
      "dolorem laboriosam vel voluptas et aliquam quasi\n",
      "inventore aut nihil minima laudantium hic qui omnis\n",
      "provident aut nobis culpa\n",
      "esse et quis iste est earum aut impedit\n",
      "qui consectetur id\n",
      "aut quasi autem iste tempore illum possimus\n",
      "ut asperiores perspiciatis veniam ipsum rerum saepe\n",
      "voluptatem libero consectetur rerum ut\n",
      "eius omnis est qui voluptatem autem\n",
      "rerum culpa quis harum\n",
      "nulla aliquid eveniet harum laborum libero alias ut unde\n",
      "qui ea incidunt quis\n",
      "qui molestiae voluptatibus velit iure harum quisquam\n",
      "et labore eos enim rerum consequatur sunt\n",
      "molestiae doloribus et laborum quod ea\n",
      "facere ipsa nam eum voluptates reiciendis vero qui\n",
      "asperiores illo tempora fuga sed ut quasi adipisci\n",
      "qui sit non\n",
      "placeat minima consequatur rem qui ut\n",
      "consequatur doloribus id possimus voluptas a voluptatem\n",
      "aut consectetur in blanditiis deserunt quia sed laboriosam\n",
      "explicabo consectetur debitis voluptates quas quae culpa rerum non\n",
      "maiores accusantium architecto necessitatibus reiciendis ea aut\n",
      "eum non recusandae cupiditate animi\n",
      "ut eum exercitationem sint\n",
      "beatae qui ullam incidunt voluptatem non nisi aliquam\n",
      "molestiae suscipit ratione nihil odio libero impedit vero totam\n",
      "eum itaque quod reprehenderit et facilis dolor autem ut\n",
      "esse quas et quo quasi exercitationem\n",
      "animi voluptas quod perferendis est\n",
      "eos amet tempore laudantium fugit a\n",
      "accusamus adipisci dicta qui quo ea explicabo sed vero\n",
      "odit eligendi recusandae doloremque cumque non\n",
      "ea aperiam consequatur qui repellat eos\n",
      "rerum non ex sapiente\n",
      "voluptatem nobis consequatur et assumenda magnam\n",
      "nam quia quia nulla repellat assumenda quibusdam sit nobis\n",
      "dolorem veniam quisquam deserunt repellendus\n",
      "debitis vitae delectus et harum accusamus aut deleniti a\n",
      "debitis adipisci quibusdam aliquam sed dolore ea praesentium nobis\n",
      "et praesentium aliquam est\n",
      "ex hic consequuntur earum omnis alias ut occaecati culpa\n",
      "omnis laboriosam molestias animi sunt dolore\n",
      "natus corrupti maxime laudantium et voluptatem laboriosam odit\n",
      "reprehenderit quos aut aut consequatur est sed\n",
      "fugiat perferendis sed aut quidem\n",
      "quos quo possimus suscipit minima ut\n",
      "et quis minus quo a asperiores molestiae\n",
      "recusandae quia qui sunt libero\n",
      "ea odio perferendis officiis\n",
      "quisquam aliquam quia doloribus aut\n",
      "fugiat aut voluptatibus corrupti deleniti velit iste odio\n",
      "et provident amet rerum consectetur et voluptatum\n",
      "harum ad aperiam quis\n",
      "similique aut quo\n",
      "laudantium eius officia perferendis provident perspiciatis asperiores\n",
      "magni soluta corrupti ut maiores rem quidem\n",
      "et placeat temporibus voluptas est tempora quos quibusdam\n",
      "nesciunt itaque commodi tempore\n",
      "omnis consequuntur cupiditate impedit itaque ipsam quo\n",
      "debitis nisi et dolorem repellat et\n",
      "ut cupiditate sequi aliquam fuga maiores\n",
      "inventore saepe cumque et aut illum enim\n",
      "omnis nulla eum aliquam distinctio\n",
      "molestias modi perferendis perspiciatis\n",
      "voluptates dignissimos sed doloribus animi quaerat aut\n",
      "explicabo odio est et\n",
      "consequuntur animi possimus\n",
      "vel non beatae est\n",
      "culpa eius et voluptatem et\n",
      "accusamus sint iusto et voluptatem exercitationem\n",
      "temporibus atque distinctio omnis eius impedit tempore molestias pariatur\n",
      "ut quas possimus exercitationem sint voluptates\n",
      "rerum debitis voluptatem qui eveniet tempora distinctio a\n",
      "sed ut vero sit molestiae\n",
      "rerum ex veniam mollitia voluptatibus pariatur\n",
      "consequuntur aut ut fugit similique\n",
      "dignissimos quo nobis earum saepe\n",
      "quis eius est sint explicabo\n",
      "numquam repellendus a magnam\n",
      "ipsam aperiam voluptates qui\n"
     ]
    }
   ],
   "source": [
    "for i in result:\n",
    "    print(i[\"title\"])\n",
    "#Köşeli paranteze istediğimiz key değerini yazarak value değerlerini for döngüsü ile yazdırabiliriz"
   ]
  },
  {
   "cell_type": "code",
   "execution_count": 315,
   "id": "ed8a6217",
   "metadata": {},
   "outputs": [
    {
     "name": "stdout",
     "output_type": "stream",
     "text": [
      "delectus aut autem\n",
      "quis ut nam facilis et officia qui\n",
      "fugiat veniam minus\n",
      "et porro tempora\n",
      "laboriosam mollitia et enim quasi adipisci quia provident illum\n",
      "qui ullam ratione quibusdam voluptatem quia omnis\n",
      "illo expedita consequatur quia in\n",
      "quo adipisci enim quam ut ab\n",
      "molestiae perspiciatis ipsa\n",
      "illo est ratione doloremque quia maiores aut\n",
      "vero rerum temporibus dolor\n",
      "ipsa repellendus fugit nisi\n",
      "et doloremque nulla\n",
      "repellendus sunt dolores architecto voluptatum\n",
      "ab voluptatum amet voluptas\n",
      "accusamus eos facilis sint et aut voluptatem\n",
      "quo laboriosam deleniti aut qui\n",
      "dolorum est consequatur ea mollitia in culpa\n",
      "molestiae ipsa aut voluptatibus pariatur dolor nihil\n",
      "ullam nobis libero sapiente ad optio sint\n"
     ]
    }
   ],
   "source": [
    "for i in result:\n",
    "    if i[\"userId\"] == 1: \n",
    "        print(i[\"title\"])\n",
    "#Şartlı yazdırma yapabiliyoruz bu sayede UserId si 1 olanları şarta sokup almış oluruz"
   ]
  },
  {
   "cell_type": "markdown",
   "id": "5b23ab0f",
   "metadata": {},
   "source": [
    "### Requests Uygulamalar"
   ]
  },
  {
   "cell_type": "markdown",
   "id": "4e0455cb",
   "metadata": {},
   "source": [
    "## 6 - BeatifulSoup Metodu:"
   ]
  },
  {
   "cell_type": "markdown",
   "id": "b9e3c8de",
   "metadata": {},
   "source": [
    "Herhangi bir websitesindeki alacağımız html içeriğini istediğimiz gibi analiz edebiliriz"
   ]
  },
  {
   "cell_type": "code",
   "execution_count": null,
   "id": "f3ac36a6",
   "metadata": {},
   "outputs": [],
   "source": []
  },
  {
   "cell_type": "code",
   "execution_count": null,
   "id": "eccbaf0f",
   "metadata": {},
   "outputs": [],
   "source": []
  },
  {
   "cell_type": "markdown",
   "id": "d5f8db39",
   "metadata": {},
   "source": [
    "## Uygulamalar"
   ]
  },
  {
   "cell_type": "markdown",
   "id": "2b2da243",
   "metadata": {},
   "source": [
    "### 1-Requests ile Döviz uygulaması"
   ]
  },
  {
   "cell_type": "code",
   "execution_count": 3,
   "id": "83e796bb",
   "metadata": {},
   "outputs": [
    {
     "name": "stdout",
     "output_type": "stream",
     "text": [
      "Bozulan döviz türü: USD\n",
      "Alınan döviz türü: TRY\n",
      "Ne kadar USD bozdurmak istiyorsunuz:100\n"
     ]
    },
    {
     "ename": "KeyError",
     "evalue": "'rates'",
     "output_type": "error",
     "traceback": [
      "\u001b[1;31m---------------------------------------------------------------------------\u001b[0m",
      "\u001b[1;31mKeyError\u001b[0m                                  Traceback (most recent call last)",
      "Input \u001b[1;32mIn [3]\u001b[0m, in \u001b[0;36m<cell line: 13>\u001b[1;34m()\u001b[0m\n\u001b[0;32m     10\u001b[0m result \u001b[38;5;241m=\u001b[39m requests\u001b[38;5;241m.\u001b[39mget(api_url\u001b[38;5;241m+\u001b[39mbozulan_doviz)\n\u001b[0;32m     11\u001b[0m result \u001b[38;5;241m=\u001b[39m json\u001b[38;5;241m.\u001b[39mloads(result\u001b[38;5;241m.\u001b[39mtext)\n\u001b[1;32m---> 13\u001b[0m \u001b[38;5;28mprint\u001b[39m(\u001b[38;5;124m\"\u001b[39m\u001b[38;5;124m1 \u001b[39m\u001b[38;5;132;01m{0}\u001b[39;00m\u001b[38;5;124m = \u001b[39m\u001b[38;5;132;01m{1}\u001b[39;00m\u001b[38;5;124m \u001b[39m\u001b[38;5;132;01m{2}\u001b[39;00m\u001b[38;5;124m\"\u001b[39m\u001b[38;5;241m.\u001b[39mformat(bozulan_doviz,\u001b[43mresult\u001b[49m\u001b[43m[\u001b[49m\u001b[38;5;124;43m\"\u001b[39;49m\u001b[38;5;124;43mrates\u001b[39;49m\u001b[38;5;124;43m\"\u001b[39;49m\u001b[43m]\u001b[49m[alinan_doviz]))\n",
      "\u001b[1;31mKeyError\u001b[0m: 'rates'"
     ]
    }
   ],
   "source": [
    "import requests\n",
    "import json\n",
    "\n",
    "api_url = \"https://api.exchangeratesapi.io/latest?base=\"\n",
    "\n",
    "bozulan_doviz = input(\"Bozulan döviz türü: \")\n",
    "alinan_doviz = input(\"Alınan döviz türü: \")\n",
    "miktar = int(input(f\"Ne kadar {bozulan_doviz} bozdurmak istiyorsunuz:\"))\n",
    "\n",
    "result = requests.get(api_url+bozulan_doviz)\n",
    "result = json.loads(result.text)\n",
    "\n",
    "print(\"1 {0} = {1} {2}\".format(bozulan_doviz,result[\"rates\"][alinan_doviz]))"
   ]
  },
  {
   "cell_type": "code",
   "execution_count": null,
   "id": "b06e6f6e",
   "metadata": {},
   "outputs": [],
   "source": []
  }
 ],
 "metadata": {
  "kernelspec": {
   "display_name": "Python 3 (ipykernel)",
   "language": "python",
   "name": "python3"
  },
  "language_info": {
   "codemirror_mode": {
    "name": "ipython",
    "version": 3
   },
   "file_extension": ".py",
   "mimetype": "text/x-python",
   "name": "python",
   "nbconvert_exporter": "python",
   "pygments_lexer": "ipython3",
   "version": "3.9.12"
  }
 },
 "nbformat": 4,
 "nbformat_minor": 5
}
