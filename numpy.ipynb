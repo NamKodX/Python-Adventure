{
 "cells": [
  {
   "cell_type": "markdown",
   "id": "169dbb33",
   "metadata": {
    "scrolled": true
   },
   "source": [
    "# Numpy Learning Notebook by NamKodX"
   ]
  },
  {
   "cell_type": "markdown",
   "id": "b0c7caac",
   "metadata": {},
   "source": [
    "## 1-Numpy nedir:"
   ]
  },
  {
   "cell_type": "code",
   "execution_count": 1,
   "id": "0e8fa332",
   "metadata": {
    "scrolled": true
   },
   "outputs": [
    {
     "name": "stdout",
     "output_type": "stream",
     "text": [
      "Requirement already satisfied: numpy in c:\\programdata\\anaconda3\\lib\\site-packages (1.21.5)\n"
     ]
    }
   ],
   "source": [
    "!pip install numpy "
   ]
  },
  {
   "cell_type": "markdown",
   "id": "e7207971",
   "metadata": {},
   "source": [
    "Komutu sayesinde numpy kütüphanesini bilgisayarınıza yükleyebilirsiniz"
   ]
  },
  {
   "cell_type": "code",
   "execution_count": 5,
   "id": "f97023e2",
   "metadata": {},
   "outputs": [],
   "source": [
    "python_list = [1,2,3,4,5,6,7,8,9]\n",
    "#Basit python listesi"
   ]
  },
  {
   "cell_type": "code",
   "execution_count": 6,
   "id": "9fecfa3c",
   "metadata": {},
   "outputs": [
    {
     "name": "stdout",
     "output_type": "stream",
     "text": [
      "<class 'list'>\n"
     ]
    }
   ],
   "source": [
    "print(type(python_list))"
   ]
  },
  {
   "cell_type": "markdown",
   "id": "ba1e3a8e",
   "metadata": {},
   "source": [
    "Numpy gelişmiş liste,dizi yapısı gibi düşünebiliriz"
   ]
  },
  {
   "cell_type": "code",
   "execution_count": 4,
   "id": "ee96189f",
   "metadata": {},
   "outputs": [],
   "source": [
    "import numpy as np\n",
    "#Numpy kütüphanesini np olarak içeri aktarmamıza yarar"
   ]
  },
  {
   "cell_type": "code",
   "execution_count": 8,
   "id": "a9137a68",
   "metadata": {},
   "outputs": [],
   "source": [
    "numpy_arrray = np.array([1,2,3,4,5,6,7,8,9])"
   ]
  },
  {
   "cell_type": "markdown",
   "id": "e0ed2078",
   "metadata": {},
   "source": [
    "Numpy array içine bir liste yazarak bir numpyarray (numpy dizisi yarattık)"
   ]
  },
  {
   "cell_type": "code",
   "execution_count": 10,
   "id": "d22710b8",
   "metadata": {},
   "outputs": [
    {
     "name": "stdout",
     "output_type": "stream",
     "text": [
      "[1 2 3 4 5 6 7 8 9]\n",
      "<class 'numpy.ndarray'>\n"
     ]
    }
   ],
   "source": [
    "print(numpy_arrray)\n",
    "print(type(numpy_arrray))"
   ]
  },
  {
   "cell_type": "code",
   "execution_count": 15,
   "id": "cf6c8f88",
   "metadata": {},
   "outputs": [],
   "source": [
    "numpy_multi_array = np.array([[1,2,3],[4,5,6],[7,8,9]])\n",
    "#numpy_multi_array = np.array([[a11,a12,a13],[a21,a22,a23],[a31,a32,a33]])"
   ]
  },
  {
   "cell_type": "markdown",
   "id": "1a35cf0d",
   "metadata": {},
   "source": [
    "Yapısı sayesinde multi array yani çoklu dizi matris biçimi oluşturduk"
   ]
  },
  {
   "cell_type": "code",
   "execution_count": 13,
   "id": "4c3f1a5b",
   "metadata": {},
   "outputs": [
    {
     "name": "stdout",
     "output_type": "stream",
     "text": [
      "[[1 2 3]\n",
      " [4 5 6]\n",
      " [7 8 9]]\n"
     ]
    }
   ],
   "source": [
    "print(numpy_multi_array)"
   ]
  },
  {
   "cell_type": "code",
   "execution_count": 19,
   "id": "36ab4218",
   "metadata": {},
   "outputs": [],
   "source": [
    "numpy_multi = numpy_arrray.reshape(3,3)"
   ]
  },
  {
   "cell_type": "markdown",
   "id": "8c5e720d",
   "metadata": {},
   "source": [
    ".reshape(satır,sütun) yapısı sayesinde boyutunu ayarladık"
   ]
  },
  {
   "cell_type": "code",
   "execution_count": 17,
   "id": "79dad0f7",
   "metadata": {},
   "outputs": [
    {
     "name": "stdout",
     "output_type": "stream",
     "text": [
      "[[1 2 3]\n",
      " [4 5 6]\n",
      " [7 8 9]]\n"
     ]
    }
   ],
   "source": [
    "print(numpy_multi)"
   ]
  },
  {
   "cell_type": "code",
   "execution_count": 21,
   "id": "68a08116",
   "metadata": {},
   "outputs": [
    {
     "name": "stdout",
     "output_type": "stream",
     "text": [
      "1\n",
      "2\n"
     ]
    }
   ],
   "source": [
    "print(numpy_arrray.ndim)\n",
    "print(numpy_multi.ndim)"
   ]
  },
  {
   "cell_type": "markdown",
   "id": "3faad01c",
   "metadata": {},
   "source": [
    ".ndim sayesinde boyut kontrolü yaptık "
   ]
  },
  {
   "cell_type": "markdown",
   "id": "6c3c4127",
   "metadata": {},
   "source": [
    "Vektörler -> 1 | Boyut Matrisler -> 2 Boyut | Tensorflow(Çok Boyutlu Matris) -> 3 Boyutlu"
   ]
  },
  {
   "cell_type": "code",
   "execution_count": 22,
   "id": "a7b1f8e5",
   "metadata": {},
   "outputs": [
    {
     "name": "stdout",
     "output_type": "stream",
     "text": [
      "(9,)\n",
      "(3, 3)\n"
     ]
    }
   ],
   "source": [
    "print(numpy_arrray.shape)\n",
    "print(numpy_multi.shape)"
   ]
  },
  {
   "cell_type": "markdown",
   "id": "fd586eac",
   "metadata": {},
   "source": [
    ".shape ile kaça kaçlık ifade olduğunu anlarız.Kaç satır ve kaç sütun olduğuna bakmış oluyoruz"
   ]
  },
  {
   "cell_type": "markdown",
   "id": "6bac5557",
   "metadata": {},
   "source": [
    "## 2- Numpy dizileri ile çalışma:"
   ]
  },
  {
   "cell_type": "code",
   "execution_count": 26,
   "id": "4a194cd4",
   "metadata": {},
   "outputs": [],
   "source": [
    "result = np.arange(1,100,3)\n",
    "#np.arange(başlangıç,bitiş,artış)"
   ]
  },
  {
   "cell_type": "code",
   "execution_count": 27,
   "id": "19b9d50d",
   "metadata": {},
   "outputs": [
    {
     "name": "stdout",
     "output_type": "stream",
     "text": [
      "[ 1  4  7 10 13 16 19 22 25 28 31 34 37 40 43 46 49 52 55 58 61 64 67 70\n",
      " 73 76 79 82 85 88 91 94 97]\n"
     ]
    }
   ],
   "source": [
    "print(result)"
   ]
  },
  {
   "cell_type": "markdown",
   "id": "414c79e9",
   "metadata": {},
   "source": [
    ".arange 1 den 100 e kadar 3 er 3 er artan dizi yaratmamızı sağlar "
   ]
  },
  {
   "cell_type": "code",
   "execution_count": 28,
   "id": "a8c06b8d",
   "metadata": {},
   "outputs": [],
   "source": [
    "result = np.zeros(10)"
   ]
  },
  {
   "cell_type": "code",
   "execution_count": 29,
   "id": "f32ee2a3",
   "metadata": {},
   "outputs": [
    {
     "name": "stdout",
     "output_type": "stream",
     "text": [
      "[0. 0. 0. 0. 0. 0. 0. 0. 0. 0.]\n"
     ]
    }
   ],
   "source": [
    "print(result)"
   ]
  },
  {
   "cell_type": "markdown",
   "id": "3dae981b",
   "metadata": {},
   "source": [
    ".zeros ile sıfır dizisi yada matrisi oluşturabiliriz"
   ]
  },
  {
   "cell_type": "code",
   "execution_count": 31,
   "id": "b5f7ccd7",
   "metadata": {},
   "outputs": [],
   "source": [
    "result = np.ones(10)"
   ]
  },
  {
   "cell_type": "code",
   "execution_count": 32,
   "id": "850bc4d1",
   "metadata": {},
   "outputs": [
    {
     "name": "stdout",
     "output_type": "stream",
     "text": [
      "[1. 1. 1. 1. 1. 1. 1. 1. 1. 1.]\n"
     ]
    }
   ],
   "source": [
    "print(result)"
   ]
  },
  {
   "cell_type": "markdown",
   "id": "c90c52bf",
   "metadata": {},
   "source": [
    ".ones ile bir dizisi yada matrisi oluşturabiliriz"
   ]
  },
  {
   "cell_type": "code",
   "execution_count": 38,
   "id": "42fb41d7",
   "metadata": {},
   "outputs": [],
   "source": [
    "result = np.linspace(0,100,5)\n",
    "#np.linspace(başlangıç,bitiş,aynımesafedeolacaksayısayısı)"
   ]
  },
  {
   "cell_type": "markdown",
   "id": "00ed3534",
   "metadata": {},
   "source": [
    ".linspace yapısı ile bir sayıdan bir sayıya istediğimiz kadar aynı mesafede sayı üretebiliriz"
   ]
  },
  {
   "cell_type": "code",
   "execution_count": 36,
   "id": "77008d7b",
   "metadata": {},
   "outputs": [
    {
     "name": "stdout",
     "output_type": "stream",
     "text": [
      "[  0.  25.  50.  75. 100.]\n"
     ]
    }
   ],
   "source": [
    "print(result)"
   ]
  },
  {
   "cell_type": "code",
   "execution_count": 51,
   "id": "1ee267ed",
   "metadata": {},
   "outputs": [
    {
     "name": "stdout",
     "output_type": "stream",
     "text": [
      "[5 9 6]\n"
     ]
    }
   ],
   "source": [
    "result = np.random.randint(0,10,3)\n",
    "print(result)\n",
    "#np.random.randint(başlangıç,bitiş,adet)"
   ]
  },
  {
   "cell_type": "markdown",
   "id": "5f949fda",
   "metadata": {},
   "source": [
    ".random.randint ile beraber random integer sayı üretebiliriz"
   ]
  },
  {
   "cell_type": "code",
   "execution_count": 54,
   "id": "e756067b",
   "metadata": {
    "scrolled": true
   },
   "outputs": [
    {
     "name": "stdout",
     "output_type": "stream",
     "text": [
      "[0.18107492 0.66305004 0.68361127 0.5977614  0.38540938]\n"
     ]
    }
   ],
   "source": [
    "result = np.random.rand(5)\n",
    "print(result)"
   ]
  },
  {
   "cell_type": "markdown",
   "id": "4c8cc2fa",
   "metadata": {},
   "source": [
    "np.random.rand yapısı ile istediğimiz kadar 0 ile 1 arasında sayı üretebiliriz"
   ]
  },
  {
   "cell_type": "code",
   "execution_count": 55,
   "id": "2c60d8d8",
   "metadata": {},
   "outputs": [
    {
     "name": "stdout",
     "output_type": "stream",
     "text": [
      "[ 0.08312818 -0.44237108  0.3010344   0.99604731 -0.21785011]\n"
     ]
    }
   ],
   "source": [
    "result = np.random.randn(5)\n",
    "print(result)"
   ]
  },
  {
   "cell_type": "markdown",
   "id": "fe8f6a85",
   "metadata": {},
   "source": [
    "np.random.randn ile yukarıdaki işlem gibi lakin eksi sayılarda araya katılır"
   ]
  },
  {
   "cell_type": "code",
   "execution_count": 58,
   "id": "425d38a6",
   "metadata": {},
   "outputs": [
    {
     "name": "stdout",
     "output_type": "stream",
     "text": [
      "[[ 0  1  2  3  4  5  6  7  8  9]\n",
      " [10 11 12 13 14 15 16 17 18 19]\n",
      " [20 21 22 23 24 25 26 27 28 29]\n",
      " [30 31 32 33 34 35 36 37 38 39]\n",
      " [40 41 42 43 44 45 46 47 48 49]]\n"
     ]
    }
   ],
   "source": [
    "numpy_array = np.arange(50)\n",
    "result = numpy_array.reshape(5,10)\n",
    "print(result)"
   ]
  },
  {
   "cell_type": "code",
   "execution_count": 59,
   "id": "81595f5a",
   "metadata": {},
   "outputs": [
    {
     "name": "stdout",
     "output_type": "stream",
     "text": [
      "[ 45 145 245 345 445]\n"
     ]
    }
   ],
   "source": [
    "print(result.sum(axis=1))\n",
    "#Satırların toplamını getirir"
   ]
  },
  {
   "cell_type": "code",
   "execution_count": 61,
   "id": "9e412165",
   "metadata": {},
   "outputs": [
    {
     "name": "stdout",
     "output_type": "stream",
     "text": [
      "[100 105 110 115 120 125 130 135 140 145]\n"
     ]
    }
   ],
   "source": [
    "print(result.sum(axis=0))\n",
    "#Sütunların toplamını verir"
   ]
  },
  {
   "cell_type": "code",
   "execution_count": 62,
   "id": "1af49cc5",
   "metadata": {},
   "outputs": [
    {
     "name": "stdout",
     "output_type": "stream",
     "text": [
      "[20 33 54 76 69 30 88 92 66 49]\n"
     ]
    }
   ],
   "source": [
    "random_numbers = np.random.randint(1,100,10)\n",
    "print(random_numbers)"
   ]
  },
  {
   "cell_type": "code",
   "execution_count": 65,
   "id": "ec595ab0",
   "metadata": {},
   "outputs": [
    {
     "name": "stdout",
     "output_type": "stream",
     "text": [
      "92\n"
     ]
    }
   ],
   "source": [
    "result = random_numbers.max()\n",
    "print(result)\n",
    "#Dizinin maximum değerini bulur"
   ]
  },
  {
   "cell_type": "code",
   "execution_count": 64,
   "id": "544db81f",
   "metadata": {},
   "outputs": [
    {
     "name": "stdout",
     "output_type": "stream",
     "text": [
      "20\n"
     ]
    }
   ],
   "source": [
    "result = random_numbers.min()\n",
    "print(result)\n",
    "#Dizinin minimum değerini bulur"
   ]
  },
  {
   "cell_type": "code",
   "execution_count": 66,
   "id": "a4f958a4",
   "metadata": {},
   "outputs": [
    {
     "name": "stdout",
     "output_type": "stream",
     "text": [
      "57.7\n"
     ]
    }
   ],
   "source": [
    "result = random_numbers.mean()\n",
    "print(result)\n",
    "#Dizinin ortalama değerini bulur"
   ]
  },
  {
   "cell_type": "code",
   "execution_count": 68,
   "id": "b5208563",
   "metadata": {},
   "outputs": [
    {
     "name": "stdout",
     "output_type": "stream",
     "text": [
      "7\n"
     ]
    }
   ],
   "source": [
    "result = random_numbers.argmax()\n",
    "print(result)\n",
    "#Dizinin en büyük sayısının index numarasını bulur"
   ]
  },
  {
   "cell_type": "code",
   "execution_count": 70,
   "id": "f62eff6b",
   "metadata": {},
   "outputs": [
    {
     "name": "stdout",
     "output_type": "stream",
     "text": [
      "0\n"
     ]
    }
   ],
   "source": [
    "result = random_numbers.argmin()\n",
    "print(result)\n",
    "#Dizinin en küçük sayısının index numarasını bulur"
   ]
  },
  {
   "cell_type": "markdown",
   "id": "e9ead61e",
   "metadata": {},
   "source": [
    "## 3- Numpy dizilerinin indexlenmesi:"
   ]
  },
  {
   "cell_type": "code",
   "execution_count": 73,
   "id": "f107616d",
   "metadata": {},
   "outputs": [],
   "source": [
    "numbers = np.array([0,5,10,15,20,25,50,75])"
   ]
  },
  {
   "cell_type": "code",
   "execution_count": 75,
   "id": "dc576131",
   "metadata": {},
   "outputs": [
    {
     "name": "stdout",
     "output_type": "stream",
     "text": [
      "25\n"
     ]
    }
   ],
   "source": [
    "result = numbers[5]\n",
    "print(result)"
   ]
  },
  {
   "cell_type": "markdown",
   "id": "f556ea9d",
   "metadata": {},
   "source": [
    "Köşeli parantez sayesinde listelerdeki gibi index numarasındaki elemanı alabiliriz işlem yapabiliriz onunla"
   ]
  },
  {
   "cell_type": "code",
   "execution_count": 77,
   "id": "255522c3",
   "metadata": {},
   "outputs": [
    {
     "name": "stdout",
     "output_type": "stream",
     "text": [
      "75\n"
     ]
    }
   ],
   "source": [
    "result = numbers[-1]\n",
    "print(result)\n",
    "#-1 ile son index elemanını alabiliriz"
   ]
  },
  {
   "cell_type": "code",
   "execution_count": 79,
   "id": "ff1bc45b",
   "metadata": {},
   "outputs": [
    {
     "name": "stdout",
     "output_type": "stream",
     "text": [
      "[ 0  5 10]\n"
     ]
    }
   ],
   "source": [
    "result = numbers[0:3]\n",
    "print(result)\n",
    "#İstediğimiz index elemanlarını alabiliriz"
   ]
  },
  {
   "cell_type": "code",
   "execution_count": 82,
   "id": "9c812bc8",
   "metadata": {},
   "outputs": [
    {
     "name": "stdout",
     "output_type": "stream",
     "text": [
      "[ 0  5 10 15 20 25 50 75]\n"
     ]
    }
   ],
   "source": [
    "result = numbers[::]\n",
    "print(result)\n",
    "#İstediğimiz tüm index elemanlarını alabiliriz"
   ]
  },
  {
   "cell_type": "code",
   "execution_count": 84,
   "id": "0847e5d5",
   "metadata": {},
   "outputs": [
    {
     "name": "stdout",
     "output_type": "stream",
     "text": [
      "[75 50 25 20 15 10  5  0]\n"
     ]
    }
   ],
   "source": [
    "result = numbers[::-1]\n",
    "print(result)\n",
    "#İstediğimiz tüm index elemanlarını tersten alabiliriz"
   ]
  },
  {
   "cell_type": "code",
   "execution_count": 87,
   "id": "8fbff5fe",
   "metadata": {},
   "outputs": [
    {
     "name": "stdout",
     "output_type": "stream",
     "text": [
      "[[1 2 3]\n",
      " [4 5 6]\n",
      " [7 8 9]]\n"
     ]
    }
   ],
   "source": [
    "numpy_multi_array = np.array([[1,2,3],[4,5,6],[7,8,9]])\n",
    "print(numpy_multi_array)"
   ]
  },
  {
   "cell_type": "code",
   "execution_count": 89,
   "id": "70dca0ae",
   "metadata": {},
   "outputs": [
    {
     "name": "stdout",
     "output_type": "stream",
     "text": [
      "3\n"
     ]
    }
   ],
   "source": [
    "result = numpy_multi_array[0][2]\n",
    "print(result)\n",
    "#Satır ve sütün seçimi için iki tane köşeli parantez kullanılmalıdır"
   ]
  },
  {
   "cell_type": "code",
   "execution_count": 91,
   "id": "f1ca8a89",
   "metadata": {},
   "outputs": [
    {
     "name": "stdout",
     "output_type": "stream",
     "text": [
      "3\n"
     ]
    }
   ],
   "source": [
    "result = numpy_multi_array[0,2]\n",
    "print(result)\n",
    "#Satır ve sütün seçimi için yada tek köşeli parantez iki değer kullanılmalıdır"
   ]
  },
  {
   "cell_type": "code",
   "execution_count": 94,
   "id": "13586a79",
   "metadata": {},
   "outputs": [
    {
     "name": "stdout",
     "output_type": "stream",
     "text": [
      "[3 6 9]\n"
     ]
    }
   ],
   "source": [
    "result = numpy_multi_array[:,2]\n",
    "print(result)\n",
    "#Tüm satırlar ve 2. indexli sütunları almak için kullanılır"
   ]
  },
  {
   "cell_type": "markdown",
   "id": "6d14b296",
   "metadata": {},
   "source": [
    "## 4-Numpy Dizi Operasyonları:"
   ]
  },
  {
   "cell_type": "code",
   "execution_count": 95,
   "id": "fd2edfd0",
   "metadata": {},
   "outputs": [],
   "source": [
    "numbers1 = np.random.randint(10,100,6)\n",
    "numbers2 = np.random.randint(10,100,6)"
   ]
  },
  {
   "cell_type": "code",
   "execution_count": 97,
   "id": "9ce8c197",
   "metadata": {},
   "outputs": [
    {
     "name": "stdout",
     "output_type": "stream",
     "text": [
      "[67 67 50 99 63 88]\n",
      "[15 25 63 98 43 79]\n"
     ]
    }
   ],
   "source": [
    "print(numbers1)\n",
    "print(numbers2)"
   ]
  },
  {
   "cell_type": "code",
   "execution_count": 99,
   "id": "d1524911",
   "metadata": {},
   "outputs": [
    {
     "name": "stdout",
     "output_type": "stream",
     "text": [
      "[ 82  92 113 197 106 167]\n"
     ]
    }
   ],
   "source": [
    "result = numbers1 + numbers2\n",
    "print(result)\n",
    "#Aynı indexteki elemanlar toplanmış olur"
   ]
  },
  {
   "cell_type": "code",
   "execution_count": 100,
   "id": "5529e98c",
   "metadata": {},
   "outputs": [
    {
     "name": "stdout",
     "output_type": "stream",
     "text": [
      "[ 52  42 -13   1  20   9]\n"
     ]
    }
   ],
   "source": [
    "result = numbers1 - numbers2\n",
    "print(result)\n",
    "#Aynı indexteki elemanlar çıkarılmış olur"
   ]
  },
  {
   "cell_type": "code",
   "execution_count": 101,
   "id": "3f805232",
   "metadata": {},
   "outputs": [
    {
     "name": "stdout",
     "output_type": "stream",
     "text": [
      "[1005 1675 3150 9702 2709 6952]\n"
     ]
    }
   ],
   "source": [
    "result = numbers1 * numbers2\n",
    "print(result)\n",
    "#Aynı indexteki elemanlar çarpılmış olur"
   ]
  },
  {
   "cell_type": "code",
   "execution_count": 102,
   "id": "f756cf12",
   "metadata": {},
   "outputs": [
    {
     "name": "stdout",
     "output_type": "stream",
     "text": [
      "[4.46666667 2.68       0.79365079 1.01020408 1.46511628 1.11392405]\n"
     ]
    }
   ],
   "source": [
    "result = numbers1 / numbers2\n",
    "print(result)\n",
    "#Aynı indexteki elemanlar çarpılmış olur"
   ]
  },
  {
   "cell_type": "code",
   "execution_count": 105,
   "id": "2e34d7c2",
   "metadata": {},
   "outputs": [
    {
     "name": "stdout",
     "output_type": "stream",
     "text": [
      "[-0.85551998 -0.85551998 -0.26237485 -0.99920683  0.1673557   0.0353983 ]\n"
     ]
    }
   ],
   "source": [
    "result = np.sin(numbers1)\n",
    "print(result)\n",
    "#Dizinin sinüsünü alabiliriz"
   ]
  },
  {
   "cell_type": "code",
   "execution_count": 106,
   "id": "1f5e1c1b",
   "metadata": {},
   "outputs": [
    {
     "name": "stdout",
     "output_type": "stream",
     "text": [
      "[-0.5177698  -0.5177698   0.96496603  0.03982088  0.98589658  0.99937328]\n"
     ]
    }
   ],
   "source": [
    "result = np.cos(numbers1)\n",
    "print(result)\n",
    "#Dizinin cosinüsünü alabiliriz"
   ]
  },
  {
   "cell_type": "code",
   "execution_count": 108,
   "id": "ff119347",
   "metadata": {},
   "outputs": [
    {
     "name": "stdout",
     "output_type": "stream",
     "text": [
      "[8.18535277 8.18535277 7.07106781 9.94987437 7.93725393 9.38083152]\n"
     ]
    }
   ],
   "source": [
    "result = np.sqrt(numbers1)\n",
    "print(result)\n",
    "#Dizinin kökünü alabiliriz"
   ]
  },
  {
   "cell_type": "code",
   "execution_count": 109,
   "id": "f5b8e82a",
   "metadata": {},
   "outputs": [
    {
     "name": "stdout",
     "output_type": "stream",
     "text": [
      "[4.20469262 4.20469262 3.91202301 4.59511985 4.14313473 4.47733681]\n"
     ]
    }
   ],
   "source": [
    "result = np.log(numbers1)\n",
    "print(result)\n",
    "#Dizinin ln nini alabiliriz"
   ]
  },
  {
   "cell_type": "code",
   "execution_count": 112,
   "id": "58d1ee13",
   "metadata": {},
   "outputs": [],
   "source": [
    "mnumbers1 = numbers1.reshape(2,3)\n",
    "mnumbers2 = numbers2.reshape(2,3)"
   ]
  },
  {
   "cell_type": "code",
   "execution_count": 114,
   "id": "42e20bc8",
   "metadata": {},
   "outputs": [
    {
     "name": "stdout",
     "output_type": "stream",
     "text": [
      "[[67 67 50]\n",
      " [99 63 88]]\n",
      "[[15 25 63]\n",
      " [98 43 79]]\n"
     ]
    }
   ],
   "source": [
    "print(mnumbers1)\n",
    "print(mnumbers2)"
   ]
  },
  {
   "cell_type": "code",
   "execution_count": 119,
   "id": "12e63fb1",
   "metadata": {},
   "outputs": [
    {
     "name": "stdout",
     "output_type": "stream",
     "text": [
      "[[67 67 50]\n",
      " [99 63 88]\n",
      " [15 25 63]\n",
      " [98 43 79]]\n"
     ]
    }
   ],
   "source": [
    "result = np.vstack((mnumbers1,mnumbers2))\n",
    "print(result)\n",
    "#Dikey olarak matrisleri birleştirir"
   ]
  },
  {
   "cell_type": "code",
   "execution_count": 122,
   "id": "eb3a59da",
   "metadata": {},
   "outputs": [
    {
     "name": "stdout",
     "output_type": "stream",
     "text": [
      "[[67 67 50 15 25 63]\n",
      " [99 63 88 98 43 79]]\n"
     ]
    }
   ],
   "source": [
    "result = np.hstack((mnumbers1,mnumbers2))\n",
    "print(result)\n",
    "#Yatay olarak matrisleri birleştirir"
   ]
  },
  {
   "cell_type": "code",
   "execution_count": 126,
   "id": "e61d47c3",
   "metadata": {},
   "outputs": [
    {
     "name": "stdout",
     "output_type": "stream",
     "text": [
      "[False False False  True False  True]\n"
     ]
    }
   ],
   "source": [
    "result = numbers1 >= 69\n",
    "print(result)\n",
    "#Kontrol işlemi for yapmadan daha kolay yapılmış oldu"
   ]
  },
  {
   "cell_type": "code",
   "execution_count": 132,
   "id": "7d825927",
   "metadata": {},
   "outputs": [
    {
     "name": "stdout",
     "output_type": "stream",
     "text": [
      "[ True  True  True False  True  True]\n"
     ]
    }
   ],
   "source": [
    "result = numbers2 %2 == 1\n",
    "print(result)\n",
    "#Tekleri ve çiftlerin kontrolünü for döngüsü kullanmadan yapmış olduk"
   ]
  },
  {
   "cell_type": "code",
   "execution_count": 133,
   "id": "5d4bb3e0",
   "metadata": {},
   "outputs": [
    {
     "name": "stdout",
     "output_type": "stream",
     "text": [
      "[15 25 63 43 79]\n"
     ]
    }
   ],
   "source": [
    "result = numbers2[result]\n",
    "print(result)"
   ]
  },
  {
   "cell_type": "markdown",
   "id": "e90aac3d",
   "metadata": {},
   "source": [
    "Tekleri ve çiftlerin kontrolünü yaptığımız sayıları boolen tipinde değil değerinde almak için köşeli parantez yerine kontrol yaptıklarımızı yazarız"
   ]
  }
 ],
 "metadata": {
  "kernelspec": {
   "display_name": "Python 3 (ipykernel)",
   "language": "python",
   "name": "python3"
  },
  "language_info": {
   "codemirror_mode": {
    "name": "ipython",
    "version": 3
   },
   "file_extension": ".py",
   "mimetype": "text/x-python",
   "name": "python",
   "nbconvert_exporter": "python",
   "pygments_lexer": "ipython3",
   "version": "3.9.12"
  }
 },
 "nbformat": 4,
 "nbformat_minor": 5
}
