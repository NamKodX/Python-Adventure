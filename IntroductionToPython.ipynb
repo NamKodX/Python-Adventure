{
 "cells": [
  {
   "cell_type": "markdown",
   "id": "62de6a47",
   "metadata": {},
   "source": [
    "# GLOBALAI - introduction to python "
   ]
  },
  {
   "cell_type": "code",
   "execution_count": null,
   "id": "cfcd673b",
   "metadata": {},
   "outputs": [
    {
     "name": "stdout",
     "output_type": "stream",
     "text": [
      "\n",
      "Welcome to Python 3.9's help utility!\n",
      "\n",
      "If this is your first time using Python, you should definitely check out\n",
      "the tutorial on the Internet at https://docs.python.org/3.9/tutorial/.\n",
      "\n",
      "Enter the name of any module, keyword, or topic to get help on writing\n",
      "Python programs and using Python modules.  To quit this help utility and\n",
      "return to the interpreter, just type \"quit\".\n",
      "\n",
      "To get a list of available modules, keywords, symbols, or topics, type\n",
      "\"modules\", \"keywords\", \"symbols\", or \"topics\".  Each module also comes\n",
      "with a one-line summary of what it does; to list the modules whose name\n",
      "or summary contain a given string such as \"spam\", type \"modules spam\".\n",
      "\n",
      "help> keywords\n",
      "\n",
      "Here is a list of the Python keywords.  Enter any keyword to get more help.\n",
      "\n",
      "False               break               for                 not\n",
      "None                class               from                or\n",
      "True                continue            global              pass\n",
      "__peg_parser__      def                 if                  raise\n",
      "and                 del                 import              return\n",
      "as                  elif                in                  try\n",
      "assert              else                is                  while\n",
      "async               except              lambda              with\n",
      "await               finally             nonlocal            yield\n",
      "\n"
     ]
    }
   ],
   "source": [
    "help() #Komutu ile pythonda istediğimiz şey hakkında bilgi alabiliriz"
   ]
  },
  {
   "cell_type": "code",
   "execution_count": 1,
   "id": "53a54b87",
   "metadata": {},
   "outputs": [
    {
     "name": "stdout",
     "output_type": "stream",
     "text": [
      "My favorite number is smaller than 15\n"
     ]
    }
   ],
   "source": [
    "fav_number = 12\n",
    "if fav_number < 15:\n",
    "    print(\"My favorite number is smaller than 15\")"
   ]
  },
  {
   "cell_type": "markdown",
   "id": "cfe34d0a",
   "metadata": {},
   "source": [
    "#### ----------------------------------------------------------------------------------------------------------------------------------"
   ]
  },
  {
   "cell_type": "code",
   "execution_count": 2,
   "id": "09c6326b",
   "metadata": {},
   "outputs": [],
   "source": [
    "#\"NAME\" =! \"name\" Büyük küçük hassasiyeti vardır"
   ]
  },
  {
   "cell_type": "code",
   "execution_count": 3,
   "id": "a926737d",
   "metadata": {},
   "outputs": [],
   "source": [
    "#tanımlamada !,@,#,$,% kullanmamalıyız"
   ]
  },
  {
   "cell_type": "code",
   "execution_count": 4,
   "id": "f779f034",
   "metadata": {},
   "outputs": [],
   "source": [
    "#get_user_names gibi değişken ismi yapısı vardır buna snake case denir"
   ]
  },
  {
   "cell_type": "code",
   "execution_count": 6,
   "id": "032e0063",
   "metadata": {},
   "outputs": [
    {
     "name": "stdout",
     "output_type": "stream",
     "text": [
      "3.14\n"
     ]
    }
   ],
   "source": [
    "pi = 3.14\n",
    "print(pi)  #İle beraber tanımladığımız değişkeni yazdırabiliriz"
   ]
  },
  {
   "cell_type": "code",
   "execution_count": 8,
   "id": "16a4629f",
   "metadata": {},
   "outputs": [
    {
     "name": "stdout",
     "output_type": "stream",
     "text": [
      "3.14\n"
     ]
    }
   ],
   "source": [
    "    print(pi)"
   ]
  },
  {
   "cell_type": "code",
   "execution_count": 9,
   "id": "d6978d66",
   "metadata": {},
   "outputs": [],
   "source": [
    "def greetings(name):\n",
    "    print(f\"Hello,{name}\")  #İçerideki değiskeni {} arasına almalıyız.Girintili yazım"
   ]
  },
  {
   "cell_type": "code",
   "execution_count": 10,
   "id": "67ed297d",
   "metadata": {},
   "outputs": [
    {
     "name": "stdout",
     "output_type": "stream",
     "text": [
      "3.24\n"
     ]
    }
   ],
   "source": [
    "if pi < 3.15:\n",
    "    pi = pi + 0.1\n",
    "print(pi)"
   ]
  },
  {
   "cell_type": "code",
   "execution_count": 13,
   "id": "4b138deb",
   "metadata": {},
   "outputs": [
    {
     "name": "stdout",
     "output_type": "stream",
     "text": [
      "Hello,Namkod\n"
     ]
    }
   ],
   "source": [
    "greetings(\"Namkod\")"
   ]
  },
  {
   "cell_type": "code",
   "execution_count": 16,
   "id": "f542637d",
   "metadata": {},
   "outputs": [
    {
     "data": {
      "text/plain": [
       "str"
      ]
     },
     "execution_count": 16,
     "metadata": {},
     "output_type": "execute_result"
    }
   ],
   "source": [
    "name = \"Deniz\"\n",
    "type(name)"
   ]
  },
  {
   "cell_type": "code",
   "execution_count": 36,
   "id": "dfb3c55e",
   "metadata": {},
   "outputs": [
    {
     "name": "stdout",
     "output_type": "stream",
     "text": [
      "['apple', 1.49, 2.99] <class 'list'>\n"
     ]
    }
   ],
   "source": [
    "store_items = [\"apple\",1.49,2.99]  #listeler\n",
    "print(store_items,type(store_items))  # Bir yere virgül ile iki tane print elemanı yazabiliriz"
   ]
  },
  {
   "cell_type": "code",
   "execution_count": 37,
   "id": "7f96ba9d",
   "metadata": {},
   "outputs": [
    {
     "name": "stdout",
     "output_type": "stream",
     "text": [
      "2.99\n"
     ]
    }
   ],
   "source": [
    "print(store_items[2])  #İstediğimiz index numarasını çıkartabiliriz"
   ]
  },
  {
   "cell_type": "code",
   "execution_count": 38,
   "id": "a1691666",
   "metadata": {},
   "outputs": [
    {
     "name": "stdout",
     "output_type": "stream",
     "text": [
      "['apple', 1.49]\n"
     ]
    }
   ],
   "source": [
    "print(store_items[0:2]) #slice işlemi yapabiliriz"
   ]
  },
  {
   "cell_type": "code",
   "execution_count": 39,
   "id": "1ce0475d",
   "metadata": {},
   "outputs": [],
   "source": [
    "store_items[0] = \"Chocolate\" #İstediğimiz indexi değiştirebiliriz"
   ]
  },
  {
   "cell_type": "code",
   "execution_count": 40,
   "id": "548a126a",
   "metadata": {},
   "outputs": [
    {
     "name": "stdout",
     "output_type": "stream",
     "text": [
      "['Chocolate', 1.49, 2.99]\n"
     ]
    }
   ],
   "source": [
    "print(store_items)"
   ]
  },
  {
   "cell_type": "code",
   "execution_count": 41,
   "id": "ad73d7ca",
   "metadata": {},
   "outputs": [
    {
     "name": "stdout",
     "output_type": "stream",
     "text": [
      "25 <class 'int'>\n"
     ]
    }
   ],
   "source": [
    "age = 25\n",
    "print(age,type(age)) #Tam sayılar integer "
   ]
  },
  {
   "cell_type": "code",
   "execution_count": 42,
   "id": "63eba025",
   "metadata": {},
   "outputs": [
    {
     "name": "stdout",
     "output_type": "stream",
     "text": [
      "1.78 <class 'float'>\n"
     ]
    }
   ],
   "source": [
    "height = 1.78\n",
    "print(height,type(height)) #Virgüllü sayılar float"
   ]
  },
  {
   "cell_type": "code",
   "execution_count": 43,
   "id": "a03d55dc",
   "metadata": {},
   "outputs": [
    {
     "name": "stdout",
     "output_type": "stream",
     "text": [
      "Deniz <class 'str'>\n"
     ]
    }
   ],
   "source": [
    "print(name,type(name))  # yazılar string elemandır"
   ]
  },
  {
   "cell_type": "code",
   "execution_count": 44,
   "id": "052ade50",
   "metadata": {},
   "outputs": [
    {
     "name": "stdout",
     "output_type": "stream",
     "text": [
      "Hi,This is python\n"
     ]
    }
   ],
   "source": [
    "print(\"Hi,This is python\")"
   ]
  },
  {
   "cell_type": "code",
   "execution_count": 45,
   "id": "0eb92e30",
   "metadata": {},
   "outputs": [
    {
     "name": "stdout",
     "output_type": "stream",
     "text": [
      "Your name:Meryem\n",
      "Hello,Meryem\n"
     ]
    }
   ],
   "source": [
    "name = input(\"Your name:\")\n",
    "print(f\"Hello,{name}\")"
   ]
  },
  {
   "cell_type": "code",
   "execution_count": 47,
   "id": "e27fd664",
   "metadata": {},
   "outputs": [
    {
     "name": "stdout",
     "output_type": "stream",
     "text": [
      "Your name:\n",
      "Hello, \n"
     ]
    }
   ],
   "source": [
    "name = input(\"Your name:\")\n",
    "print(\"Hello,\",name)"
   ]
  },
  {
   "cell_type": "code",
   "execution_count": 49,
   "id": "593cb421",
   "metadata": {},
   "outputs": [
    {
     "name": "stdout",
     "output_type": "stream",
     "text": [
      "Number:\n"
     ]
    },
    {
     "ename": "TypeError",
     "evalue": "can only concatenate str (not \"int\") to str",
     "output_type": "error",
     "traceback": [
      "\u001b[1;31m---------------------------------------------------------------------------\u001b[0m",
      "\u001b[1;31mTypeError\u001b[0m                                 Traceback (most recent call last)",
      "Input \u001b[1;32mIn [49]\u001b[0m, in \u001b[0;36m<cell line: 2>\u001b[1;34m()\u001b[0m\n\u001b[0;32m      1\u001b[0m number \u001b[38;5;241m=\u001b[39m \u001b[38;5;28minput\u001b[39m(\u001b[38;5;124m\"\u001b[39m\u001b[38;5;124mNumber:\u001b[39m\u001b[38;5;124m\"\u001b[39m)  \u001b[38;5;66;03m#Hata verme sebebi input değerinin varsayılan olarak string olmasıdır\u001b[39;00m\n\u001b[1;32m----> 2\u001b[0m \u001b[38;5;28mprint\u001b[39m(\u001b[43mnumber\u001b[49m\u001b[43m \u001b[49m\u001b[38;5;241;43m+\u001b[39;49m\u001b[43m \u001b[49m\u001b[38;5;241;43m10\u001b[39;49m)\n",
      "\u001b[1;31mTypeError\u001b[0m: can only concatenate str (not \"int\") to str"
     ]
    }
   ],
   "source": [
    "number = input(\"Number:\")  #Hata verme sebebi input değerinin varsayılan olarak string olmasıdır\n",
    "print(number + 10)"
   ]
  },
  {
   "cell_type": "code",
   "execution_count": 52,
   "id": "7cec364f",
   "metadata": {},
   "outputs": [
    {
     "name": "stdout",
     "output_type": "stream",
     "text": [
      "Number:57\n",
      "67\n"
     ]
    }
   ],
   "source": [
    "number = int(input(\"Number:\"))  #İstediğimiz türe dönüşüm yapabiliriz ve bu sayede hata almayız\n",
    "print(number + 10)"
   ]
  },
  {
   "cell_type": "code",
   "execution_count": 54,
   "id": "141210e4",
   "metadata": {},
   "outputs": [],
   "source": [
    "import math #ile matematiksel metodların kütüphanesini yüklemiş oluruuz"
   ]
  },
  {
   "cell_type": "code",
   "execution_count": 55,
   "id": "b13866c3",
   "metadata": {},
   "outputs": [],
   "source": [
    "floor_number = (math.floor(3.45))"
   ]
  },
  {
   "cell_type": "code",
   "execution_count": 56,
   "id": "8fd055e9",
   "metadata": {},
   "outputs": [
    {
     "name": "stdout",
     "output_type": "stream",
     "text": [
      "3 <class 'int'>\n"
     ]
    }
   ],
   "source": [
    "print(floor_number,type(floor_number))"
   ]
  },
  {
   "cell_type": "code",
   "execution_count": 62,
   "id": "3b6297ac",
   "metadata": {},
   "outputs": [],
   "source": [
    "import datetime #İle beraber zaman kütüphanesini yükleriz"
   ]
  },
  {
   "cell_type": "code",
   "execution_count": 64,
   "id": "904d8224",
   "metadata": {},
   "outputs": [
    {
     "name": "stdout",
     "output_type": "stream",
     "text": [
      "2022-09-21 15:10:23.730376\n"
     ]
    }
   ],
   "source": [
    "print(datetime.datetime.now())  #Şimdiki zamanı gösterebiliriz"
   ]
  },
  {
   "cell_type": "code",
   "execution_count": 66,
   "id": "cfecc9b2",
   "metadata": {},
   "outputs": [],
   "source": [
    "import random #Karıştırma kütüphanesi yükleme"
   ]
  },
  {
   "cell_type": "code",
   "execution_count": 70,
   "id": "fce911df",
   "metadata": {},
   "outputs": [
    {
     "name": "stdout",
     "output_type": "stream",
     "text": [
      "5\n"
     ]
    }
   ],
   "source": [
    "print(random.randint(1,6)) #Yazdığımız sayılar arasından random sayı seçer"
   ]
  },
  {
   "cell_type": "code",
   "execution_count": 74,
   "id": "af706dbd",
   "metadata": {},
   "outputs": [
    {
     "name": "stdout",
     "output_type": "stream",
     "text": [
      "5 + 2= 7\n",
      "5 - 2= 3\n",
      "5 * 2= 10\n",
      "5 / 2= 2.5\n",
      "5 ** 2= 25\n",
      "5 // 2= 2\n",
      "5 % 2= 1\n"
     ]
    }
   ],
   "source": [
    "print(\"5 + 2=\", 5+2)   #Toplama operatörü\n",
    "print(\"5 - 2=\", 5-2)   #Çıkartma operatörü\n",
    "print(\"5 * 2=\", 5*2)   #Çarpma operatörü\n",
    "print(\"5 / 2=\", 5/2)   #Bölme operatörü\n",
    "print(\"5 ** 2=\", 5**2) #Üs alma operatörü\n",
    "print(\"5 // 2=\", 5//2) #Bölüm kısmı operatörü\n",
    "print(\"5 % 2=\", 5%2)   #Kalan kısmı mod operatörü"
   ]
  },
  {
   "cell_type": "code",
   "execution_count": 77,
   "id": "c9dec1a2",
   "metadata": {},
   "outputs": [
    {
     "name": "stdout",
     "output_type": "stream",
     "text": [
      "10\n"
     ]
    }
   ],
   "source": [
    "x = 5 \n",
    "x+=5  #x e 5 ekle anlamında x = x + 5  ifadesinin kısa yazımıdır\n",
    "print(x)"
   ]
  },
  {
   "cell_type": "code",
   "execution_count": 78,
   "id": "3458263a",
   "metadata": {},
   "outputs": [],
   "source": [
    "#Karşılaştırma operatörleri bulunur  == eşittir != eşit değildir anlamındadır ! sonraki ifadeyi değil yapar"
   ]
  },
  {
   "cell_type": "code",
   "execution_count": 80,
   "id": "d91883f9",
   "metadata": {},
   "outputs": [],
   "source": [
    "# and -> Ve operatörü \n",
    "#or -> Veya operatörü\n",
    "#not -> Değilse operatörü\n",
    "#Bu işlemlerde mantık tablosu geçerlidir"
   ]
  },
  {
   "cell_type": "markdown",
   "id": "aef87369",
   "metadata": {},
   "source": [
    "#### ----------------------------------------------------------------------------------------------------------------------------------"
   ]
  },
  {
   "cell_type": "code",
   "execution_count": 20,
   "id": "c13a6b51",
   "metadata": {},
   "outputs": [
    {
     "name": "stdout",
     "output_type": "stream",
     "text": [
      "What is weather celsius?=15\n",
      "Cold weather\n"
     ]
    }
   ],
   "source": [
    "celsius = int(input(\"What is weather celsius?=\"))\n",
    "if celsius > 30:\n",
    "    print(\"Hot weather\")\n",
    "elif celsius > 20:\n",
    "    print(\"Good weather\")\n",
    "elif -273 < celsius <= 20:\n",
    "    print(\"Cold weather\")\n",
    "else:\n",
    "    print(\"Something went wrong\")"
   ]
  },
  {
   "cell_type": "code",
   "execution_count": 21,
   "id": "276f84e9",
   "metadata": {},
   "outputs": [
    {
     "name": "stdout",
     "output_type": "stream",
     "text": [
      "You need to get older\n"
     ]
    }
   ],
   "source": [
    "driver_licence = True\n",
    "age = 17\n",
    "\n",
    "if age > 17:\n",
    "    if driver_licence:\n",
    "        print(\"You can drive car\")\n",
    "    else:\n",
    "        print(\"You need to go to a driver licence course\")\n",
    "else:\n",
    "    print(\"You need to get older\")"
   ]
  },
  {
   "cell_type": "code",
   "execution_count": 22,
   "id": "8ff9c7f1",
   "metadata": {},
   "outputs": [],
   "source": [
    "#for ve while olarak iki tane döngü vardır"
   ]
  },
  {
   "cell_type": "code",
   "execution_count": 23,
   "id": "e4e06665",
   "metadata": {},
   "outputs": [
    {
     "name": "stdout",
     "output_type": "stream",
     "text": [
      "A\n",
      "Y\n",
      "Ş\n",
      "E\n"
     ]
    }
   ],
   "source": [
    "print(\"A\")\n",
    "print(\"Y\")\n",
    "print(\"Ş\")\n",
    "print(\"E\")"
   ]
  },
  {
   "cell_type": "code",
   "execution_count": 24,
   "id": "6f6e734b",
   "metadata": {},
   "outputs": [],
   "source": [
    "#Yukarıdaki gibi uğraşmak yerine döngüleri kullanmak faydalıdır"
   ]
  },
  {
   "cell_type": "code",
   "execution_count": 25,
   "id": "201c358c",
   "metadata": {},
   "outputs": [
    {
     "name": "stdout",
     "output_type": "stream",
     "text": [
      "A\n",
      "Y\n",
      "Ş\n",
      "E\n",
      "Loop is completed!\n"
     ]
    }
   ],
   "source": [
    "name = \"AYŞE\"\n",
    "\n",
    "for i in name:\n",
    "    print(i)\n",
    "print(\"Loop is completed!\")"
   ]
  },
  {
   "cell_type": "code",
   "execution_count": 28,
   "id": "5d7f9812",
   "metadata": {},
   "outputs": [
    {
     "name": "stdout",
     "output_type": "stream",
     "text": [
      "5\n",
      "6\n",
      "7\n",
      "8\n",
      "9\n",
      "10\n",
      "11\n",
      "12\n",
      "13\n",
      "14\n",
      "15\n",
      "16\n",
      "17\n",
      "18\n",
      "19\n",
      "20\n",
      "Loop is completed\n"
     ]
    }
   ],
   "source": [
    "for i in range(5,21):  #5 ten 21 e kadar olan sayıları sıralar\n",
    "    print(i)\n",
    "print(\"Loop is completed\")"
   ]
  },
  {
   "cell_type": "code",
   "execution_count": 4,
   "id": "8b6e40be",
   "metadata": {},
   "outputs": [
    {
     "name": "stdout",
     "output_type": "stream",
     "text": [
      "Cold weather\n",
      "The current tempreature is 10\n",
      "Cold weather\n",
      "The current tempreature is 15\n",
      "Cold weather\n",
      "The current tempreature is 20\n",
      "Good weather\n",
      "The current tempreature is 25\n",
      "Good weather\n",
      "The current tempreature is 30\n",
      "Hot weather\n",
      "The current tempreature is 35\n",
      "Hot weather\n",
      "The current tempreature is 40\n",
      "Hot weather\n",
      "The current tempreature is 45\n"
     ]
    }
   ],
   "source": [
    "celcius = 10\n",
    "\n",
    "while celcius < 50:\n",
    "    if celcius > 30:\n",
    "        print(\"Hot weather\")\n",
    "    elif 30 >= celcius > 20:\n",
    "        print(\"Good weather\")\n",
    "    elif -273 < celcius <= 20:\n",
    "        print(\"Cold weather\")\n",
    "    else:\n",
    "        print(\"Something went wrong\")\n",
    "    print(\"The current tempreature is\",celcius)\n",
    "    celcius += 5"
   ]
  },
  {
   "cell_type": "code",
   "execution_count": 6,
   "id": "d8d0c691",
   "metadata": {},
   "outputs": [
    {
     "name": "stdout",
     "output_type": "stream",
     "text": [
      "1\n",
      "2\n",
      "3\n",
      "4\n"
     ]
    },
    {
     "ename": "KeyboardInterrupt",
     "evalue": "",
     "output_type": "error",
     "traceback": [
      "\u001b[1;31m---------------------------------------------------------------------------\u001b[0m",
      "\u001b[1;31mKeyboardInterrupt\u001b[0m                         Traceback (most recent call last)",
      "Input \u001b[1;32mIn [6]\u001b[0m, in \u001b[0;36m<cell line: 4>\u001b[1;34m()\u001b[0m\n\u001b[0;32m      5\u001b[0m counter \u001b[38;5;241m+\u001b[39m\u001b[38;5;241m=\u001b[39m\u001b[38;5;241m1\u001b[39m\n\u001b[0;32m      7\u001b[0m \u001b[38;5;28mprint\u001b[39m(counter)\n\u001b[1;32m----> 8\u001b[0m \u001b[43mtime\u001b[49m\u001b[38;5;241;43m.\u001b[39;49m\u001b[43msleep\u001b[49m\u001b[43m(\u001b[49m\u001b[38;5;241;43m1\u001b[39;49m\u001b[43m)\u001b[49m\n",
      "\u001b[1;31mKeyboardInterrupt\u001b[0m: "
     ]
    }
   ],
   "source": [
    "import time  \n",
    "counter = 0\n",
    "\n",
    "while counter >= 0:\n",
    "    counter +=1\n",
    "    \n",
    "    print(counter)\n",
    "    time.sleep(1) #Yavas yavas ilerlemeyi saglıyor.İçeriye yazılan sayı ne kadar zamanda bir dongu devam etsini anlatıyor"
   ]
  },
  {
   "cell_type": "code",
   "execution_count": 9,
   "id": "12caed07",
   "metadata": {},
   "outputs": [
    {
     "name": "stdout",
     "output_type": "stream",
     "text": [
      "389\n",
      "258\n",
      "679\n",
      "464\n",
      "718\n",
      "916\n",
      "416\n",
      "39\n",
      "134\n",
      "818\n",
      "176\n",
      "573\n",
      "843\n",
      "970\n",
      "554\n",
      "38\n",
      "407\n",
      "811\n",
      "972\n",
      "591\n",
      "460\n",
      "960\n",
      "553\n",
      "916\n",
      "767\n",
      "355\n",
      "669\n",
      "649\n",
      "12\n",
      "489\n",
      "184\n",
      "149\n",
      "598\n",
      "798\n",
      "133\n",
      "165\n",
      "703\n",
      "533\n",
      "532\n",
      "560\n",
      "767\n",
      "397\n",
      "582\n",
      "415\n",
      "913\n",
      "747\n",
      "609\n",
      "277\n",
      "488\n",
      "271\n",
      "564\n",
      "204\n",
      "638\n",
      "680\n",
      "247\n",
      "594\n",
      "71\n",
      "4\n",
      "234\n",
      "530\n",
      "774\n",
      "927\n",
      "197\n",
      "194\n",
      "126\n",
      "403\n",
      "755\n",
      "135\n",
      "51\n",
      "10\n",
      "233\n",
      "254\n",
      "689\n",
      "864\n",
      "90\n",
      "430\n",
      "637\n",
      "206\n",
      "903\n",
      "587\n",
      "851\n",
      "565\n",
      "315\n",
      "392\n",
      "689\n",
      "520\n",
      "596\n",
      "638\n",
      "307\n",
      "661\n",
      "18\n",
      "883\n",
      "362\n",
      "246\n",
      "763\n",
      "521\n",
      "214\n",
      "569\n",
      "932\n",
      "602\n",
      "65\n",
      "762\n",
      "749\n",
      "104\n",
      "156\n",
      "944\n",
      "254\n",
      "267\n",
      "440\n",
      "478\n",
      "263\n",
      "279\n",
      "752\n",
      "583\n",
      "531\n",
      "716\n",
      "491\n",
      "719\n",
      "732\n",
      "308\n",
      "507\n",
      "612\n",
      "849\n",
      "169\n",
      "121\n",
      "639\n",
      "464\n",
      "762\n",
      "949\n",
      "834\n",
      "608\n",
      "102\n",
      "629\n",
      "122\n",
      "554\n",
      "187\n",
      "17\n",
      "98\n",
      "253\n",
      "188\n",
      "981\n",
      "152\n",
      "787\n",
      "277\n",
      "968\n",
      "592\n",
      "930\n",
      "387\n",
      "404\n",
      "139\n",
      "891\n",
      "445\n",
      "541\n",
      "127\n",
      "691\n",
      "510\n",
      "281\n",
      "558\n",
      "304\n",
      "191\n",
      "13\n",
      "586\n",
      "251\n",
      "107\n",
      "106\n",
      "725\n",
      "603\n",
      "799\n",
      "231\n",
      "754\n",
      "688\n",
      "910\n",
      "690\n",
      "33\n",
      "510\n",
      "494\n",
      "317\n",
      "585\n",
      "188\n",
      "66\n",
      "702\n",
      "867\n",
      "339\n",
      "125\n",
      "821\n",
      "41\n",
      "97\n",
      "956\n",
      "293\n",
      "604\n",
      "219\n",
      "620\n",
      "937\n",
      "597\n",
      "419\n",
      "56\n",
      "428\n",
      "232\n",
      "253\n",
      "252\n",
      "592\n",
      "721\n",
      "591\n",
      "104\n",
      "944\n",
      "583\n",
      "161\n",
      "953\n",
      "661\n",
      "821\n",
      "67\n",
      "615\n",
      "662\n",
      "606\n",
      "703\n",
      "28\n",
      "220\n",
      "473\n",
      "657\n",
      "574\n",
      "177\n",
      "968\n",
      "924\n",
      "506\n",
      "34\n",
      "374\n",
      "101\n",
      "841\n",
      "970\n",
      "598\n",
      "66\n",
      "701\n",
      "222\n",
      "327\n",
      "850\n",
      "637\n",
      "41\n",
      "943\n",
      "720\n",
      "254\n",
      "805\n",
      "850\n",
      "323\n",
      "844\n",
      "819\n",
      "748\n",
      "93\n",
      "180\n",
      "681\n",
      "468\n",
      "300\n",
      "369\n",
      "596\n",
      "98\n",
      "47\n",
      "796\n",
      "831\n",
      "369\n",
      "488\n",
      "867\n",
      "492\n",
      "91\n",
      "637\n",
      "706\n",
      "478\n",
      "977\n",
      "743\n",
      "131\n",
      "51\n",
      "810\n",
      "447\n",
      "613\n",
      "395\n",
      "647\n",
      "787\n",
      "570\n",
      "678\n",
      "378\n",
      "323\n",
      "227\n",
      "650\n",
      "453\n",
      "649\n",
      "456\n",
      "491\n",
      "717\n",
      "717\n",
      "311\n",
      "390\n",
      "236\n",
      "843\n",
      "654\n",
      "629\n",
      "381\n",
      "987\n",
      "398\n",
      "415\n",
      "879\n",
      "643\n",
      "464\n",
      "868\n",
      "576\n",
      "261\n",
      "243\n",
      "603\n",
      "943\n",
      "293\n",
      "668\n",
      "393\n",
      "675\n",
      "245\n",
      "656\n",
      "519\n",
      "436\n",
      "616\n",
      "563\n",
      "467\n",
      "178\n",
      "184\n",
      "462\n",
      "647\n",
      "590\n",
      "419\n",
      "460\n",
      "565\n",
      "97\n",
      "836\n",
      "535\n",
      "102\n",
      "229\n",
      "453\n",
      "797\n",
      "243\n",
      "106\n",
      "302\n",
      "0\n",
      "577\n",
      "564\n",
      "502\n",
      "280\n",
      "473\n",
      "439\n",
      "418\n",
      "269\n",
      "559\n",
      "988\n",
      "592\n",
      "636\n",
      "284\n",
      "696\n",
      "784\n",
      "880\n",
      "327\n",
      "864\n",
      "602\n",
      "817\n",
      "241\n",
      "291\n",
      "208\n",
      "829\n",
      "440\n",
      "776\n",
      "463\n",
      "4\n",
      "101\n",
      "944\n",
      "329\n",
      "207\n",
      "900\n",
      "97\n",
      "508\n",
      "741\n",
      "473\n",
      "725\n",
      "372\n",
      "930\n",
      "456\n",
      "163\n",
      "439\n",
      "396\n",
      "57\n",
      "179\n",
      "276\n",
      "562\n",
      "66\n",
      "344\n",
      "940\n",
      "451\n",
      "719\n",
      "559\n",
      "677\n",
      "394\n",
      "388\n",
      "296\n",
      "400\n",
      "150\n",
      "947\n",
      "96\n",
      "297\n",
      "864\n",
      "278\n",
      "442\n",
      "539\n",
      "63\n",
      "0\n",
      "669\n",
      "720\n",
      "601\n",
      "832\n",
      "177\n",
      "911\n",
      "358\n",
      "821\n",
      "458\n",
      "99\n",
      "971\n",
      "827\n",
      "659\n",
      "305\n",
      "900\n",
      "147\n",
      "277\n",
      "16\n",
      "89\n",
      "47\n",
      "786\n",
      "394\n",
      "688\n",
      "664\n",
      "125\n",
      "734\n",
      "150\n",
      "367\n",
      "693\n",
      "268\n",
      "274\n",
      "576\n",
      "858\n",
      "333\n",
      "535\n",
      "953\n",
      "201\n",
      "786\n",
      "769\n",
      "838\n",
      "181\n",
      "833\n",
      "495\n",
      "383\n",
      "737\n",
      "926\n",
      "5\n",
      "635\n",
      "857\n",
      "801\n",
      "952\n",
      "612\n",
      "961\n",
      "463\n",
      "65\n",
      "979\n",
      "120\n",
      "445\n",
      "978\n",
      "553\n",
      "354\n",
      "438\n",
      "194\n",
      "916\n",
      "376\n",
      "318\n",
      "876\n",
      "538\n",
      "233\n",
      "443\n",
      "278\n",
      "984\n",
      "788\n",
      "33\n",
      "538\n",
      "515\n",
      "689\n",
      "716\n",
      "169\n",
      "904\n",
      "716\n",
      "818\n",
      "293\n",
      "869\n",
      "186\n",
      "71\n",
      "945\n",
      "779\n",
      "807\n",
      "789\n",
      "86\n",
      "968\n",
      "63\n",
      "594\n",
      "411\n",
      "291\n",
      "101\n",
      "728\n",
      "949\n",
      "895\n",
      "560\n",
      "164\n",
      "304\n",
      "470\n",
      "276\n",
      "720\n",
      "940\n",
      "814\n",
      "566\n",
      "448\n",
      "348\n",
      "37\n",
      "355\n",
      "909\n",
      "171\n",
      "347\n",
      "307\n",
      "114\n",
      "6\n",
      "396\n",
      "953\n",
      "135\n",
      "777\n",
      "Found!\n"
     ]
    }
   ],
   "source": [
    "import random\n",
    "while True:\n",
    "    \n",
    "    random_number = random.randrange(1000)\n",
    "    print(random_number)\n",
    "     \n",
    "    if random_number == 777:\n",
    "        print(\"Found!\")\n",
    "        break  #Döngüyü durdurur"
   ]
  },
  {
   "cell_type": "code",
   "execution_count": 12,
   "id": "a8104c9c",
   "metadata": {},
   "outputs": [
    {
     "name": "stdout",
     "output_type": "stream",
     "text": [
      "Max is a string\n",
      "Felix is a string\n",
      "Deniz is a string\n",
      "Selin is a string\n",
      "Lucas is a string\n",
      "Found 26\n"
     ]
    }
   ],
   "source": [
    "names = [\"Max\",\"Felix\",\"Deniz\",\"Selin\",\"Lucas\",26,\"Alice\"]\n",
    "\n",
    "for name in names:\n",
    "    if type(name) != str:\n",
    "        print(\"Found\",name)  # Farklı tipi bulabiliriz\n",
    "        break\n",
    "        \n",
    "    else:\n",
    "        print(name,\"is a string\")"
   ]
  },
  {
   "cell_type": "code",
   "execution_count": 2,
   "id": "b6f61677",
   "metadata": {},
   "outputs": [
    {
     "ename": "NameError",
     "evalue": "name 'x' is not defined",
     "output_type": "error",
     "traceback": [
      "\u001b[1;31m---------------------------------------------------------------------------\u001b[0m",
      "\u001b[1;31mNameError\u001b[0m                                 Traceback (most recent call last)",
      "Input \u001b[1;32mIn [2]\u001b[0m, in \u001b[0;36m<cell line: 1>\u001b[1;34m()\u001b[0m\n\u001b[0;32m      3\u001b[0m         \u001b[38;5;28;01mbreak\u001b[39;00m\n\u001b[0;32m      4\u001b[0m     \u001b[38;5;28;01melse\u001b[39;00m:\n\u001b[1;32m----> 5\u001b[0m         x \u001b[38;5;241m+\u001b[39m\u001b[38;5;241m=\u001b[39m \u001b[38;5;241m1\u001b[39m\n\u001b[0;32m      6\u001b[0m \u001b[38;5;28mprint\u001b[39m(x)\n",
      "\u001b[1;31mNameError\u001b[0m: name 'x' is not defined"
     ]
    }
   ],
   "source": [
    "for i in \"Istanbul\":\n",
    "    if i == \"n\":\n",
    "        break\n",
    "    else:\n",
    "        x += 1\n",
    "print(x)"
   ]
  },
  {
   "cell_type": "code",
   "execution_count": 3,
   "id": "e641b101",
   "metadata": {},
   "outputs": [
    {
     "name": "stdout",
     "output_type": "stream",
     "text": [
      "3\n"
     ]
    }
   ],
   "source": [
    "x = True\n",
    "y = False \n",
    "z = False\n",
    "\n",
    "if not x or y or not y and x:\n",
    "    print(3)"
   ]
  },
  {
   "cell_type": "code",
   "execution_count": 4,
   "id": "3c26ad54",
   "metadata": {},
   "outputs": [
    {
     "name": "stdout",
     "output_type": "stream",
     "text": [
      "1\n",
      "3\n"
     ]
    }
   ],
   "source": [
    "i = 1\n",
    "while True:\n",
    "    print(i)\n",
    "    i += 2\n",
    "    if (i==5):\n",
    "        break"
   ]
  },
  {
   "cell_type": "code",
   "execution_count": 5,
   "id": "660a2981",
   "metadata": {},
   "outputs": [
    {
     "name": "stdout",
     "output_type": "stream",
     "text": [
      "1\n"
     ]
    }
   ],
   "source": [
    "my_list = [1,5,5,5,5,1]\n",
    "top = my_list[0]\n",
    "\n",
    "for element in my_list:\n",
    "    if element > top:\n",
    "        top = element\n",
    "print(my_list[top])"
   ]
  },
  {
   "cell_type": "markdown",
   "id": "fdb2228a",
   "metadata": {},
   "source": [
    "#### ----------------------------------------------------------------------------------------------------------------------------------"
   ]
  },
  {
   "cell_type": "code",
   "execution_count": 6,
   "id": "360eeaa6",
   "metadata": {},
   "outputs": [],
   "source": [
    "def hello(name):\n",
    "    print(\"Hello\",name)"
   ]
  },
  {
   "cell_type": "code",
   "execution_count": 9,
   "id": "765de596",
   "metadata": {},
   "outputs": [
    {
     "name": "stdout",
     "output_type": "stream",
     "text": [
      "Hello NamKod\n"
     ]
    }
   ],
   "source": [
    "hello(\"NamKod\")"
   ]
  },
  {
   "cell_type": "code",
   "execution_count": 13,
   "id": "530cc489",
   "metadata": {},
   "outputs": [],
   "source": [
    "def sum(number1,number2):\n",
    "    answer = number1 + number2\n",
    "    return answer"
   ]
  },
  {
   "cell_type": "code",
   "execution_count": 14,
   "id": "623d86b0",
   "metadata": {},
   "outputs": [
    {
     "data": {
      "text/plain": [
       "15"
      ]
     },
     "execution_count": 14,
     "metadata": {},
     "output_type": "execute_result"
    }
   ],
   "source": [
    "sum(7,8)"
   ]
  },
  {
   "cell_type": "code",
   "execution_count": 15,
   "id": "cae48e69",
   "metadata": {},
   "outputs": [
    {
     "name": "stdout",
     "output_type": "stream",
     "text": [
      "13\n"
     ]
    }
   ],
   "source": [
    "result = sum(9,4)\n",
    "print(result)"
   ]
  },
  {
   "cell_type": "code",
   "execution_count": 16,
   "id": "a0ffb4bc",
   "metadata": {},
   "outputs": [],
   "source": [
    "def argument_printer(arg_position1,arg_position2):\n",
    "    print(\"Argument at position 1:\",arg_position1)\n",
    "    print(\"Argument at position 2:\",arg_position2)"
   ]
  },
  {
   "cell_type": "code",
   "execution_count": 17,
   "id": "7ed7bb16",
   "metadata": {},
   "outputs": [
    {
     "name": "stdout",
     "output_type": "stream",
     "text": [
      "Argument at position 1: Value 1\n",
      "Argument at position 2: Value 2\n"
     ]
    }
   ],
   "source": [
    "argument_printer(\"Value 1\",\"Value 2\")"
   ]
  },
  {
   "cell_type": "code",
   "execution_count": 18,
   "id": "16cb4f0b",
   "metadata": {},
   "outputs": [],
   "source": [
    "def greetings(first_name,last_name,auto_correction):\n",
    "    if auto_correction == True:\n",
    "        capitalized_first_name = first_name.capitalize()\n",
    "        capitalized_last_name = last_name.capitalize()\n",
    "        print(\"Hello,\", capitalized_first_name, capitalized_last_name)\n",
    "    else:\n",
    "        print(\"Hello,\",first_name,last_name)"
   ]
  },
  {
   "cell_type": "code",
   "execution_count": 19,
   "id": "e5c2932d",
   "metadata": {},
   "outputs": [
    {
     "name": "stdout",
     "output_type": "stream",
     "text": [
      "Hello, Deniz Kaya\n"
     ]
    }
   ],
   "source": [
    "greetings(\"deNiz\",\"kaYa\",True)"
   ]
  },
  {
   "cell_type": "code",
   "execution_count": 20,
   "id": "b16ffc73",
   "metadata": {},
   "outputs": [
    {
     "name": "stdout",
     "output_type": "stream",
     "text": [
      "Hello, deNiz kaYa\n"
     ]
    }
   ],
   "source": [
    "greetings(\"deNiz\",\"kaYa\",False)"
   ]
  },
  {
   "cell_type": "code",
   "execution_count": 21,
   "id": "abfd22ea",
   "metadata": {},
   "outputs": [],
   "source": [
    "def greetings(first_name,last_name,auto_correction=True):  #default değer verebiliriz onu yazmaya gerek yok false olmasını istersek yazarız\n",
    "    if auto_correction == True:\n",
    "        capitalized_first_name = first_name.capitalize()\n",
    "        capitalized_last_name = last_name.capitalize()\n",
    "        print(\"Hello,\", capitalized_first_name, capitalized_last_name)\n",
    "    else:\n",
    "        print(\"Hello,\",first_name,last_name)"
   ]
  },
  {
   "cell_type": "code",
   "execution_count": 22,
   "id": "10ff214d",
   "metadata": {},
   "outputs": [
    {
     "name": "stdout",
     "output_type": "stream",
     "text": [
      "Hello, Deniz Kaya\n"
     ]
    }
   ],
   "source": [
    "greetings(\"deNiz\",\"kaYa\")"
   ]
  },
  {
   "cell_type": "code",
   "execution_count": 23,
   "id": "a68f22af",
   "metadata": {},
   "outputs": [
    {
     "name": "stdout",
     "output_type": "stream",
     "text": [
      "Hello, deNiz kaYa\n"
     ]
    }
   ],
   "source": [
    "greetings(\"deNiz\",\"kaYa\",False)"
   ]
  },
  {
   "cell_type": "code",
   "execution_count": 26,
   "id": "e798dd51",
   "metadata": {},
   "outputs": [],
   "source": [
    "def car(brand,model,color):\n",
    "    print(\"My favourite car is the\",brand,model,\"in the color\",color)"
   ]
  },
  {
   "cell_type": "code",
   "execution_count": 27,
   "id": "dc37c30f",
   "metadata": {},
   "outputs": [
    {
     "name": "stdout",
     "output_type": "stream",
     "text": [
      "My favourite car is the Audi R8 in the color White\n"
     ]
    }
   ],
   "source": [
    "car(\"Audi\",\"R8\",\"White\")"
   ]
  },
  {
   "cell_type": "code",
   "execution_count": 36,
   "id": "154d00be",
   "metadata": {},
   "outputs": [
    {
     "name": "stdout",
     "output_type": "stream",
     "text": [
      "My favourite car is the Ranger Ranger in the color Grey\n"
     ]
    }
   ],
   "source": [
    "car(color=\"Grey\",model=\"Ranger\",brand= \"Ford\")  #indexi yazıp değeri yazabliriiz sırayla gitmemize gerek yok lakin bunu \n",
    "#yaparken hepsinin indexini belirtmeliyiz"
   ]
  },
  {
   "cell_type": "code",
   "execution_count": 42,
   "id": "93dfd8cf",
   "metadata": {},
   "outputs": [
    {
     "name": "stdout",
     "output_type": "stream",
     "text": [
      "4\n"
     ]
    }
   ],
   "source": [
    "number = 13  #Global değişken\n",
    "\n",
    "def change_number():\n",
    "    global number  #İçerisinde normalde yerel olmalı ama global hale getirebiliriz global sayesinde\n",
    "    number = 4 #Yerel(Local) değişken\n",
    "\n",
    "change_number()\n",
    "print(number)"
   ]
  },
  {
   "cell_type": "code",
   "execution_count": 46,
   "id": "3fe57a73",
   "metadata": {},
   "outputs": [
    {
     "name": "stdout",
     "output_type": "stream",
     "text": [
      "Defaulting to user installation because normal site-packages is not writeable\n",
      "Requirement already satisfied: seaborn in c:\\programdata\\anaconda3\\lib\\site-packages (0.11.2)\n",
      "Requirement already satisfied: scipy>=1.0 in c:\\programdata\\anaconda3\\lib\\site-packages (from seaborn) (1.7.3)\n",
      "Requirement already satisfied: pandas>=0.23 in c:\\programdata\\anaconda3\\lib\\site-packages (from seaborn) (1.4.2)\n",
      "Requirement already satisfied: matplotlib>=2.2 in c:\\programdata\\anaconda3\\lib\\site-packages (from seaborn) (3.5.1)\n",
      "Requirement already satisfied: numpy>=1.15 in c:\\programdata\\anaconda3\\lib\\site-packages (from seaborn) (1.21.5)\n",
      "Requirement already satisfied: kiwisolver>=1.0.1 in c:\\programdata\\anaconda3\\lib\\site-packages (from matplotlib>=2.2->seaborn) (1.3.2)\n",
      "Requirement already satisfied: python-dateutil>=2.7 in c:\\programdata\\anaconda3\\lib\\site-packages (from matplotlib>=2.2->seaborn) (2.8.2)\n",
      "Requirement already satisfied: packaging>=20.0 in c:\\programdata\\anaconda3\\lib\\site-packages (from matplotlib>=2.2->seaborn) (21.3)\n",
      "Requirement already satisfied: pillow>=6.2.0 in c:\\programdata\\anaconda3\\lib\\site-packages (from matplotlib>=2.2->seaborn) (9.0.1)\n",
      "Requirement already satisfied: fonttools>=4.22.0 in c:\\programdata\\anaconda3\\lib\\site-packages (from matplotlib>=2.2->seaborn) (4.25.0)\n",
      "Requirement already satisfied: cycler>=0.10 in c:\\programdata\\anaconda3\\lib\\site-packages (from matplotlib>=2.2->seaborn) (0.11.0)\n",
      "Requirement already satisfied: pyparsing>=2.2.1 in c:\\programdata\\anaconda3\\lib\\site-packages (from matplotlib>=2.2->seaborn) (3.0.4)\n",
      "Requirement already satisfied: pytz>=2020.1 in c:\\programdata\\anaconda3\\lib\\site-packages (from pandas>=0.23->seaborn) (2021.3)\n",
      "Requirement already satisfied: six>=1.5 in c:\\users\\namkodx\\appdata\\roaming\\python\\python39\\site-packages (from python-dateutil>=2.7->matplotlib>=2.2->seaborn) (1.15.0)\n"
     ]
    }
   ],
   "source": [
    "!pip install seaborn   \n",
    "#Buradanda kütüphane yüklemesi yapabiliriz"
   ]
  },
  {
   "cell_type": "code",
   "execution_count": 47,
   "id": "8986561b",
   "metadata": {},
   "outputs": [],
   "source": [
    "import seaborn as sb  #Kütüphaneyi başka isimle yükleyebiliriz"
   ]
  },
  {
   "cell_type": "code",
   "execution_count": 48,
   "id": "dc1bbbdd",
   "metadata": {},
   "outputs": [],
   "source": [
    "data = [1,2,10,3,5,6,13]"
   ]
  },
  {
   "cell_type": "code",
   "execution_count": 51,
   "id": "e577b2e9",
   "metadata": {},
   "outputs": [
    {
     "name": "stderr",
     "output_type": "stream",
     "text": [
      "C:\\ProgramData\\Anaconda3\\lib\\site-packages\\seaborn\\_decorators.py:36: FutureWarning: Pass the following variables as keyword args: x, y. From version 0.12, the only valid positional argument will be `data`, and passing other arguments without an explicit keyword will result in an error or misinterpretation.\n",
      "  warnings.warn(\n"
     ]
    },
    {
     "data": {
      "text/plain": [
       "<AxesSubplot:>"
      ]
     },
     "execution_count": 51,
     "metadata": {},
     "output_type": "execute_result"
    },
    {
     "data": {
      "image/png": "[encoded data removed]",
      "text/plain": [
       "<Figure size 432x288 with 1 Axes>"
      ]
     },
     "metadata": {
      "needs_background": "light"
     },
     "output_type": "display_data"
    }
   ],
   "source": [
    "sb.lineplot(range(7),data)"
   ]
  },
  {
   "cell_type": "code",
   "execution_count": 52,
   "id": "b9009382",
   "metadata": {},
   "outputs": [
    {
     "name": "stdout",
     "output_type": "stream",
     "text": [
      "16\n"
     ]
    }
   ],
   "source": [
    "num1 = 8\n",
    "num2 = 4\n",
    "\n",
    "def my_function():\n",
    "    num1 = 12\n",
    "    return num1 + num2\n",
    "print(my_function())"
   ]
  },
  {
   "cell_type": "code",
   "execution_count": 53,
   "id": "5d5a3775",
   "metadata": {},
   "outputs": [
    {
     "name": "stdout",
     "output_type": "stream",
     "text": [
      "6\n"
     ]
    },
    {
     "ename": "TypeError",
     "evalue": "unsupported operand type(s) for +: 'NoneType' and 'int'",
     "output_type": "error",
     "traceback": [
      "\u001b[1;31m---------------------------------------------------------------------------\u001b[0m",
      "\u001b[1;31mTypeError\u001b[0m                                 Traceback (most recent call last)",
      "Input \u001b[1;32mIn [53]\u001b[0m, in \u001b[0;36m<cell line: 3>\u001b[1;34m()\u001b[0m\n\u001b[0;32m      1\u001b[0m \u001b[38;5;28;01mdef\u001b[39;00m \u001b[38;5;21mmyproduct\u001b[39m(num1,num2):\n\u001b[0;32m      2\u001b[0m     \u001b[38;5;28mprint\u001b[39m(num1 \u001b[38;5;241m*\u001b[39m num2)\n\u001b[1;32m----> 3\u001b[0m amount \u001b[38;5;241m=\u001b[39m \u001b[43mmyproduct\u001b[49m\u001b[43m(\u001b[49m\u001b[38;5;241;43m3\u001b[39;49m\u001b[43m,\u001b[49m\u001b[38;5;241;43m2\u001b[39;49m\u001b[43m)\u001b[49m\u001b[43m \u001b[49m\u001b[38;5;241;43m+\u001b[39;49m\u001b[43m \u001b[49m\u001b[38;5;241;43m1\u001b[39;49m\n",
      "\u001b[1;31mTypeError\u001b[0m: unsupported operand type(s) for +: 'NoneType' and 'int'"
     ]
    }
   ],
   "source": [
    "def myproduct(num1,num2):\n",
    "    print(num1 * num2)\n",
    "amount = myproduct(3,2) + 1"
   ]
  },
  {
   "cell_type": "code",
   "execution_count": 60,
   "id": "849fc529",
   "metadata": {},
   "outputs": [],
   "source": [
    "price = 1200\n",
    "\n",
    "def update_price(new_price):\n",
    "    price = new_price\n",
    "    return price\n"
   ]
  },
  {
   "cell_type": "code",
   "execution_count": 58,
   "id": "742af025",
   "metadata": {},
   "outputs": [
    {
     "name": "stdout",
     "output_type": "stream",
     "text": [
      "0\n"
     ]
    }
   ],
   "source": [
    "def myfunction(a,b,c=5,d=2):\n",
    "    if c > d:\n",
    "        print(a)\n",
    "    else:\n",
    "        print(b)\n",
    "myfunction(a=0,b=1,d=4)"
   ]
  },
  {
   "cell_type": "code",
   "execution_count": 56,
   "id": "3124263c",
   "metadata": {},
   "outputs": [],
   "source": [
    "def fool():\n",
    "    print(\"This is fool\")\n",
    "    return \"Hello World\""
   ]
  },
  {
   "cell_type": "code",
   "execution_count": 57,
   "id": "bccee9fa",
   "metadata": {},
   "outputs": [],
   "source": [
    "def myproduct(num1,num2):\n",
    "    return (num1 * num2)\n",
    "amount = myproduct(3,2) + 1"
   ]
  },
  {
   "cell_type": "markdown",
   "id": "b7a3fed4",
   "metadata": {},
   "source": [
    "\n"
   ]
  },
  {
   "cell_type": "code",
   "execution_count": 71,
   "id": "49630fa8",
   "metadata": {},
   "outputs": [],
   "source": [
    "shopping_list = [\"Apple\",\"Juice\",\"Ball\",\"Book\"]"
   ]
  },
  {
   "cell_type": "code",
   "execution_count": 72,
   "id": "0bec425b",
   "metadata": {},
   "outputs": [
    {
     "name": "stdout",
     "output_type": "stream",
     "text": [
      "['Apple', 'Juice', 'Ball', 'Book', 'Water']\n"
     ]
    }
   ],
   "source": [
    "shopping_list.append(\"Water\")  #Listenin sonuna eleman ekleyebiliriz\n",
    "print(shopping_list)"
   ]
  },
  {
   "cell_type": "code",
   "execution_count": 73,
   "id": "50c53447",
   "metadata": {},
   "outputs": [
    {
     "name": "stdout",
     "output_type": "stream",
     "text": [
      "['Apple', 'Juice', 'Banana', 'Ball', 'Book', 'Water']\n"
     ]
    }
   ],
   "source": [
    "shopping_list.insert(2,\"Banana\")  #İstediğimiz indexe eleman ekleyebiliriz\n",
    "print(shopping_list)"
   ]
  },
  {
   "cell_type": "code",
   "execution_count": 74,
   "id": "7bb5d0f8",
   "metadata": {},
   "outputs": [
    {
     "name": "stdout",
     "output_type": "stream",
     "text": [
      "['Juice', 'Banana', 'Ball', 'Book', 'Water']\n"
     ]
    }
   ],
   "source": [
    "shopping_list.remove(\"Apple\") #ile istediğimiz elemanı silebiliriz\n",
    "print(shopping_list)"
   ]
  },
  {
   "cell_type": "code",
   "execution_count": 77,
   "id": "eb3af255",
   "metadata": {},
   "outputs": [
    {
     "name": "stdout",
     "output_type": "stream",
     "text": [
      "['Juice', 'Banana', 'Ball', 'Strawberry', 'Water']\n"
     ]
    }
   ],
   "source": [
    "shopping_list[3] = \"Strawberry\" #İstediğimiz indexe boylece ekleme yapabiliriz insert mantığında\n",
    "print(shopping_list)"
   ]
  },
  {
   "cell_type": "code",
   "execution_count": 84,
   "id": "6dd4a71c",
   "metadata": {},
   "outputs": [],
   "source": [
    "number_list = [1,2,3,4,5]\n",
    "square_list = []"
   ]
  },
  {
   "cell_type": "code",
   "execution_count": 85,
   "id": "700b2740",
   "metadata": {},
   "outputs": [],
   "source": [
    "for num in number_list:   #For dongusu ile bos listeye eleman ekleyebiliriz\n",
    "    square_list.append(num*2)"
   ]
  },
  {
   "cell_type": "code",
   "execution_count": 86,
   "id": "c95e2be7",
   "metadata": {},
   "outputs": [
    {
     "name": "stdout",
     "output_type": "stream",
     "text": [
      "[2, 4, 6, 8, 10]\n"
     ]
    }
   ],
   "source": [
    "print(square_list)"
   ]
  },
  {
   "cell_type": "code",
   "execution_count": 91,
   "id": "032bff9c",
   "metadata": {},
   "outputs": [],
   "source": [
    "number_list = [1,2,3,4,5]\n",
    "square_list = [num ** 2 for num in number_list]"
   ]
  },
  {
   "cell_type": "code",
   "execution_count": 92,
   "id": "54754639",
   "metadata": {},
   "outputs": [
    {
     "name": "stdout",
     "output_type": "stream",
     "text": [
      "[1, 4, 9, 16, 25]\n"
     ]
    }
   ],
   "source": [
    "print(square_list)"
   ]
  },
  {
   "cell_type": "code",
   "execution_count": 93,
   "id": "7b29705a",
   "metadata": {},
   "outputs": [],
   "source": [
    "shopping_list = (\"Apple\",\"Juice\",\"Ball\") #Tupple tanımlaması yapısı"
   ]
  },
  {
   "cell_type": "code",
   "execution_count": 95,
   "id": "c25041cd",
   "metadata": {},
   "outputs": [
    {
     "name": "stdout",
     "output_type": "stream",
     "text": [
      "Apple Juice Ball\n"
     ]
    }
   ],
   "source": [
    "item1 , item2 , item3 = shopping_list  #İle istediğimiz değişkene değeri atayabiliriz\n",
    "print(item1,item2,item3)"
   ]
  },
  {
   "cell_type": "code",
   "execution_count": 101,
   "id": "347af60e",
   "metadata": {},
   "outputs": [
    {
     "name": "stdout",
     "output_type": "stream",
     "text": [
      "('Apple', 'Juice')\n"
     ]
    }
   ],
   "source": [
    "print(shopping_list[0:2]) \n",
    "#Slice işlemi yapılır lakin tupple yapısındaki elemanlar değiştirilmez örnek olarak shopping_list[1] = \"Water\" yapılmaz"
   ]
  },
  {
   "cell_type": "code",
   "execution_count": 106,
   "id": "2b15cf19",
   "metadata": {},
   "outputs": [],
   "source": [
    "personel_note = {\"Deniz\":5,\"Merve\": 7}  #İle dictionary sözlük ifadesini tanımlayabiliriz\n",
    "#Sözlüklerde key : value yapısı vardır"
   ]
  },
  {
   "cell_type": "code",
   "execution_count": 107,
   "id": "87e6046c",
   "metadata": {},
   "outputs": [
    {
     "name": "stdout",
     "output_type": "stream",
     "text": [
      "{'Deniz': 5, 'Merve': 7}\n"
     ]
    }
   ],
   "source": [
    "print(personel_note)   #Sözlüğün tümünü yazdırır"
   ]
  },
  {
   "cell_type": "code",
   "execution_count": 111,
   "id": "a5267500",
   "metadata": {},
   "outputs": [
    {
     "name": "stdout",
     "output_type": "stream",
     "text": [
      "5\n"
     ]
    }
   ],
   "source": [
    "print(personel_note[\"Deniz\"])   #Sözlüklerde [key] ile arama yapabiliriz.İndex numarası yazamayız.\n",
    "#Dictionary dışındaki değişkenlerde key yerine index numaraları varmıs gibi düşünebiliriz"
   ]
  },
  {
   "cell_type": "code",
   "execution_count": 112,
   "id": "5f49f93b",
   "metadata": {},
   "outputs": [],
   "source": [
    "inventory = dict()"
   ]
  },
  {
   "cell_type": "code",
   "execution_count": 124,
   "id": "e5976d05",
   "metadata": {},
   "outputs": [],
   "source": [
    "inventory[\"bananas\"] = 250\n",
    "inventory[\"apple\"] = 15"
   ]
  },
  {
   "cell_type": "code",
   "execution_count": 125,
   "id": "865d3aa0",
   "metadata": {},
   "outputs": [
    {
     "name": "stdout",
     "output_type": "stream",
     "text": [
      "{'bananas': 250, 'apple': 15}\n"
     ]
    }
   ],
   "source": [
    "print(inventory)"
   ]
  },
  {
   "cell_type": "code",
   "execution_count": 126,
   "id": "e5eab2a4",
   "metadata": {},
   "outputs": [
    {
     "name": "stdout",
     "output_type": "stream",
     "text": [
      "dict_items([('bananas', 250), ('apple', 15)])\n"
     ]
    }
   ],
   "source": [
    "print(inventory.items())  #ile sözlüğün elemanlarına ulaşabiliriz"
   ]
  },
  {
   "cell_type": "code",
   "execution_count": 127,
   "id": "1080bb6d",
   "metadata": {},
   "outputs": [
    {
     "name": "stdout",
     "output_type": "stream",
     "text": [
      "bananas\n",
      "apple\n"
     ]
    }
   ],
   "source": [
    "for element in inventory:\n",
    "    print(element)"
   ]
  },
  {
   "cell_type": "code",
   "execution_count": 128,
   "id": "fb8aa97e",
   "metadata": {},
   "outputs": [
    {
     "name": "stdout",
     "output_type": "stream",
     "text": [
      "{'bananas': 350, 'apple': 115}\n"
     ]
    }
   ],
   "source": [
    "for key in inventory:\n",
    "    inventory[key] += 100\n",
    "print(inventory)"
   ]
  },
  {
   "cell_type": "code",
   "execution_count": 129,
   "id": "233329c1",
   "metadata": {},
   "outputs": [
    {
     "name": "stdout",
     "output_type": "stream",
     "text": [
      "Too many bananas\n",
      "Enough apple\n"
     ]
    }
   ],
   "source": [
    "for key , value in inventory.items():\n",
    "    if value > 200:\n",
    "        print(\"Too many\",key)\n",
    "    else:\n",
    "        print(\"Enough\",key)"
   ]
  },
  {
   "cell_type": "code",
   "execution_count": 130,
   "id": "2ad2627f",
   "metadata": {},
   "outputs": [
    {
     "name": "stdout",
     "output_type": "stream",
     "text": [
      "20.0\n"
     ]
    }
   ],
   "source": [
    "a = 20\n",
    "print(a/1.0)"
   ]
  },
  {
   "cell_type": "code",
   "execution_count": 131,
   "id": "e009405a",
   "metadata": {},
   "outputs": [
    {
     "name": "stdout",
     "output_type": "stream",
     "text": [
      "20.0\n"
     ]
    }
   ],
   "source": [
    "a = 20\n",
    "print(a*1.0)"
   ]
  },
  {
   "cell_type": "code",
   "execution_count": 132,
   "id": "0980d76e",
   "metadata": {},
   "outputs": [
    {
     "name": "stdout",
     "output_type": "stream",
     "text": [
      "dict_items([('bananas', 350), ('apple', 115)])\n"
     ]
    }
   ],
   "source": [
    "print(inventory.items())"
   ]
  },
  {
   "cell_type": "code",
   "execution_count": 133,
   "id": "09c08631",
   "metadata": {},
   "outputs": [
    {
     "name": "stdout",
     "output_type": "stream",
     "text": [
      "<class 'float'>\n"
     ]
    }
   ],
   "source": [
    "x = 0.2\n",
    "print(type(x))"
   ]
  },
  {
   "cell_type": "code",
   "execution_count": 135,
   "id": "fe262426",
   "metadata": {},
   "outputs": [
    {
     "name": "stdout",
     "output_type": "stream",
     "text": [
      "{'Alex': 11, 'Bella': 12, 'Chris': 12, 'Donna': 10}\n"
     ]
    }
   ],
   "source": [
    "student_age = {\"Alex\":11,\"Bella\":12,\"Chris\":12,\"Donna\":10}\n",
    "for student in student_age.keys():\n",
    "    age = student_age[student]\n",
    "    age += 1\n",
    "print(student_age)"
   ]
  },
  {
   "cell_type": "code",
   "execution_count": 136,
   "id": "acbc492d",
   "metadata": {},
   "outputs": [
    {
     "name": "stdout",
     "output_type": "stream",
     "text": [
      "[0, 1, 4, 9, 16]\n"
     ]
    }
   ],
   "source": [
    "series = range(5)\n",
    "new_series = [num ** 2 for num in series]\n",
    "print(new_series)"
   ]
  },
  {
   "cell_type": "code",
   "execution_count": 137,
   "id": "c6807974",
   "metadata": {},
   "outputs": [
    {
     "name": "stdout",
     "output_type": "stream",
     "text": [
      "[2, 3, 4, 2]\n"
     ]
    }
   ],
   "source": [
    "list_number = [2,5,6,3,4,9,2]\n",
    "new_list = []\n",
    "for number in list_number:\n",
    "    inc_number = number + 1\n",
    "    if inc_number < 6:\n",
    "        new_list.append(number)\n",
    "print(new_list)"
   ]
  },
  {
   "cell_type": "code",
   "execution_count": 138,
   "id": "525c4385",
   "metadata": {},
   "outputs": [],
   "source": [
    "sample_dict = {}"
   ]
  },
  {
   "cell_type": "code",
   "execution_count": 139,
   "id": "bea3a3db",
   "metadata": {},
   "outputs": [
    {
     "name": "stdout",
     "output_type": "stream",
     "text": [
      "<class 'dict'>\n"
     ]
    }
   ],
   "source": [
    "print(type(sample_dict))"
   ]
  },
  {
   "cell_type": "markdown",
   "id": "49acfc74",
   "metadata": {},
   "source": [
    "#### ----------------------------------------------------------------------------------------------------------------------------------"
   ]
  },
  {
   "cell_type": "code",
   "execution_count": 7,
   "id": "718cf604",
   "metadata": {},
   "outputs": [],
   "source": [
    "message_file = open(\"bisiklet.xlsx\",\"r\")   #ile istediğimiz dosyayı açabiliriz"
   ]
  },
  {
   "cell_type": "code",
   "execution_count": 10,
   "id": "8b56386f",
   "metadata": {},
   "outputs": [
    {
     "ename": "ValueError",
     "evalue": "I/O operation on closed file.",
     "output_type": "error",
     "traceback": [
      "\u001b[1;31m---------------------------------------------------------------------------\u001b[0m",
      "\u001b[1;31mValueError\u001b[0m                                Traceback (most recent call last)",
      "Input \u001b[1;32mIn [10]\u001b[0m, in \u001b[0;36m<cell line: 1>\u001b[1;34m()\u001b[0m\n\u001b[1;32m----> 1\u001b[0m content \u001b[38;5;241m=\u001b[39m \u001b[43mmessage_file\u001b[49m\u001b[38;5;241;43m.\u001b[39;49m\u001b[43mread\u001b[49m\u001b[43m(\u001b[49m\u001b[43m)\u001b[49m\n\u001b[0;32m      2\u001b[0m message_file\u001b[38;5;241m.\u001b[39mclose()\n\u001b[0;32m      3\u001b[0m \u001b[38;5;28mprint\u001b[39m(content)\n",
      "\u001b[1;31mValueError\u001b[0m: I/O operation on closed file."
     ]
    }
   ],
   "source": [
    "content = message_file.read()\n",
    "message_file.close()\n",
    "print(content)"
   ]
  },
  {
   "cell_type": "code",
   "execution_count": 11,
   "id": "5d135a2f",
   "metadata": {},
   "outputs": [
    {
     "ename": "NameError",
     "evalue": "name 'mystring' is not defined",
     "output_type": "error",
     "traceback": [
      "\u001b[1;31m---------------------------------------------------------------------------\u001b[0m",
      "\u001b[1;31mNameError\u001b[0m                                 Traceback (most recent call last)",
      "Input \u001b[1;32mIn [11]\u001b[0m, in \u001b[0;36m<cell line: 2>\u001b[1;34m()\u001b[0m\n\u001b[0;32m      1\u001b[0m my_string \u001b[38;5;241m=\u001b[39m \u001b[38;5;124m\"\u001b[39m\u001b[38;5;124mHello World\u001b[39m\u001b[38;5;124m\"\u001b[39m\n\u001b[1;32m----> 2\u001b[0m \u001b[38;5;28mprint\u001b[39m(\u001b[43mmystring\u001b[49m[\u001b[38;5;241m14\u001b[39m])\n",
      "\u001b[1;31mNameError\u001b[0m: name 'mystring' is not defined"
     ]
    }
   ],
   "source": [
    "my_string = \"Hello World\"\n",
    "print(mystring[14])"
   ]
  },
  {
   "cell_type": "code",
   "execution_count": 12,
   "id": "e6359d25",
   "metadata": {},
   "outputs": [],
   "source": [
    "try:\n",
    "    myfile = open(\"myfile.txt\")\n",
    "    myfile.write(\"0\")\n",
    "except:\n",
    "    myfile = open(\"mynewfile.txt\",\"w\")\n",
    "    myfile.write(\"1\")"
   ]
  },
  {
   "cell_type": "code",
   "execution_count": 13,
   "id": "88189b2a",
   "metadata": {},
   "outputs": [],
   "source": [
    "def foo1(num1,num2):\n",
    "    try:\n",
    "        return num1 + num2 + 0/1\n",
    "    except:\n",
    "        return \"NewException\""
   ]
  },
  {
   "cell_type": "code",
   "execution_count": 14,
   "id": "ff0fd565",
   "metadata": {},
   "outputs": [
    {
     "data": {
      "text/plain": [
       "3.0"
      ]
     },
     "execution_count": 14,
     "metadata": {},
     "output_type": "execute_result"
    }
   ],
   "source": [
    "foo1(1,2)"
   ]
  },
  {
   "cell_type": "code",
   "execution_count": 15,
   "id": "f9f6738e",
   "metadata": {},
   "outputs": [
    {
     "name": "stdout",
     "output_type": "stream",
     "text": [
      "e 4\n"
     ]
    }
   ],
   "source": [
    "a=1\n",
    "b=2\n",
    "c=\"3\"\n",
    "\n",
    "try:\n",
    "    print(\"t\",a+c)\n",
    "except:\n",
    "    c = int(c)\n",
    "    print(\"e\",a+c)\n"
   ]
  },
  {
   "cell_type": "code",
   "execution_count": 17,
   "id": "a6e8a6b0",
   "metadata": {},
   "outputs": [
    {
     "name": "stdout",
     "output_type": "stream",
     "text": [
      "1\n",
      "3\n"
     ]
    }
   ],
   "source": [
    "i = 1\n",
    "while True:\n",
    "    print(i)\n",
    "    i += 2\n",
    "    if (i==5):\n",
    "        break"
   ]
  },
  {
   "cell_type": "code",
   "execution_count": null,
   "id": "e2f5b312",
   "metadata": {},
   "outputs": [],
   "source": []
  }
 ],
 "metadata": {
  "kernelspec": {
   "display_name": "Python 3 (ipykernel)",
   "language": "python",
   "name": "python3"
  },
  "language_info": {
   "codemirror_mode": {
    "name": "ipython",
    "version": 3
   },
   "file_extension": ".py",
   "mimetype": "text/x-python",
   "name": "python",
   "nbconvert_exporter": "python",
   "pygments_lexer": "ipython3",
   "version": "3.9.12"
  }
 },
 "nbformat": 4,
 "nbformat_minor": 5
}
